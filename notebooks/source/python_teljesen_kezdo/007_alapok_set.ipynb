{
 "cells": [
  {
   "cell_type": "markdown",
   "id": "949b9aa0",
   "metadata": {
    "nbgrader": {
     "grade": false,
     "grade_id": "cell-7b80c3bb099cfb4c",
     "locked": true,
     "schema_version": 3,
     "solution": false,
     "task": false
    }
   },
   "source": [
    "# 1. feladatsor - set\n",
    "## Lista elemek szűrése\n",
    "\n",
    "Adott az alábbi lista\n",
    "\n",
    "`sample_list = [87, 45, 41, 65, 94, 41, 99, 94]`\n",
    "\n",
    "Távolítsuk el a duplikált elemeket belőle és rendezzük növekvő sorrendbe. Írjuk ki az elemeket.\n",
    "\n",
    "Kiírás:\n",
    "* `44 52 53 54 87`\n",
    "\n",
    "Keressük meg a minimum és maximum értéket. Ezeket írjuk ki a képernyőre.\n",
    "\n",
    "Kiírás:\n",
    "* `44`\n",
    "* `87`"
   ]
  },
  {
   "cell_type": "code",
   "execution_count": 5,
   "id": "61472f89",
   "metadata": {
    "nbgrader": {
     "grade": false,
     "grade_id": "cell-84721ecb4b633c21",
     "locked": false,
     "schema_version": 3,
     "solution": true,
     "task": false
    }
   },
   "outputs": [
    {
     "name": "stdout",
     "output_type": "stream",
     "text": [
      "44 52 53 54 87 \n",
      "44\n",
      "87\n"
     ]
    }
   ],
   "source": [
    "sample_list = [87, 52, 44, 53, 54, 87, 52, 53]\n",
    "### BEGIN SOLUTION\n",
    "sample_list = list(set(sample_list))\n",
    "for e in sample_list:\n",
    "    print(e, end=' ')\n",
    "print()\n",
    "print(min(sample_list))\n",
    "print(max(sample_list))\n",
    "### END SOLUTION"
   ]
  },
  {
   "cell_type": "code",
   "execution_count": 6,
   "id": "6da65b42",
   "metadata": {
    "nbgrader": {
     "grade": true,
     "grade_id": "cell-0bede469175bd15d",
     "locked": true,
     "points": 1,
     "schema_version": 3,
     "solution": false,
     "task": false
    }
   },
   "outputs": [],
   "source": [
    "solution = %solution\n",
    "\n",
    "assert_true(len(solution) == 3)\n",
    "assert_equal(solution[0].strip(), \"44 52 53 54 87\")\n",
    "assert_equal(solution[1].strip(), \"44\")\n",
    "assert_equal(solution[2].strip(), \"87\")"
   ]
  },
  {
   "cell_type": "markdown",
   "id": "47a21e4e",
   "metadata": {
    "nbgrader": {
     "grade": false,
     "grade_id": "cell-1522c269725162cf",
     "locked": true,
     "schema_version": 3,
     "solution": false,
     "task": false
    }
   },
   "source": [
    "## Párok\n",
    "\n",
    "Adott két lista aminek azonos a mérete. Írd ki az összes olyan párt amit a két lista elemeiből lehet alkotni. Csak az egyedi párokat tartsd meg. Az eredményt tárold a `result` változóban!\n",
    "\n",
    "\n",
    "Első lista `[2, 3, 4, 5, 6, 7, 8]`\n",
    "\n",
    "Második lista `[4, 9, 16, 25, 36, 49, 64]`\n",
    "\n",
    "Eredmény `{(6, 36), (8, 64), (4, 16), (5, 25), (3, 9), (7, 49), (2, 4)}`"
   ]
  },
  {
   "cell_type": "code",
   "execution_count": 11,
   "id": "0bd0182f",
   "metadata": {
    "nbgrader": {
     "grade": false,
     "grade_id": "cell-1bc5a980cd583d68",
     "locked": false,
     "schema_version": 3,
     "solution": true,
     "task": false
    }
   },
   "outputs": [
    {
     "name": "stdout",
     "output_type": "stream",
     "text": [
      "{(7, 49), (2, 4), (4, 16), (8, 64), (6, 36), (3, 9), (5, 25)}\n"
     ]
    }
   ],
   "source": [
    "first_list = [2, 3, 4, 5, 6, 7, 8]\n",
    "second_list = [4, 9, 16, 25, 36, 49, 64]\n",
    "result = None\n",
    "### BEGIN SOLUTION\n",
    "result = set(zip(first_list, second_list))\n",
    "### END SOLUTION\n",
    "print(result)"
   ]
  },
  {
   "cell_type": "code",
   "execution_count": 12,
   "id": "aaadb160",
   "metadata": {
    "nbgrader": {
     "grade": true,
     "grade_id": "cell-4d96a53f5f5e00fb",
     "locked": true,
     "points": 1,
     "schema_version": 3,
     "solution": false,
     "task": false
    }
   },
   "outputs": [],
   "source": [
    "solution = %solution\n",
    "\n",
    "assert_equal(result, {(7, 49), (2, 4), (4, 16), (8, 64), (6, 36), (3, 9), (5, 25)})"
   ]
  }
 ],
 "metadata": {
  "celltoolbar": "Create Assignment",
  "kernelspec": {
   "display_name": "Python 3",
   "language": "python",
   "name": "python3"
  },
  "language_info": {
   "codemirror_mode": {
    "name": "ipython",
    "version": 3
   },
   "file_extension": ".py",
   "mimetype": "text/x-python",
   "name": "python",
   "nbconvert_exporter": "python",
   "pygments_lexer": "ipython3",
   "version": "3.9.2"
  }
 },
 "nbformat": 4,
 "nbformat_minor": 5
}
