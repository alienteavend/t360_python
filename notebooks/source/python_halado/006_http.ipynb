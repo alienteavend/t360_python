{
 "cells": [
  {
   "cell_type": "markdown",
   "id": "7e831baa",
   "metadata": {
    "nbgrader": {
     "grade": false,
     "grade_id": "cell-5375f4ecc23ddd68",
     "locked": true,
     "schema_version": 3,
     "solution": false,
     "task": false
    }
   },
   "source": [
    "# 1. feladatsor - HTTP kezelés\n",
    "## Viccek\n",
    "\n",
    "Készíts egy Python vicc mesélő alkalmazást ami a JokeAPI v2 szerviz-t használja.\n",
    "\n",
    "https://sv443.net/jokeapi/v2\n",
    "\n",
    "Az alkalmazás legyen képes lekérdezni újabb vicceket amíg a felhasználó ki nem lép belőle. Oldd meg, hogy az egyrészes és kétrészes viccek is megjeleníthetőek legyenek. A kétrészes vicceknél, a csattanót ne írd ki addig amíg a felhasználó azt nem kéri (plusz egy enter).\n",
    "\n",
    "A feladatot nem tudod itt tesztelni. Írd meg külön, és vesd össze a megoldással.\n"
   ]
  },
  {
   "cell_type": "code",
   "execution_count": null,
   "id": "1746a287",
   "metadata": {
    "nbgrader": {
     "grade": true,
     "grade_id": "cell-603d3addbdcd7e68",
     "locked": false,
     "points": 1,
     "schema_version": 3,
     "solution": true,
     "task": false
    }
   },
   "outputs": [],
   "source": []
  },
  {
   "cell_type": "code",
   "execution_count": 1,
   "id": "95f41ca7",
   "metadata": {
    "nbgrader": {
     "grade": false,
     "grade_id": "cell-9897d952a40b410e",
     "locked": true,
     "schema_version": 3,
     "solution": false,
     "task": false
    }
   },
   "outputs": [
    {
     "name": "stdout",
     "output_type": "stream",
     "text": [
      "Another joke? (yes/no)yes\n",
      "Four engineers get into a car. The car won't start.\n",
      "The Mechanical engineer says \"It's a broken starter\".\n",
      "The Electrical engineer says \"Dead battery\".\n",
      "The Chemical engineer says \"Impurities in the gasoline\".\n",
      "The IT engineer says \"Hey guys, I have an idea: How about we all get out of the car and get back in\".\n",
      "Another joke? (yes/no)yes\n",
      "What are bits?\n",
      "<press enter>\n",
      "\n",
      "Tiny things left when you drop your computer down the stairs.\n",
      "Another joke? (yes/no)no\n"
     ]
    }
   ],
   "source": [
    "import requests\n",
    "import json\n",
    "import pprint\n",
    "\n",
    "url = \"https://sv443.net/jokeapi/v2\"\n",
    "path = \"/joke/Programming\"\n",
    "params = {'blacklistFlags': 'nsfw,religious,political,racist,sexist'}\n",
    "\n",
    "headers = { 'Accept': 'application/json' }\n",
    "\n",
    "while True:\n",
    "    key = input(\"Another joke? (yes/no)\")\n",
    "    if key == \"no\":\n",
    "        break\n",
    "        \n",
    "    response = requests.request(\"GET\", url + path, headers=headers, params=params)\n",
    "    joke = response.json()\n",
    "    \n",
    "    if joke['type'] == 'twopart':\n",
    "        print(joke['setup'] + '\\n<press enter>')\n",
    "        input('')\n",
    "        print(joke['delivery'])\n",
    "    else:\n",
    "        print(joke['joke'])"
   ]
  },
  {
   "cell_type": "code",
   "execution_count": 3,
   "id": "0532d2ef",
   "metadata": {
    "nbgrader": {
     "grade": true,
     "grade_id": "cell-b99080c958e396ff",
     "locked": true,
     "points": 1,
     "schema_version": 3,
     "solution": false,
     "task": false
    }
   },
   "outputs": [],
   "source": [
    "solution = %solution\n",
    "\n",
    "assert_true(len(solution) > 0 )"
   ]
  },
  {
   "cell_type": "markdown",
   "id": "059768e9",
   "metadata": {
    "nbgrader": {
     "grade": false,
     "grade_id": "cell-9624a543ddb88ce9",
     "locked": true,
     "schema_version": 3,
     "solution": false,
     "task": false
    }
   },
   "source": [
    "# 2. feladatsor - Asszinkron HTTP kliens\n",
    "## Időjárás\n",
    "\n",
    "Alakítsd át az előzőekben elkészített Python vicc mesélő alkalmazást, hogy aiohttp-t használjon.\n",
    "\n",
    "\n",
    "A feladatot nem tudod itt tesztelni. Írd meg külön, és vesd össze a megoldással."
   ]
  },
  {
   "cell_type": "code",
   "execution_count": null,
   "id": "46157bc6",
   "metadata": {
    "nbgrader": {
     "grade": true,
     "grade_id": "cell-c6043aebe29386b4",
     "locked": false,
     "points": 0,
     "schema_version": 3,
     "solution": true,
     "task": false
    }
   },
   "outputs": [],
   "source": []
  },
  {
   "cell_type": "code",
   "execution_count": 6,
   "id": "743f545d",
   "metadata": {
    "nbgrader": {
     "grade": false,
     "grade_id": "cell-9fa7d20a5c2a5066",
     "locked": true,
     "schema_version": 3,
     "solution": false,
     "task": false
    }
   },
   "outputs": [
    {
     "data": {
      "text/plain": [
       "<Task pending name='Task-1' coro=<main() running at <ipython-input-6-9420433b4728>:18>>"
      ]
     },
     "execution_count": 6,
     "metadata": {},
     "output_type": "execute_result"
    },
    {
     "name": "stdout",
     "output_type": "stream",
     "text": [
      "Another joke? (yes/no)"
     ]
    }
   ],
   "source": [
    "import aiohttp\n",
    "import asyncio\n",
    "\n",
    "url = \"https://sv443.net/jokeapi/v2\"\n",
    "path = \"/joke/Programming\"\n",
    "params = {'blacklistFlags': 'nsfw,religious,political,racist,sexist'}\n",
    "\n",
    "headers = { 'Accept': 'application/json' }\n",
    "\n",
    "async def fetch_joke():\n",
    "    async with aiohttp.ClientSession() as session:\n",
    "        async with session.get(url + path, params=params) as r:\n",
    "            if r.status == 200:\n",
    "                return await r.json()\n",
    "            else:\n",
    "                return r.status_code\n",
    "            \n",
    "async def main():\n",
    "    while True:\n",
    "        key = input(\"Another joke? (yes/no)\")\n",
    "        if key == \"no\":\n",
    "            exit(0)\n",
    "            \n",
    "        joke = await fetch_joke()\n",
    "\n",
    "        if joke['type'] == 'twopart':\n",
    "            print(joke['setup'] + '\\n<press enter>')\n",
    "            input('')\n",
    "            print(joke['delivery'])\n",
    "        else:\n",
    "            print(joke['joke'])\n",
    "            \n",
    "# asyncio.run(main())"
   ]
  }
 ],
 "metadata": {
  "celltoolbar": "Create Assignment",
  "kernelspec": {
   "display_name": "Python 3",
   "language": "python",
   "name": "python3"
  },
  "language_info": {
   "codemirror_mode": {
    "name": "ipython",
    "version": 3
   },
   "file_extension": ".py",
   "mimetype": "text/x-python",
   "name": "python",
   "nbconvert_exporter": "python",
   "pygments_lexer": "ipython3",
   "version": "3.9.2"
  }
 },
 "nbformat": 4,
 "nbformat_minor": 5
}
