{
 "cells": [
  {
   "cell_type": "markdown",
   "id": "949b9aa0",
   "metadata": {
    "nbgrader": {
     "grade": false,
     "grade_id": "cell-7b80c3bb099cfb4c",
     "locked": true,
     "schema_version": 3,
     "solution": false,
     "task": false
    }
   },
   "source": [
    "# 1. feladatsor - OOP\n",
    "## Személyek típusa\n",
    "\n",
    "Írj egy Python programot ami képes személyek adatát tárolni a memóriában. A megvalósításban használj osztályt (`Person` néven).\n",
    "\n",
    "A Person típusban el kell tudni tárolni a személy kereszt- és vezetéknevét, életkorát, címét (használj példány változókat a következő neveken:)\n",
    "\n",
    "`fname, lname, age, address`"
   ]
  },
  {
   "cell_type": "code",
   "execution_count": 1,
   "id": "61472f89",
   "metadata": {
    "nbgrader": {
     "grade": false,
     "grade_id": "cell-84721ecb4b633c21",
     "locked": false,
     "schema_version": 3,
     "solution": true,
     "task": false
    }
   },
   "outputs": [],
   "source": [
    "## BEGIN SOLUTION\n",
    "class Person:\n",
    "    def __init__(self, fname, lname, age, address):\n",
    "        self.fname = fname\n",
    "        self.lname = lname\n",
    "        self.age = age\n",
    "        self.address = address\n",
    "### END SOLUTION\n",
    "p1 = Person('Istvan', 'Kiss', 55, '1111, Bp, Nagy Utca 8')"
   ]
  },
  {
   "cell_type": "code",
   "execution_count": 2,
   "id": "6da65b42",
   "metadata": {
    "nbgrader": {
     "grade": true,
     "grade_id": "cell-0bede469175bd15d",
     "locked": true,
     "points": 1,
     "schema_version": 3,
     "solution": false,
     "task": false
    }
   },
   "outputs": [],
   "source": [
    "solution = %solution\n",
    "assert_equal(p1.fname, \"Istvan\")\n",
    "assert_equal(p1.lname, \"Kiss\")\n",
    "assert_equal(p1.age, 55)\n",
    "assert_equal(p1.address, \"1111, Bp, Nagy Utca 8\")"
   ]
  },
  {
   "cell_type": "markdown",
   "id": "47a21e4e",
   "metadata": {
    "nbgrader": {
     "grade": false,
     "grade_id": "cell-1522c269725162cf",
     "locked": true,
     "schema_version": 3,
     "solution": false,
     "task": false
    }
   },
   "source": [
    "## Személy típus viselkedése\n",
    "\n",
    "Az Person objektum legyen képes vissza adni a teljes nevét a személynek (használj példány metódust, legyen a neve `get_name`)\n"
   ]
  },
  {
   "cell_type": "code",
   "execution_count": 6,
   "id": "0bd0182f",
   "metadata": {
    "nbgrader": {
     "grade": false,
     "grade_id": "cell-1bc5a980cd583d68",
     "locked": false,
     "schema_version": 3,
     "solution": true,
     "task": false
    }
   },
   "outputs": [
    {
     "data": {
      "text/plain": [
       "'Istvan Kiss'"
      ]
     },
     "execution_count": 6,
     "metadata": {},
     "output_type": "execute_result"
    }
   ],
   "source": [
    "# Masold ide az elozo feladatban megirt osztalyt, es azt egeszitsd ki\n",
    "\n",
    "### BEGIN SOLUTION\n",
    "class Person:\n",
    "    def __init__(self, fname, lname, age, address):\n",
    "        self.fname = fname\n",
    "        self.lname = lname\n",
    "        self.age = age\n",
    "        self.address = address\n",
    "    \n",
    "    def get_name(self):\n",
    "        return f'{self.fname} {self.lname}'\n",
    "### END SOLUTION\n",
    "p1 = Person('Istvan', 'Kiss', 55, '1111, Bp, Nagy Utca 8')\n",
    "p1.get_name()"
   ]
  },
  {
   "cell_type": "code",
   "execution_count": 7,
   "id": "aaadb160",
   "metadata": {
    "nbgrader": {
     "grade": true,
     "grade_id": "cell-4d96a53f5f5e00fb",
     "locked": true,
     "points": 1,
     "schema_version": 3,
     "solution": false,
     "task": false
    }
   },
   "outputs": [],
   "source": [
    "solution = %solution\n",
    "\n",
    "assert_equal(p1.get_name(), \"Istvan Kiss\")\n"
   ]
  },
  {
   "cell_type": "markdown",
   "id": "52211d80",
   "metadata": {
    "nbgrader": {
     "grade": false,
     "grade_id": "cell-53ee597c68e6289b",
     "locked": true,
     "schema_version": 3,
     "solution": false,
     "task": false
    }
   },
   "source": [
    "## Személy típus kiíratás\n",
    "\n",
    "A Person objektum legyen szépen printelhető."
   ]
  },
  {
   "cell_type": "code",
   "execution_count": 10,
   "id": "f76a2e24",
   "metadata": {
    "nbgrader": {
     "grade": false,
     "grade_id": "cell-fa28ec479ae79a9b",
     "locked": false,
     "schema_version": 3,
     "solution": true,
     "task": false
    }
   },
   "outputs": [
    {
     "name": "stdout",
     "output_type": "stream",
     "text": [
      "Person: Istvan Kiss 55 1111, Bp, Nagy Utca 8\n"
     ]
    }
   ],
   "source": [
    "# Masold ide az elozo feladatban megirt osztalyt, es azt egeszitsd ki\n",
    "\n",
    "### BEGIN SOLUTION\n",
    "class Person:\n",
    "    def __init__(self, fname, lname, age, address):\n",
    "        self.fname = fname\n",
    "        self.lname = lname\n",
    "        self.age = age\n",
    "        self.address = address\n",
    "    \n",
    "    def get_name(self):\n",
    "        return f'{self.fname} {self.lname}'\n",
    "    \n",
    "    def __str__(self):\n",
    "        return f'Person: {self.get_name()} {self.age} {self.address}'\n",
    "    \n",
    "### END SOLUTION\n",
    "p1 = Person('Istvan', 'Kiss', 55, '1111, Bp, Nagy Utca 8')\n",
    "p1.get_name()\n",
    "print(p1)"
   ]
  },
  {
   "cell_type": "code",
   "execution_count": 11,
   "id": "cd7440fb",
   "metadata": {
    "nbgrader": {
     "grade": true,
     "grade_id": "cell-7b5025d3c59272e8",
     "locked": true,
     "points": 1,
     "schema_version": 3,
     "solution": false,
     "task": false
    }
   },
   "outputs": [],
   "source": [
    "solution = %solution\n",
    "\n",
    "assert_true(Person.__str__ is not object.__str__)"
   ]
  },
  {
   "cell_type": "markdown",
   "id": "842c928a",
   "metadata": {
    "nbgrader": {
     "grade": false,
     "grade_id": "cell-256281cde98e44f2",
     "locked": true,
     "schema_version": 3,
     "solution": false,
     "task": false
    }
   },
   "source": [
    "# 2. feladatsor - Öröklődés\n",
    "\n",
    "Egészítsük ki a `Person` példát egy `Employee` és egy `Manager` leszármazott osztállyal.\n",
    "\n",
    "Az `Employee` osztály egy olyan személyt valósít meg aki alkalmazott. Ennek megfelelően kell tárolnod a fizetését és a beosztását, és főnökét (`Manager`). (használj példány változókat)\n",
    "\n",
    "`fname, lname, age, address, salary, role, manager`\n",
    "\n",
    "Nem mindenkinek van egyből főnöke, legyen ez opcionálisan megadható. Ha valaki példányosítás után akarja megadni, legyen erre egy `set_manager` belső fuknció a `Employee` osztályon.\n",
    "\n",
    "---\n",
    "\n",
    "\n",
    "A `Manager` osztály egy olyan személyt valósít meg aki foglalkoztat `Employee`kat. Tárolj a `Manager` osztályban egy `Employee` listat ami a beosztottakat tartalmazza. Legyen egy olyan függvénye, ami kiírja az összes beosztottját (`print_employees`).\n",
    "\n",
    "`fname, lname, age, address, employees`\n",
    "\n",
    "Lehessen szépen kiírni az `Employee` osztály és a `Manager` osztály példányainak főbb állapotát a print() függvénnyel."
   ]
  },
  {
   "cell_type": "code",
   "execution_count": 13,
   "id": "c91c25de",
   "metadata": {
    "nbgrader": {
     "grade": false,
     "grade_id": "cell-418b00a802b0b724",
     "locked": false,
     "schema_version": 3,
     "solution": true,
     "task": false
    }
   },
   "outputs": [
    {
     "name": "stdout",
     "output_type": "stream",
     "text": [
      "Person: Istvan Kiss 55 1111, Bp, Nagy Utca 8\n",
      "Employee: Istvan Kiss developer None\n",
      "Manager: Istvan Kiss (1)\n",
      "\t Employee: Istvan Kiss developer Manager: Istvan Kiss (1)\n"
     ]
    }
   ],
   "source": [
    "### BEGIN SOLUTION\n",
    "class Employee(Person):\n",
    "    def __init__(self, fname, lname, age, address, salary, role, manager=None):\n",
    "        super(Employee, self).__init__(fname, lname, age, address)\n",
    "        self.salary = salary\n",
    "        self.role = role\n",
    "        self.manager = manager\n",
    "\n",
    "    def set_manager(self, manager):\n",
    "        self.manager = manager\n",
    "        \n",
    "    def __str__(self):\n",
    "        return f'Employee: {self.get_name()} {self.role} {self.manager}'\n",
    "\n",
    "\n",
    "class Manager(Person):\n",
    "    def __init__(self, fname, lname, age, address, employees):\n",
    "        super(Manager, self).__init__(fname, lname, age, address)\n",
    "        self.employees = employees\n",
    "\n",
    "    def __str__(self):\n",
    "        return f'Manager: {self.get_name()} ({len(self.employees)})'\n",
    "\n",
    "    def print_employees(self):\n",
    "        for emp in self.employees:\n",
    "            print(f'\\t {emp}')\n",
    "    \n",
    "### END SOLUTION\n",
    "p1 = Person('Istvan', 'Kiss', 55, '1111, Bp, Nagy Utca 8')\n",
    "\n",
    "print(p1)\n",
    "\n",
    "e1 = Employee('Istvan', 'Kiss', 55, '1111, Bp, Nagy Utca 8', 1000.0, 'developer')\n",
    "print(e1)\n",
    "\n",
    "m1 = Manager('Istvan', 'Kiss', 55, '1111, Bp, Nagy Utca 8', [e1])\n",
    "print(m1)\n",
    "\n",
    "e1.set_manager(m1)\n",
    "m1.print_employees()"
   ]
  },
  {
   "cell_type": "code",
   "execution_count": 17,
   "id": "9a064e38",
   "metadata": {
    "nbgrader": {
     "grade": true,
     "grade_id": "cell-f9590ac80e179b46",
     "locked": true,
     "points": 0,
     "schema_version": 3,
     "solution": false,
     "task": false
    }
   },
   "outputs": [],
   "source": [
    "solution = %solution\n",
    "\n",
    "assert_true(Employee.__str__ is not object.__str__)\n",
    "assert_true(Manager.__str__ is not object.__str__)\n",
    "assert_equal(e1.manager, m1) \n",
    "assert_true(type(m1.employees) == list) \n",
    "assert_equal(m1.employees[0], e1) "
   ]
  }
 ],
 "metadata": {
  "celltoolbar": "Create Assignment",
  "kernelspec": {
   "display_name": "Python 3",
   "language": "python",
   "name": "python3"
  },
  "language_info": {
   "codemirror_mode": {
    "name": "ipython",
    "version": 3
   },
   "file_extension": ".py",
   "mimetype": "text/x-python",
   "name": "python",
   "nbconvert_exporter": "python",
   "pygments_lexer": "ipython3",
   "version": "3.9.2"
  }
 },
 "nbformat": 4,
 "nbformat_minor": 5
}
