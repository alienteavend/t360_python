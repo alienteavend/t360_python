{
 "cells": [
  {
   "cell_type": "markdown",
   "id": "c4f337c4",
   "metadata": {
    "nbgrader": {
     "grade": false,
     "grade_id": "cell-dcb914cdf8a5262e",
     "locked": true,
     "schema_version": 3,
     "solution": false,
     "task": false
    }
   },
   "source": [
    "# Fizz-buzz:\n",
    "Írjuk ki a számokat 1-100 ig (az 1 és a 100 is legyen benne), mindet új sorba.\n",
    "- Amikor 3-al osztható számot írnánk ki, akkor helyette írjuk, hogy: \"fizz\"\n",
    "- Amikor 5-el osztható számot írnánk ki, akkor helyette írjuk, hogy: \"buzz\"\n",
    "- Amikor 3-al és 5-el IS osztható számot írnánk ki, akkor helyette írjuk, hogy: \"fizzbuzz\""
   ]
  },
  {
   "cell_type": "code",
   "execution_count": null,
   "id": "0b7fb37b",
   "metadata": {
    "nbgrader": {
     "grade": false,
     "grade_id": "cell-206d287f411579f0",
     "locked": true,
     "schema_version": 3,
     "solution": false,
     "task": false
    }
   },
   "outputs": [],
   "source": [
    "# Ez a resz csak az automatikus tesztekhez kell, futtassuk le\n",
    "from io import StringIO \n",
    "import sys\n",
    "import base64\n",
    "\n",
    "\n",
    "def decode(target: str) -> str:\n",
    "    decodedBytes = base64.b64decode(target)\n",
    "    decodedStr = str(decodedBytes, \"utf-8\")\n",
    "    return decodedStr\n",
    "\n",
    "\n",
    "def encode(target: str) -> str:\n",
    "    encodedBytes = base64.b64encode(target.encode(\"utf-8\"))\n",
    "    encodedStr = str(encodedBytes, \"utf-8\")\n",
    "    return encodedStr\n",
    "\n",
    "\n",
    "class Solution(list):\n",
    "    def __enter__(self):\n",
    "        self._stdout = sys.stdout\n",
    "        sys.stdout = self._stringio = StringIO()\n",
    "        return self\n",
    "    def __exit__(self, *args):\n",
    "        self.extend(self._stringio.getvalue().splitlines())\n",
    "        del self._stringio    # free up some memory\n",
    "        sys.stdout = self._stdout"
   ]
  },
  {
   "cell_type": "code",
   "execution_count": null,
   "id": "6e2c0e24",
   "metadata": {
    "nbgrader": {
     "grade": false,
     "grade_id": "cell-36c1636cf11e71bd",
     "locked": false,
     "schema_version": 3,
     "solution": true,
     "task": false
    }
   },
   "outputs": [],
   "source": [
    "with Solution() as solution:\n",
    "    ### BEGIN SOLUTION\n",
    "    for i in range(1,101):\n",
    "        if i % 3 == 0 and i % 5 == 0:\n",
    "            print(\"fizzbuzz\")\n",
    "        elif i % 3 == 0:\n",
    "            print(\"fizz\")\n",
    "        elif i % 5 == 0:\n",
    "            print(\"buzz\")\n",
    "        else:\n",
    "            print(i)\n",
    "    ### END SOLUTION\n",
    "print(solution)"
   ]
  },
  {
   "cell_type": "code",
   "execution_count": null,
   "id": "e993ab52",
   "metadata": {
    "nbgrader": {
     "grade": true,
     "grade_id": "cell-e8fea7c791a65945",
     "locked": true,
     "points": 0,
     "schema_version": 3,
     "solution": false,
     "task": false
    }
   },
   "outputs": [],
   "source": [
    "from nose.tools import assert_equal, assert_true\n",
    "\n",
    "assert_equal(solution[0], '1')\n",
    "assert_equal(solution[1], '2')\n",
    "assert_equal(solution[2], 'fizz')\n",
    "assert_equal(solution[3], '4')\n",
    "assert_equal(solution[4], 'buzz')\n",
    "assert_equal(solution[14], 'fizzbuzz')\n",
    "assert_equal(\n",
    "            \"\\n\".join(solution)\n",
    "            , decode(\"MQoyCmZpenoKNApidXp6CmZpenoKNwo4CmZpenoKYnV6egoxMQpmaXp6CjEzCjE0CmZpenpidXp6CjE2CjE3CmZpenoKMTkKYnV6egpmaXp6CjIyCjIzCmZpenoKYnV6egoyNgpmaXp6CjI4CjI5CmZpenpidXp6CjMxCjMyCmZpenoKMzQKYnV6egpmaXp6CjM3CjM4CmZpenoKYnV6ego0MQpmaXp6CjQzCjQ0CmZpenpidXp6CjQ2CjQ3CmZpenoKNDkKYnV6egpmaXp6CjUyCjUzCmZpenoKYnV6ego1NgpmaXp6CjU4CjU5CmZpenpidXp6CjYxCjYyCmZpenoKNjQKYnV6egpmaXp6CjY3CjY4CmZpenoKYnV6ego3MQpmaXp6CjczCjc0CmZpenpidXp6Cjc2Cjc3CmZpenoKNzkKYnV6egpmaXp6CjgyCjgzCmZpenoKYnV6ego4NgpmaXp6Cjg4Cjg5CmZpenpidXp6CjkxCjkyCmZpenoKOTQKYnV6egpmaXp6Cjk3Cjk4CmZpenoKYnV6eg==\")\n",
    "        )"
   ]
  }
 ],
 "metadata": {
  "celltoolbar": "Create Assignment",
  "kernelspec": {
   "display_name": "Python 3",
   "language": "python",
   "name": "python3"
  },
  "language_info": {
   "codemirror_mode": {
    "name": "ipython",
    "version": 3
   },
   "file_extension": ".py",
   "mimetype": "text/x-python",
   "name": "python",
   "nbconvert_exporter": "python",
   "pygments_lexer": "ipython3",
   "version": "3.9.2"
  }
 },
 "nbformat": 4,
 "nbformat_minor": 5
}
