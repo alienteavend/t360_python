{
 "cells": [
  {
   "cell_type": "markdown",
   "id": "58070fae",
   "metadata": {
    "nbgrader": {
     "grade": false,
     "grade_id": "cell-1ee533b61f664629",
     "locked": true,
     "schema_version": 3,
     "solution": false,
     "task": false
    }
   },
   "source": [
    "# 1. feladatsor - Ciklusok\n",
    "\n",
    "## Felhasználónév és jelszó\n",
    "Írj programot, amely addig kér felhasználónevet és jelszót, amíg kellően erős adatokat nem adunk meg.\n",
    "\n",
    "Felhasználónév legalább 6 karakter, jelszó legalább nyolc karakter, nem egyezik a felhasználónévvel.)"
   ]
  },
  {
   "cell_type": "code",
   "execution_count": null,
   "id": "9837c1d8",
   "metadata": {
    "nbgrader": {
     "grade": false,
     "grade_id": "cell-99da8cea42168c47",
     "locked": false,
     "schema_version": 3,
     "solution": true,
     "task": false
    }
   },
   "outputs": [],
   "source": [
    "username = None\n",
    "password = None\n",
    "\n",
    "### BEGIN SOLUTION\n",
    "while True:\n",
    "    username = input('username: ')\n",
    "    password = input('password: ')\n",
    "\n",
    "    if len(username) >= 6 and len(password) >= 8 and username != password:\n",
    "        break\n",
    "### END SOLUTION"
   ]
  },
  {
   "cell_type": "code",
   "execution_count": null,
   "id": "2640e0cf",
   "metadata": {
    "nbgrader": {
     "grade": true,
     "grade_id": "cell-67adc014e0d56af4",
     "locked": true,
     "points": 1,
     "schema_version": 3,
     "solution": false,
     "task": false
    }
   },
   "outputs": [],
   "source": [
    "solution = %solution\n",
    "\n",
    "assert_true(username is not None and password is not None)\n",
    "assert_true(len(username) >= 6 and len(password) >= 8 and username != password)"
   ]
  },
  {
   "cell_type": "markdown",
   "id": "cafb3cea",
   "metadata": {
    "nbgrader": {
     "grade": false,
     "grade_id": "cell-cc93c17982c20d2a",
     "locked": true,
     "schema_version": 3,
     "solution": false,
     "task": false
    }
   },
   "source": [
    "## Sorminta\n",
    "\n",
    "Készíts egy programot, ami képes a következő sormintát kirajzolni:\n",
    "\n",
    "`sorok = 5`\n",
    "\n",
    "\n",
    "`#\n",
    "##\n",
    "###\n",
    "####\n",
    "#####\n",
    "`"
   ]
  },
  {
   "cell_type": "code",
   "execution_count": null,
   "id": "4bdef4ec",
   "metadata": {
    "nbgrader": {
     "grade": false,
     "grade_id": "cell-7e8fc91bf1391d0c",
     "locked": false,
     "schema_version": 3,
     "solution": true,
     "task": false
    }
   },
   "outputs": [],
   "source": [
    "sorok = 5\n",
    "\n",
    "### BEGIN SOLUTION\n",
    "for i in range(1, sorok + 1):\n",
    "    print(\"#\" * i)\n",
    "### END SOLUTION"
   ]
  },
  {
   "cell_type": "code",
   "execution_count": null,
   "id": "5558bdac",
   "metadata": {
    "nbgrader": {
     "grade": true,
     "grade_id": "cell-8f82ba6dd106d32a",
     "locked": true,
     "points": 1,
     "schema_version": 3,
     "solution": false,
     "task": false
    }
   },
   "outputs": [],
   "source": [
    "solution = %solution\n",
    "assert_equal(solution[0], \"#\")\n",
    "assert_equal(solution[1], \"##\")\n",
    "assert_equal(solution[2], \"###\")\n",
    "assert_equal(solution[3], \"####\")\n",
    "assert_equal(solution[4], \"#####\")"
   ]
  },
  {
   "cell_type": "markdown",
   "id": "fd2ab938",
   "metadata": {
    "nbgrader": {
     "grade": false,
     "grade_id": "cell-1ce8f98451e7c900",
     "locked": true,
     "schema_version": 3,
     "solution": false,
     "task": false
    }
   },
   "source": [
    "## Szám kitalálás\n",
    "\n",
    "Írj programot, amely 1 és 100 közt gondol egy véletlen számra. Tippet kér a felhasználótól, és kiírja, hogy\n",
    "a gondolt szám nagyobb-e vagy kisebb. Ha a felhasználó eltalálja a gondolt számot, akkor a program gratulál, és a\n",
    "futásának vége szakad (ezt a `Gratulalok eltalaltad` kiírásával tegye meg)."
   ]
  },
  {
   "cell_type": "code",
   "execution_count": null,
   "id": "e1bebd6a",
   "metadata": {
    "nbgrader": {
     "grade": false,
     "grade_id": "cell-0058d833213a1604",
     "locked": false,
     "schema_version": 3,
     "solution": true,
     "task": false
    }
   },
   "outputs": [],
   "source": [
    "import random\n",
    "\n",
    "szam = None\n",
    "\n",
    "### BEGIN SOLUTION\n",
    "szam = random.randint(1, 100)\n",
    "\n",
    "while True:\n",
    "    s = int(input('na milyen szamra gondoltam? '))\n",
    "    if s == szam:\n",
    "        print('Gratulalok eltalaltad')\n",
    "        break\n",
    "    elif s > szam:\n",
    "        print('Nem talalt, ennel kissebb!')\n",
    "    else:\n",
    "        print('Nem talalt, ennel nagyobb')\n",
    "### END SOLUTION"
   ]
  },
  {
   "cell_type": "code",
   "execution_count": null,
   "id": "6f08e620",
   "metadata": {
    "nbgrader": {
     "grade": true,
     "grade_id": "cell-9ce09057eaf32821",
     "locked": true,
     "points": 0,
     "schema_version": 3,
     "solution": false,
     "task": false
    }
   },
   "outputs": [],
   "source": [
    "solution = %solution\n",
    "\n",
    "assert_true(type(szam) == int)\n",
    "assert_true(len(solution))\n",
    "assert_true(solution[-1] == 'Gratulalok eltalaltad')"
   ]
  },
  {
   "cell_type": "markdown",
   "id": "5cbb2931",
   "metadata": {
    "nbgrader": {
     "grade": false,
     "grade_id": "cell-75c28b32b64704ee",
     "locked": true,
     "schema_version": 3,
     "solution": false,
     "task": false
    }
   },
   "source": [
    "## Számoló\n",
    "\n",
    "Készíts egy programot, ami `while` ciklust használ, hogy a 1-1000 5el osztható számokat összeadja a `my_sum` változóba."
   ]
  },
  {
   "cell_type": "code",
   "execution_count": 4,
   "id": "4ac40bb2",
   "metadata": {
    "nbgrader": {
     "grade": false,
     "grade_id": "cell-cc810269a1dd3747",
     "locked": false,
     "schema_version": 3,
     "solution": true,
     "task": false
    }
   },
   "outputs": [
    {
     "name": "stdout",
     "output_type": "stream",
     "text": [
      "100500\n"
     ]
    }
   ],
   "source": [
    "my_sum = 0\n",
    "\n",
    "### BEGIN SOLUTION\n",
    "counter = 1\n",
    "while True:\n",
    "    if counter > 1000:\n",
    "        break\n",
    "        \n",
    "    if counter % 5 != 0:\n",
    "        counter += 1\n",
    "        continue\n",
    "        \n",
    "    my_sum += counter\n",
    "    counter += 1\n",
    "### END SOLUTION\n",
    "print(my_sum)"
   ]
  },
  {
   "cell_type": "code",
   "execution_count": 5,
   "id": "3b2d985b",
   "metadata": {
    "nbgrader": {
     "grade": true,
     "grade_id": "cell-15c3ffa094c1ce7a",
     "locked": true,
     "points": 0,
     "schema_version": 3,
     "solution": false,
     "task": false
    }
   },
   "outputs": [],
   "source": [
    "solution = %solution\n",
    "\n",
    "assert_equal(my_sum, 100500)"
   ]
  }
 ],
 "metadata": {
  "celltoolbar": "Create Assignment",
  "kernelspec": {
   "display_name": "Python 3",
   "language": "python",
   "name": "python3"
  },
  "language_info": {
   "codemirror_mode": {
    "name": "ipython",
    "version": 3
   },
   "file_extension": ".py",
   "mimetype": "text/x-python",
   "name": "python",
   "nbconvert_exporter": "python",
   "pygments_lexer": "ipython3",
   "version": "3.9.2"
  }
 },
 "nbformat": 4,
 "nbformat_minor": 5
}
