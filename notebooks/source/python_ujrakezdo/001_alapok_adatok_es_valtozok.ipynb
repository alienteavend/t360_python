{
 "cells": [
  {
   "cell_type": "markdown",
   "id": "28aab6f6",
   "metadata": {
    "nbgrader": {
     "grade": false,
     "grade_id": "cell-e407f50bf8af04f1",
     "locked": true,
     "schema_version": 3,
     "solution": false,
     "task": false
    }
   },
   "source": [
    "# Jupyter notebook bevezető\n",
    "Ez a munkafüzet egy interaktív felület, ahol a jelölt rubrikákba kódot írva le lehet futtatni azokat. Az adott kódrészletet futtatni a felső menüben található gombokkal lehet (Run).\n",
    "\n",
    "A megoldásaidat az adott cellába írd, töröld a\n",
    "```python\n",
    "    # YOUR CODE HERE\n",
    "    raise NotImplementedError()\n",
    "```\n",
    "\n",
    "Megoldás után az adott és a következő cellát futtatsd (ezek az automatikus tesztek). Ha nem ír semmit, akkor jó a megoldás, ha hibát kapsz akkor javítsd az megoldást és futtasd mindkét cellát újra.\n",
    "\n",
    "Ha a notebook végéig minden teszt hiba nélkül lefut, akkor kész a feladatsor."
   ]
  },
  {
   "cell_type": "markdown",
   "id": "03d022c6",
   "metadata": {
    "nbgrader": {
     "grade": false,
     "grade_id": "cell-1f6408e0a9f33ea6",
     "locked": true,
     "schema_version": 3,
     "solution": false,
     "task": false
    }
   },
   "source": [
    "# Hibaüzenetek, hibakezelés\n",
    "\n",
    "Néhány tipikus hibaüzenet, ha esetleg elakadnál. Nem kell most elolvasnod, csak ha hibát kapsz és nem érted, akkor itt ez esetleg segíthet.\n",
    "\n",
    "* `NotImplementedError` -> Nem törölted ki a # YOUR CODE HERE részt\n",
    "* `AssertionError` -> Nem jó a feladat megoldása, a teszt hibára futott\n",
    "* `NameError` -> Rosszul használod a Python parancsait, nézd át a kódot\n",
    "\n",
    "\n",
    "## Példák\n",
    "\n",
    "```python\n",
    "---------------------------------------------------------------------------\n",
    "NotImplementedError                       Traceback (most recent call last)\n",
    "<ipython-input-2-6d4db73a6e75> in <module>\n",
    "      2 \n",
    "      3     # YOUR CODE HERE\n",
    "----> 4     raise NotImplementedError()\n",
    "      5 \n",
    "      6 print(solution[0])\n",
    "\n",
    "NotImplementedError: \n",
    "```\n",
    "\n",
    "--> Nem törölted ki a kért részt, ki kell törölni és a helyére gépelni a megoldásodat.\n",
    "\n",
    "```python\n",
    "---------------------------------------------------------------------------\n",
    "AssertionError                            Traceback (most recent call last)\n",
    "<ipython-input-4-28814bafb7f0> in <module>\n",
    "      3 solution = get_ipython().run_line_magic('solution', '')\n",
    "      4 assert_true(len(solution))\n",
    "----> 5 assert_equal(float(solution[0]),  31200)\n",
    "\n",
    "/opt/conda/lib/python3.9/unittest/case.py in assertEqual(self, first, second, msg)\n",
    "    829         \"\"\"\n",
    "    830         assertion_func = self._getAssertEqualityFunc(first, second)\n",
    "--> 831         assertion_func(first, second, msg=msg)\n",
    "    832 \n",
    "    833     def assertNotEqual(self, first, second, msg=None):\n",
    "\n",
    "/opt/conda/lib/python3.9/unittest/case.py in _baseAssertEqual(self, first, second, msg)\n",
    "    822             standardMsg = '%s != %s' % _common_shorten_repr(first, second)\n",
    "    823             msg = self._formatMessage(msg, standardMsg)\n",
    "--> 824             raise self.failureException(msg)\n",
    "    825 \n",
    "    826     def assertEqual(self, first, second, msg=None):\n",
    "\n",
    "AssertionError: 312200.0 != 31200\n",
    "```\n",
    "\n",
    "--> Az automatikus teszt hibát talált a megoldásodban.\n",
    "\n",
    "\n",
    "```python\n",
    "---------------------------------------------------------------------------\n",
    "NameError                                 Traceback (most recent call last)\n",
    "<ipython-input-4-ba4712915cd0> in <module>\n",
    "      1 from nose.tools import assert_equal, assert_true\n",
    "      2 \n",
    "----> 3 assert_true(len(solution))\n",
    "      4 assert_equal(float(solution[0]),  31200)\n",
    "\n",
    "NameError: name 'solution' is not defined\n",
    "```\n",
    "--> Nem futtattad a megoldás celláját, csak a tesztét. Mindenképpen először a megoldás cellát kell futtatni, utána a tesztet. A bal oldali `In []` feliratot kell nézni, ha itt a [] ben van szám, akkor futtatva volt.\n",
    "\n",
    "```python\n",
    "---------------------------------------------------------------------------\n",
    "NameError                                 Traceback (most recent call last)\n",
    "<ipython-input-10-f48fdeef71f0> in <module>\n",
    "      2 \n",
    "      3     \n",
    "----> 4     prit(90 / 15 * 5200)\n",
    "      5     \n",
    "      6 \n",
    "\n",
    "NameError: name 'prit' is not defined\n",
    "```\n",
    "\n",
    "--> Rosszul használsz valamilyen Python kulcsszót, itt pl el van írva a `print` helyett `prit`\n",
    "\n",
    "```python\n",
    "---------------------------------------------------------------------------\n",
    "TypeError                                 Traceback (most recent call last)\n",
    "<ipython-input-12-1e94ef827a25> in <module>\n",
    "      7     eletkor = input(\"Add meg az életkorod: \")\n",
    "      8     ital = input(\"Milyen italt kérsz?: \")\n",
    "----> 9     if eletkor < 18 and ital == \"sör\":\n",
    "     10         print(\"Sajnos nem adhatok.\")\n",
    "     11         exit(1)\n",
    "\n",
    "TypeError: '<' not supported between instances of 'str' and 'int'\n",
    "```\n",
    "\n",
    "--> Rossz típusokat használsz, itt a hiba pl, hogy az `input` eredményét először számmá kell konvertálni `int(input(\"valami\"))`"
   ]
  },
  {
   "cell_type": "markdown",
   "id": "54957ef5",
   "metadata": {
    "nbgrader": {
     "grade": false,
     "grade_id": "cell-31cf552956495c14",
     "locked": true,
     "schema_version": 3,
     "solution": false,
     "task": false
    }
   },
   "source": [
    "# 1. feladatsor - egyszerű utasítások \n",
    "## Szoba kifestés\n",
    "A 90m<sup>2</sup>-es szobádat akarod kfiesteni, egy vödör festék 15<sup>2</sup> kifestésére elég és 5200 Ft-ba kerül.\n",
    "\n",
    "**Mennyibe fog kerülni a teljes szoba kifestése?**"
   ]
  },
  {
   "cell_type": "code",
   "execution_count": 1,
   "id": "6c74a977",
   "metadata": {
    "nbgrader": {
     "grade": false,
     "grade_id": "1_feladat",
     "locked": false,
     "schema_version": 3,
     "solution": true,
     "task": false
    }
   },
   "outputs": [
    {
     "name": "stdout",
     "output_type": "stream",
     "text": [
      "31200.0\n"
     ]
    }
   ],
   "source": [
    "### BEGIN SOLUTION\n",
    "print(90 / 15 * 5200)\n",
    "### END SOLUTION"
   ]
  },
  {
   "cell_type": "code",
   "execution_count": 2,
   "id": "8af76d9f",
   "metadata": {
    "nbgrader": {
     "grade": true,
     "grade_id": "1_feladat_test",
     "locked": true,
     "points": 1,
     "schema_version": 3,
     "solution": false,
     "task": false
    }
   },
   "outputs": [],
   "source": [
    "solution = %solution\n",
    "\n",
    "assert_true(len(solution))\n",
    "assert_equal(float(solution[0]),  31200)"
   ]
  },
  {
   "cell_type": "markdown",
   "id": "7e103d17",
   "metadata": {
    "nbgrader": {
     "grade": false,
     "grade_id": "cell-f6fa8674c87abe4a",
     "locked": true,
     "schema_version": 3,
     "solution": false,
     "task": false
    }
   },
   "source": [
    "## Festő bére\n",
    "A festő egy m<sup>2</sup> -t 12 perc alatt fest le, de az egész szobát kétszer festi át. Ha nettó 1800 forintos órabérrel dolgozik, akkor mennyi lesz a nettó végösszeg?\n",
    "\n",
    "Mennyi lesz 27% áfával a végösszeg?"
   ]
  },
  {
   "cell_type": "code",
   "execution_count": null,
   "id": "d82c95e9",
   "metadata": {
    "nbgrader": {
     "grade": false,
     "grade_id": "2_feladat",
     "locked": false,
     "schema_version": 3,
     "solution": true,
     "task": false
    }
   },
   "outputs": [],
   "source": [
    "### BEGIN SOLUTION\n",
    "print((90 / 12) * 1800)\n",
    "print((90 / 12) * 1800 * 1.27)\n",
    "### END SOLUTION"
   ]
  },
  {
   "cell_type": "code",
   "execution_count": null,
   "id": "e08e1808",
   "metadata": {
    "nbgrader": {
     "grade": true,
     "grade_id": "2_feladat_test",
     "locked": true,
     "points": 1,
     "schema_version": 3,
     "solution": false,
     "task": false
    }
   },
   "outputs": [],
   "source": [
    "solution = %solution\n",
    "\n",
    "assert_true(len(solution) == 2)\n",
    "assert_equal(float(solution[0]),  13500)\n",
    "assert_equal(float(solution[1]),  17145)"
   ]
  },
  {
   "cell_type": "markdown",
   "id": "d7399ca0",
   "metadata": {
    "nbgrader": {
     "grade": false,
     "grade_id": "cell-785eec469a702aba",
     "locked": true,
     "schema_version": 3,
     "solution": false,
     "task": false
    }
   },
   "source": [
    "## Nagymama befőttjei\n",
    "Nagymama 30kg paradicsomot akar befőzni. Kilónként 0.8 liter paradicsompüré lesz a főzés során, és ezeket 6 decis üvegekbe tölti.\n",
    "\n",
    "**Hány üveget tud megtölteni teljesen?**"
   ]
  },
  {
   "cell_type": "code",
   "execution_count": null,
   "id": "65b119a8",
   "metadata": {
    "nbgrader": {
     "grade": false,
     "grade_id": "cell-1742f85bb6e44a40",
     "locked": false,
     "schema_version": 3,
     "solution": true,
     "task": false
    }
   },
   "outputs": [],
   "source": [
    "### BEGIN SOLUTION\n",
    "print((30 * 0.8) / 0.6)\n",
    "### END SOLUTION"
   ]
  },
  {
   "cell_type": "code",
   "execution_count": null,
   "id": "cb4ef58b",
   "metadata": {
    "nbgrader": {
     "grade": true,
     "grade_id": "cell-ca7425aa985db6c1",
     "locked": true,
     "points": 1,
     "schema_version": 3,
     "solution": false,
     "task": false
    }
   },
   "outputs": [],
   "source": [
    "solution = %solution\n",
    "\n",
    "assert_true(len(solution))\n",
    "assert_equal(float(solution[0]),  40)"
   ]
  },
  {
   "cell_type": "markdown",
   "id": "bb360da6",
   "metadata": {
    "nbgrader": {
     "grade": false,
     "grade_id": "cell-054c645a2db4c5bb",
     "locked": true,
     "schema_version": 3,
     "solution": false,
     "task": false
    }
   },
   "source": [
    "## Autó fogyasztás\n",
    "Az autód 7 litert fogyaszt országúton és 9-et városban. A hévízi üdülésedre 170 kilómétert utazol országúton és 35-öt városban.\n",
    "\n",
    "**Mennyit fogyaszt az autód csak oda?**\n",
    "\n",
    "**Mennyit fogyaszt az autód oda-vissza?**\n",
    "\n",
    "**Mennybe kerül a teljes út, ha 350 forint a benzin?**"
   ]
  },
  {
   "cell_type": "code",
   "execution_count": null,
   "id": "bcecc99e",
   "metadata": {
    "nbgrader": {
     "grade": false,
     "grade_id": "cell-7a92284df926610d",
     "locked": false,
     "schema_version": 3,
     "solution": true,
     "task": false
    }
   },
   "outputs": [],
   "source": [
    "### BEGIN SOLUTION\n",
    "print((7 * (170/100) + (35/100) * 9))\n",
    "print((7 * (170/100) + (35/100) * 9) * 2)\n",
    "print(((7 * (170/100) + (35/100) * 9) * 2) * 350)\n",
    "### END SOLUTION"
   ]
  },
  {
   "cell_type": "code",
   "execution_count": null,
   "id": "bc471266",
   "metadata": {
    "nbgrader": {
     "grade": true,
     "grade_id": "cell-3a685528f6ed9482",
     "locked": true,
     "points": 1,
     "schema_version": 3,
     "solution": false,
     "task": false
    }
   },
   "outputs": [],
   "source": [
    "solution = %solution\n",
    "\n",
    "assert_true(len(solution) == 3)\n",
    "assert_equal(float(solution[0]),  15.05)\n",
    "assert_equal(float(solution[1]),  30.1)\n",
    "assert_equal(float(solution[2]),  10535.0)"
   ]
  },
  {
   "cell_type": "markdown",
   "id": "fc6e104f",
   "metadata": {
    "nbgrader": {
     "grade": false,
     "grade_id": "cell-5b4fafbdecdafa8f",
     "locked": true,
     "schema_version": 3,
     "solution": false,
     "task": false
    }
   },
   "source": [
    "# 2. feladatsor - változók\n",
    "\n",
    "## Autó fogyasztás változókkal\n",
    "\n",
    "**Oldd meg az \"Autó fogyasztás\" feladatot változókkal.** A szállás és étekezés a kétnapos hétvégére 35 000Ft. Összesen 70 000Ft-od van az utazásra.\n",
    "\n",
    "**El tudsz-e menni az útra?**"
   ]
  },
  {
   "cell_type": "code",
   "execution_count": null,
   "id": "ab3cc4f4",
   "metadata": {
    "nbgrader": {
     "grade": false,
     "grade_id": "cell-09329f6eca268563",
     "locked": false,
     "schema_version": 3,
     "solution": true,
     "task": false
    }
   },
   "outputs": [],
   "source": [
    "# A csak_oda, oda_vissza, teljes_ut_ara, el_tudok_e_menni nevu valtozoba szamoljuk ki az eredmenyt\n",
    "csak_oda = 0\n",
    "oda_vissza = 0\n",
    "teljes_ut_ara = 0\n",
    "el_tudok_e_menni = None\n",
    "\n",
    "### BEGIN SOLUTION\n",
    "csak_oda = 7 * 170/100 + 35/100 * 9\n",
    "oda_vissza = csak_oda * 2\n",
    "teljes_ut_ara = oda_vissza * 350\n",
    "el_tudok_e_menni = 70000 > teljes_ut_ara + 35000\n",
    "### END SOLUTION\n",
    "\n",
    "print(csak_oda)\n",
    "print(oda_vissza)\n",
    "print(teljes_ut_ara)\n",
    "print(el_tudok_e_menni)"
   ]
  },
  {
   "cell_type": "code",
   "execution_count": null,
   "id": "f4622aee",
   "metadata": {
    "nbgrader": {
     "grade": true,
     "grade_id": "cell-6cb6b031ec2d8245",
     "locked": true,
     "points": 1,
     "schema_version": 3,
     "solution": false,
     "task": false
    }
   },
   "outputs": [],
   "source": [
    "solution = %solution\n",
    "\n",
    "assert_equal(csak_oda,  15.05)\n",
    "assert_equal(oda_vissza,  30.1)\n",
    "assert_equal(teljes_ut_ara,  10535.0)\n",
    "assert_equal(el_tudok_e_menni,  True if el_tudok_e_menni is not None else None)"
   ]
  },
  {
   "cell_type": "markdown",
   "id": "17229aa0",
   "metadata": {
    "nbgrader": {
     "grade": false,
     "grade_id": "cell-10bf01555bb54b15",
     "locked": true,
     "schema_version": 3,
     "solution": false,
     "task": false
    }
   },
   "source": [
    "## Biztonságos jelszó\n",
    "\n",
    "Ments el egy jelszót a \"password\" nevű változóban! A jelszónak legalább 8 karakter hosszúnak kell lennie, hogy biztonságosnak tekintsük. \n",
    "\n",
    "**Írj egy kifejezést, amely megvizsgálja, hogy biztonságos-e a megadott jelszó.**"
   ]
  },
  {
   "cell_type": "code",
   "execution_count": null,
   "id": "c52d08ef",
   "metadata": {
    "nbgrader": {
     "grade": false,
     "grade_id": "cell-64771b0dd0200ea6",
     "locked": false,
     "schema_version": 3,
     "solution": true,
     "task": false
    }
   },
   "outputs": [],
   "source": [
    "### BEGIN SOLUTION\n",
    "password = \"arvizturotukorfurogep\"\n",
    "print(len(password) > 8)\n",
    "### END SOLUTION "
   ]
  },
  {
   "cell_type": "code",
   "execution_count": null,
   "id": "49c03417",
   "metadata": {
    "nbgrader": {
     "grade": true,
     "grade_id": "cell-fac21acc0a8d7946",
     "locked": true,
     "points": 1,
     "schema_version": 3,
     "solution": false,
     "task": false
    }
   },
   "outputs": [],
   "source": [
    "solution = %solution\n",
    "\n",
    "assert_true('password' in locals())\n",
    "assert_true(len(solution))\n",
    "\n",
    "if len(password) > 8:\n",
    "    assert_equal(solution[0],  'True')\n",
    "else:\n",
    "    assert_equal(solution[0],  'False')    "
   ]
  },
  {
   "cell_type": "markdown",
   "id": "038f7855",
   "metadata": {
    "nbgrader": {
     "grade": false,
     "grade_id": "cell-8130721d19f9e307",
     "locked": true,
     "schema_version": 3,
     "solution": false,
     "task": false
    }
   },
   "source": [
    "## Kémia\n",
    "\n",
    "1 dm<sup>3</sup> egységnyi alumínium tömege 2,7kg, a nikkelé pedig 8,8kg.\n",
    "\n",
    "**Írasd ki: nehezebb-e 0,34 dm<sup>3</sup> nikkel, mint 1,23 dm<sup>3</sup> alumínium?**\n",
    "\n",
    "_(Ne feledd, Pythonban tizedespontot kell használnod tizedesvessző helyett)_"
   ]
  },
  {
   "cell_type": "code",
   "execution_count": null,
   "id": "f8c2b202",
   "metadata": {
    "nbgrader": {
     "grade": false,
     "grade_id": "cell-c984a0b1b6ad2fcc",
     "locked": false,
     "schema_version": 3,
     "solution": true,
     "task": false
    }
   },
   "outputs": [],
   "source": [
    "### BEGIN SOLUTION\n",
    "print(1.23 * 2.7 > 0.34 * 8.8)\n",
    "### END SOLUTION"
   ]
  },
  {
   "cell_type": "code",
   "execution_count": null,
   "id": "a9d87705",
   "metadata": {
    "nbgrader": {
     "grade": true,
     "grade_id": "cell-27b9b29d44a50d50",
     "locked": true,
     "points": 1,
     "schema_version": 3,
     "solution": false,
     "task": false
    }
   },
   "outputs": [],
   "source": [
    "solution = %solution\n",
    "\n",
    "assert_true(len(solution))\n",
    "assert_equal(solution[0],  'True')"
   ]
  },
  {
   "cell_type": "markdown",
   "id": "592cccc7",
   "metadata": {
    "nbgrader": {
     "grade": false,
     "grade_id": "cell-18cbb6649ca34bfa",
     "locked": true,
     "schema_version": 3,
     "solution": false,
     "task": false
    }
   },
   "source": [
    "## Áram fogyasztás\n",
    "\n",
    "A villanyórád 25 amperes. (Vagyis a 230V hálózati feszültséggel 25 * 230 Watt teljesítményt tud kiszolgálni)\n",
    "\n",
    "A felkapcsolt világítást 5 db 30 wattos izzó biztosítja, a nyári meleg ellen bekapcsoltad a klímádat, ez jelenleg 1500 watton üzemel, illetve az 1200 wattos mosógéped is dolgozik.\n",
    "\n",
    "**Írasd ki: Bekapcsolhatod-e a 2000 wattos vasalógépedet, vagy kell tőle tartanod, hogy lekapcsol a megszakító?**"
   ]
  },
  {
   "cell_type": "code",
   "execution_count": null,
   "id": "037b920d",
   "metadata": {
    "nbgrader": {
     "grade": false,
     "grade_id": "cell-2066d48477a99fc8",
     "locked": false,
     "schema_version": 3,
     "solution": true,
     "task": false
    }
   },
   "outputs": [],
   "source": [
    "### BEGIN SOLUTION\n",
    "print(5 * 30 + 1500 + 1200 + 2000 < 25 * 230)\n",
    "### END SOLUTION"
   ]
  },
  {
   "cell_type": "code",
   "execution_count": null,
   "id": "cbf055db",
   "metadata": {
    "nbgrader": {
     "grade": true,
     "grade_id": "cell-207096d8c75c12a1",
     "locked": true,
     "points": 1,
     "schema_version": 3,
     "solution": false,
     "task": false
    }
   },
   "outputs": [],
   "source": [
    "solution = %solution\n",
    "\n",
    "assert_true(len(solution))\n",
    "assert_equal(solution[0],  'True')"
   ]
  },
  {
   "cell_type": "markdown",
   "id": "29701f79",
   "metadata": {
    "nbgrader": {
     "grade": false,
     "grade_id": "cell-a8cb559ad885c4f6",
     "locked": true,
     "schema_version": 3,
     "solution": false,
     "task": false
    }
   },
   "source": [
    "# 3. feladatsor - String, operátorok, vezérlés\n",
    "\n",
    "## Pultozás\n",
    "\n",
    "**A felhasználó életkorát és italválasztását használva szolgáld őt ki!**\n",
    "\n",
    "Kétféle italt ismerünk: sör és kóla\n",
    "    \n",
    "Ha a felhasználó 18 év alatti és sört kér, közöld vele hogy \"Sajnos nem adhatok.\"\n",
    "\n",
    "Ha a felhasználó 60 feletti és kólát kér, közöld vele, hogy \"A koffein megemelheti a vérnyomását, sajnos nem adhatok.\"\n",
    "\n",
    "Ha ismeretlen italt adott meg, akkor írd ki, hogy \"Sajnos csak sört és kólát tudok adni.\"\n",
    "\n",
    "Minden más esetben írd ki, hogy \"Parancsoljon, itt a sör.\" vagy \"Parancsoljon, itt a kóla\".\n",
    "\n",
    "\n",
    "_Ahol szükséges, ne felejtsd el konvertálni az értékeket_"
   ]
  },
  {
   "cell_type": "code",
   "execution_count": null,
   "id": "04b28426",
   "metadata": {
    "nbgrader": {
     "grade": false,
     "grade_id": "cell-0991a3ca87d6d839",
     "locked": false,
     "schema_version": 3,
     "solution": true,
     "task": false
    }
   },
   "outputs": [],
   "source": [
    "# Ezeket atirva teszteld a megoldasodat\n",
    "eletkor = 0  # Lehetseges ertekek: 0-999\n",
    "ital = \"\"  # Lehetseges ertekek: \"sör\", \"kóla\"\n",
    "\n",
    "### BEGIN SOLUTION   \n",
    "if eletkor < 18 and ital == \"sör\":\n",
    "    print(\"Sajnos nem adhatok.\")\n",
    "elif eletkor > 60 and ital == \"kóla\":\n",
    "    print(\"A koffein megemelheti a vérnyomását, sajnos nem adhatok.\")\n",
    "elif ital != \"sör\" or ital != \"kóla\":\n",
    "    print(\"Sajnos csak sört és kólát tudok adni.\")\n",
    "else:\n",
    "    print(f\"Parancsoljon, itt a {ital}.\")\n",
    "### END SOLUTION"
   ]
  },
  {
   "cell_type": "code",
   "execution_count": null,
   "id": "474cac89",
   "metadata": {
    "nbgrader": {
     "grade": true,
     "grade_id": "cell-fded93d3cf780074",
     "locked": true,
     "points": 1,
     "schema_version": 3,
     "solution": false,
     "task": false
    }
   },
   "outputs": [],
   "source": [
    "solution = %solution\n",
    "\n",
    "assert_true(len(solution))\n",
    "\n",
    "if eletkor < 18 and ital == \"sör\":\n",
    "    assert_equal(solution[0], \"Sajnos nem adhatok.\")\n",
    "elif eletkor > 60 and ital == \"kóla\":\n",
    "    assert_equal(solution[0], \"A koffein megemelheti a vérnyomását, sajnos nem adhatok.\")\n",
    "elif ital != \"sör\" or ital != \"kóla\":\n",
    "    assert_equal(solution[0], \"Sajnos csak sört és kólát tudok adni.\")\n",
    "else:\n",
    "    assert_equal(solution[0], f\"Parancsoljon, itt a {ital}.\")"
   ]
  },
  {
   "cell_type": "markdown",
   "id": "c7f3deb7",
   "metadata": {
    "nbgrader": {
     "grade": false,
     "grade_id": "cell-49cb5194bac7575a",
     "locked": true,
     "schema_version": 3,
     "solution": false,
     "task": false
    }
   },
   "source": [
    "## Autó fogyasztás változókkal 2\n",
    "\n",
    "Oldd meg a 2/a (üzemanyag fogyasztás) feladatot úgy, hogy nem előre megadott értékekkel (országúti fogyasztás, országúto megtett út, városi fogyasztás, városban megtetett út, benzin ára) dolgozol, hanem ezeket a felhasználótól kéred be.\n",
    "\n",
    "_Ahol szükséges, ne felejtsd el konvertálni az értékeket_"
   ]
  },
  {
   "cell_type": "code",
   "execution_count": null,
   "id": "bb33ddb1",
   "metadata": {
    "nbgrader": {
     "grade": false,
     "grade_id": "cell-0401409948bd40f0",
     "locked": false,
     "schema_version": 3,
     "solution": true,
     "task": false
    }
   },
   "outputs": [],
   "source": [
    "# A kovetkezo valtozokba kerjuk be az adatokat\n",
    "orszaguti_km = 0\n",
    "orszaguti_fogyasztas = 0\n",
    "varosi_km = 0\n",
    "varosi_fogyasztas = 0\n",
    "benzin_ara = 0\n",
    "\n",
    "# A csak_oda, oda_vissza, teljes_ut_ara, el_tudok_e_menni nevu valtozoba szamoljuk ki az eredmenyt\n",
    "csak_oda = 0\n",
    "oda_vissza = 0\n",
    "teljes_ut_ara = 0\n",
    "el_tudok_e_menni = None\n",
    "\n",
    "### BEGIN SOLUTION\n",
    "orszaguti_km = int(input(\"Országúton megtett kilométer: \"))\n",
    "orszaguti_fogyasztas = int(input(\"Országúti fogyasztás: \"))\n",
    "varosi_km = int(input(\"Városban megtett kilométer: \"))\n",
    "varosi_fogyasztas = int(input(\"Városi fogyasztás: \"))\n",
    "benzin_ara = int(input(\"Benzin ára: \"))\n",
    "\n",
    "csak_oda = orszaguti_fogyasztas * orszaguti_km/100 + varosi_km/100 * varosi_fogyasztas\n",
    "oda_vissza = csak_oda * 2\n",
    "teljes_ut_ara = oda_vissza * 350\n",
    "el_tudok_e_menni = 70000 > teljes_ut_ara + 35000\n",
    "### END SOLUTION\n",
    "\n",
    "print(csak_oda)\n",
    "print(oda_vissza)\n",
    "print(teljes_ut_ara)\n",
    "print(el_tudok_e_menni)"
   ]
  },
  {
   "cell_type": "code",
   "execution_count": null,
   "id": "d7660306",
   "metadata": {
    "nbgrader": {
     "grade": true,
     "grade_id": "cell-a7de36810d308589",
     "locked": true,
     "points": 1,
     "schema_version": 3,
     "solution": false,
     "task": false
    }
   },
   "outputs": [],
   "source": [
    "solution = %solution\n",
    "\n",
    "assert_equal(csak_oda,  orszaguti_fogyasztas * orszaguti_km/100 + varosi_km/100 * varosi_fogyasztas)\n",
    "assert_equal(oda_vissza,  csak_oda * 2)\n",
    "assert_equal(teljes_ut_ara,  oda_vissza * 350)\n",
    "assert_equal(el_tudok_e_menni,  70000 > teljes_ut_ara + 35000 if el_tudok_e_menni is not None else None)"
   ]
  }
 ],
 "metadata": {
  "celltoolbar": "Create Assignment",
  "kernelspec": {
   "display_name": "Python 3",
   "language": "python",
   "name": "python3"
  },
  "language_info": {
   "codemirror_mode": {
    "name": "ipython",
    "version": 3
   },
   "file_extension": ".py",
   "mimetype": "text/x-python",
   "name": "python",
   "nbconvert_exporter": "python",
   "pygments_lexer": "ipython3",
   "version": "3.9.2"
  }
 },
 "nbformat": 4,
 "nbformat_minor": 5
}
