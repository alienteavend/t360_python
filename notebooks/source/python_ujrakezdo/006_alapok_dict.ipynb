{
 "cells": [
  {
   "cell_type": "markdown",
   "id": "949b9aa0",
   "metadata": {
    "nbgrader": {
     "grade": false,
     "grade_id": "cell-7b80c3bb099cfb4c",
     "locked": true,
     "schema_version": 3,
     "solution": false,
     "task": false
    }
   },
   "source": [
    "# 1. feladatsor - dict\n",
    "## Lista átalakítása\n",
    "\n",
    "Adott számokat tartalmazó lista.\n",
    "`lista = [11, 45, 8, 11, 23, 45, 23, 45, 89]`\n",
    "\n",
    "\n",
    "Írj egy olyan Python programot ami egy asszociatív tömbben eltárolja a lista elemeinek előfordulási számát.\n",
    "\n",
    "A fenti példára a kimenet: `{11: 2, 45: 3, 8: 1, 23: 2, 89: 1}`"
   ]
  },
  {
   "cell_type": "code",
   "execution_count": 5,
   "id": "61472f89",
   "metadata": {
    "nbgrader": {
     "grade": false,
     "grade_id": "cell-84721ecb4b633c21",
     "locked": false,
     "schema_version": 3,
     "solution": true,
     "task": false
    }
   },
   "outputs": [
    {
     "name": "stdout",
     "output_type": "stream",
     "text": [
      "{11: 2, 45: 3, 8: 1, 23: 2, 89: 1}\n"
     ]
    }
   ],
   "source": [
    "lista = [11, 45, 8, 11, 23, 45, 23, 45, 89]\n",
    "### BEGIN SOLUTION\n",
    "count_dict = dict()\n",
    "for item in lista:\n",
    "    if (item in count_dict):\n",
    "        count_dict[item] += 1\n",
    "    else:\n",
    "        count_dict[item] = 1\n",
    "print(count_dict)\n",
    "### END SOLUTION"
   ]
  },
  {
   "cell_type": "code",
   "execution_count": 6,
   "id": "6da65b42",
   "metadata": {
    "nbgrader": {
     "grade": true,
     "grade_id": "cell-0bede469175bd15d",
     "locked": true,
     "points": 1,
     "schema_version": 3,
     "solution": false,
     "task": false
    }
   },
   "outputs": [],
   "source": [
    "solution = %solution\n",
    "assert_equal(solution[0].strip(), \"{11: 2, 45: 3, 8: 1, 23: 2, 89: 1}\")"
   ]
  },
  {
   "cell_type": "markdown",
   "id": "47a21e4e",
   "metadata": {
    "nbgrader": {
     "grade": false,
     "grade_id": "cell-1522c269725162cf",
     "locked": true,
     "schema_version": 3,
     "solution": false,
     "task": false
    }
   },
   "source": [
    "## Törlés listából\n",
    "Adott egy lista és egy dict.\n",
    "\n",
    "`roll_number = [47, 64, 69, 37, 76, 83, 95, 97]`\n",
    "\n",
    "`sample_dict ={'Jhon':47, 'Emma':69, 'Kelly':76, 'Jason':97}`\n",
    "\n",
    "Írj egy olyan Python programot ami végig iterál a listán és kitörli azokat az elemeket amik nem szerepelnek a dictben értékként. Írasd ki az eredményt!\n",
    "\n",
    "A fenti példára a kimenet: `[47, 69, 76, 97]`"
   ]
  },
  {
   "cell_type": "code",
   "execution_count": 7,
   "id": "0bd0182f",
   "metadata": {
    "nbgrader": {
     "grade": false,
     "grade_id": "cell-1bc5a980cd583d68",
     "locked": false,
     "schema_version": 3,
     "solution": true,
     "task": false
    }
   },
   "outputs": [
    {
     "name": "stdout",
     "output_type": "stream",
     "text": [
      "[47, 69, 76, 97]\n"
     ]
    }
   ],
   "source": [
    "roll_number = [47, 64, 69, 37, 76, 83, 95, 97]\n",
    "sample_dict ={'Jhon':47, 'Emma':69, 'Kelly':76, 'Jason':97}\n",
    "result = None\n",
    "### BEGIN SOLUTION\n",
    "roll_number[:] = [item for item in roll_number if item in sample_dict.values()]\n",
    "### END SOLUTION\n",
    "print(roll_number)"
   ]
  },
  {
   "cell_type": "code",
   "execution_count": 8,
   "id": "aaadb160",
   "metadata": {
    "nbgrader": {
     "grade": true,
     "grade_id": "cell-4d96a53f5f5e00fb",
     "locked": true,
     "points": 1,
     "schema_version": 3,
     "solution": false,
     "task": false
    }
   },
   "outputs": [],
   "source": [
    "solution = %solution\n",
    "\n",
    "assert_equal(solution[0].strip(), \"[47, 69, 76, 97]\")"
   ]
  }
 ],
 "metadata": {
  "celltoolbar": "Create Assignment",
  "kernelspec": {
   "display_name": "Python 3",
   "language": "python",
   "name": "python3"
  },
  "language_info": {
   "codemirror_mode": {
    "name": "ipython",
    "version": 3
   },
   "file_extension": ".py",
   "mimetype": "text/x-python",
   "name": "python",
   "nbconvert_exporter": "python",
   "pygments_lexer": "ipython3",
   "version": "3.9.2"
  }
 },
 "nbformat": 4,
 "nbformat_minor": 5
}
