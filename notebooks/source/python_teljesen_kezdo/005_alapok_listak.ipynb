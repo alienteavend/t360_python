{
 "cells": [
  {
   "cell_type": "markdown",
   "id": "949b9aa0",
   "metadata": {
    "nbgrader": {
     "grade": false,
     "grade_id": "cell-7b80c3bb099cfb4c",
     "locked": true,
     "schema_version": 3,
     "solution": false,
     "task": false
    }
   },
   "source": [
    "# 1. feladatsor - listák\n",
    "\n",
    "## Adott az alábbi lista:\n",
    " ​\n",
    "`lista = [-25, 12, -54, 8, 77, 98, -29, 35, 3, 71]`\n",
    "\n",
    "Írj ciklust, amely meghatározza, melyik a legnagyobb szám a listában, és írd ki ezt a számot! (Melyik elemeket kell a ciklusnak vizsgálnia? Vigyázat: nem kell az összeset! Az egy elemű listának annak egyetlen eleme a maximuma.)\n",
    " ​\n",
    "\n",
    "Módosítsd úgy a programot, hogy a ciklusba belépés előtt, és a ciklustörzs végén is kiírod mindig az épp megvizsgált elemet, és a maximum változó értékét! Vizsgáld meg az eredményt, figyeld meg, a maximum változó hogyan változik!"
   ]
  },
  {
   "cell_type": "code",
   "execution_count": 6,
   "id": "d7eaa04a",
   "metadata": {
    "nbgrader": {
     "grade": false,
     "grade_id": "cell-a3e8d85db2cd3829",
     "locked": false,
     "schema_version": 3,
     "solution": true,
     "task": false
    }
   },
   "outputs": [
    {
     "name": "stdout",
     "output_type": "stream",
     "text": [
      "98\n"
     ]
    }
   ],
   "source": [
    "lista = [-25, 12, -54, 8, 77, 98, -29, 35, 3, 71]\n",
    "### BEGIN SOLUTION\n",
    "if len(lista) == 1:\n",
    "    print(lista[0])\n",
    "\n",
    "legnagyobb = lista[0]\n",
    "for i in range(0, len(lista), 1):\n",
    "    if lista[i] >= legnagyobb:\n",
    "        legnagyobb = lista[i]\n",
    "\n",
    "\n",
    "print(legnagyobb)\n",
    "### END SOLUTION"
   ]
  },
  {
   "cell_type": "code",
   "execution_count": 8,
   "id": "126d1c3b",
   "metadata": {
    "nbgrader": {
     "grade": true,
     "grade_id": "cell-d8bf68236e9f6fa6",
     "locked": true,
     "points": 1,
     "schema_version": 3,
     "solution": false,
     "task": false
    }
   },
   "outputs": [],
   "source": [
    "solution = %solution\n",
    "\n",
    "assert_true(int(solution[0]) == 98)"
   ]
  },
  {
   "cell_type": "markdown",
   "id": "bfd0da65",
   "metadata": {
    "nbgrader": {
     "grade": false,
     "grade_id": "cell-6008e892cdb2309b",
     "locked": true,
     "schema_version": 3,
     "solution": false,
     "task": false
    }
   },
   "source": [
    "## Műveletek listákkal\n",
    "\n",
    "Írj programot, amely tartalmaz egy tíz elemű listát, az általad megadott kezdeti értékekkel inicializálva! (Tehát nem kell a programnak egyesével beolvasnia azokat a billentyűzetről.) Írd ki ezt a listát, legyen a neve `lista`!\n",
    "\n",
    "Kiíratás:\n",
    "* `A lista: 25 69 54 8 77 6 29 10 3 98`\n",
    "\n",
    "Írd át úgy a programot, hogy megjelenjen a listaelemek előtt a listaindex is!\n",
    "\n",
    "Kiíratás:\n",
    "* `A lista: [0]=25 [1]=69 [2]=54 [3]=8 [4]=77 [5]=6 [6]=29 [7]=10 [8]=3 [9]=98`\n",
    "\n",
    "\n",
    "Írj programrészt, amely megmondja, melyik a legkisebb szám a listából! Írd ki ezt a számot! (Próbáld ki a ogramod úgy is, hogy a legkisebb szám a lista legelején és legvégén van!)\n",
    "\n",
    "\n",
    "Kiíratás:\n",
    "* `A legkisebb szám: 3`\n",
    "\n",
    "\n",
    "Alakítsd át a minimumkeresést úgy, hogy ne csak a legkisebb szám értékét, hanem annak helyét, azaz listabeli indexét is meg tudd mondani! Ehhez szükséged lesz egy minhely változóra, amely azt fogja megjegyezni, hányadik indexen volt a legkisebb szám.\n",
    "\n",
    "\n",
    "Az igazán jó megoldás az, ha továbbra is egy ciklusod lesz, amelyik ezt a keresést végzi. Tehát nem úgy kell működnie, hogy előbb megjegyzi a legkisebb számot (3), utána pedig újból végigszalad a listán, hogy rájöjjön, hol is volt az (8-as hely). A helyet már a keresés közben is meg lehet jegyezni. A futási eredmény legyen ilyen:\n",
    "\n",
    "\n",
    "\n",
    "Kiíratás:\n",
    "* `A legkisebb szám indexe: 8`\n",
    "\n",
    "\n",
    "Végül pedig írd úgy ki a listát, hogy a legkisebb elem mellé egy jelölést teszel:\n",
    "\n",
    "\n",
    "Kiíratás:\n",
    "* `Jelölve: 25 69 54 8 77 6 29 10 3[MIN] 98`\n"
   ]
  },
  {
   "cell_type": "code",
   "execution_count": 23,
   "id": "61472f89",
   "metadata": {
    "nbgrader": {
     "grade": false,
     "grade_id": "cell-84721ecb4b633c21",
     "locked": false,
     "schema_version": 3,
     "solution": true,
     "task": false
    }
   },
   "outputs": [
    {
     "name": "stdout",
     "output_type": "stream",
     "text": [
      "A lista: 25 69 54 8 77 6 29 10 3 98 \n",
      "A lista: [0]=25 [1]=69 [2]=54 [3]=8 [4]=77 [5]=6 [6]=29 [7]=10 [8]=3 [9]=98 \n",
      "A legkisebb szám: 3\n",
      "A legkisebb szám indexe: 8\n",
      "Jelölve: 25 69 54 8 77 6 29 10 3[MIN] 98 "
     ]
    }
   ],
   "source": [
    "# Itt ha mar az elozo feladatban megirtuk az is_szokoev fuggvenyt, akkor azt tudjuk hivatkozni, nem kell idemasolni\n",
    "lista = [25, 69, 54, 8, 77, 6, 29, 10, 3, 98]\n",
    "\n",
    "### BEGIN SOLUTION\n",
    "print(\"A lista: \", end='')\n",
    "for i, n in enumerate(lista):\n",
    "    print(n, end=' ')\n",
    "print()\n",
    "\n",
    "\n",
    "print(\"A lista: \", end='')\n",
    "for i, n in enumerate(lista):\n",
    "    print(f'[{i}]={n}', end=' ')\n",
    "print()\n",
    "\n",
    "legkisebb = lista[0]\n",
    "for i in range(0, len(lista)):\n",
    "    if lista[i] <= legkisebb:\n",
    "        legkisebb = lista[i]\n",
    "\n",
    "print(f'A legkisebb szám: {legkisebb}')\n",
    "\n",
    "legkisebb_index = 0\n",
    "legkisebb = lista[0]\n",
    "for i in range(0, len(lista), 1):\n",
    "    if lista[i] <= legkisebb:\n",
    "        legkisebb = lista[i]\n",
    "        legkisebb_index = i\n",
    "\n",
    "print(f'A legkisebb szám indexe: {legkisebb_index}')\n",
    "\n",
    "\n",
    "print(\"Jelölve: \", end='')\n",
    "for n in lista:\n",
    "    print(f'{n}{ \"[MIN]\" if n == legkisebb else \"\" }', end=' ')\n",
    "### END SOLUTION"
   ]
  },
  {
   "cell_type": "code",
   "execution_count": 22,
   "id": "6da65b42",
   "metadata": {
    "nbgrader": {
     "grade": true,
     "grade_id": "cell-0bede469175bd15d",
     "locked": true,
     "points": 1,
     "schema_version": 3,
     "solution": false,
     "task": false
    }
   },
   "outputs": [],
   "source": [
    "solution = %solution\n",
    "\n",
    "assert_true(len(solution) == 5)\n",
    "assert_equal(solution[0].strip(), \"A lista: 25 69 54 8 77 6 29 10 3 98\")\n",
    "assert_equal(solution[1].strip(), \"A lista: [0]=25 [1]=69 [2]=54 [3]=8 [4]=77 [5]=6 [6]=29 [7]=10 [8]=3 [9]=98\")\n",
    "assert_equal(solution[2].strip(), \"A legkisebb szám: 3\")\n",
    "assert_equal(solution[3].strip(), \"A legkisebb szám indexe: 8\")\n",
    "assert_equal(solution[4].strip(), \"Jelölve: 25 69 54 8 77 6 29 10 3[MIN] 98\")"
   ]
  },
  {
   "cell_type": "markdown",
   "id": "5ca6c840",
   "metadata": {
    "nbgrader": {
     "grade": false,
     "grade_id": "cell-9177922672b0d9fe",
     "locked": true,
     "schema_version": 3,
     "solution": false,
     "task": false
    }
   },
   "source": [
    "## Lista megfordítás\n",
    "\n",
    "A listák .reverse() függvénye megfordítja a listát, amelyre meghívják:\n",
    "```python\n",
    "szamok = [1, 2, 3, 4, 5, 6, 7, 8, 9, 10]\n",
    "szamok.reverse()\n",
    "print(szamok)\n",
    "```\n",
    "`[10, 9, 8, 7, 6, 5, 4, 3, 2, 1]`\n",
    "\n",
    "\n",
    "**Készíts listákat megfordító algoritmusokat, amelyek a következőképpen működnek:**\n",
    "\n",
    "Adott egy lista az eredeti nevű változóban. Járd be ezt visszafelé (végétől az elejéig), és fűzd hozzá a forditott nevű listához a benne tárolt adatokat!\n",
    "\n",
    "\n",
    "Kiíratás:\n",
    "* `A forditott lista [10, 9, 8, 7, 6, 5, 4, 3, 2, 1]`\n",
    "\n",
    "\n",
    "Adott egy újabb lista az eredeti nevű változóban. Minden végéről kivett elemet fűzz hozzá egy új lista végéhez!\n",
    "\n",
    "\n",
    "Kiíratás:\n",
    "* `A forditott lista [10, 9, 8, 7, 6, 5, 4, 3, 2, 1]`\n",
    "\n",
    "\n",
    "Fordítsd meg a következő listát helyben, azaz ne használj másik változót a megoldás során! Cseréld meg az első és az utolsó, a második és az utolsó előtti, ... elemét, így kapva meg a fordított listát!\n",
    "\n",
    "`lista = [9, 8, 7, 6, 5, 4, 3, 2, 1]`\n",
    "\n",
    "Kiíratás:\n",
    "* `A helyben megforditott lista [9, 8, 7, 6, 5, 4, 3, 2, 1]`"
   ]
  },
  {
   "cell_type": "code",
   "execution_count": 35,
   "id": "6307dd6c",
   "metadata": {
    "nbgrader": {
     "grade": false,
     "grade_id": "cell-3d41946d709432c4",
     "locked": false,
     "schema_version": 3,
     "solution": true,
     "task": false
    }
   },
   "outputs": [
    {
     "name": "stdout",
     "output_type": "stream",
     "text": [
      "A forditott lista [10, 9, 8, 7, 6, 5, 4, 3, 2, 1]\n",
      "A forditott lista [10, 9, 8, 7, 6, 5, 4, 3, 2, 1]\n",
      "A helyben megforditott lista [9, 8, 7, 6, 5, 4, 3, 2, 1]\n"
     ]
    }
   ],
   "source": [
    "lista = [1, 2, 3, 4, 5, 6, 7, 8, 9, 10]\n",
    "\n",
    "### BEGIN SOLUTION\n",
    "forditott_lista = []\n",
    "for i in range(len(lista)-1, -1, -1):\n",
    "    forditott_lista.append(lista[i])\n",
    "print(f'A forditott lista {forditott_lista}')\n",
    "\n",
    "forditott_lista = []\n",
    "while len(lista) != 0:\n",
    "    n = lista.pop()\n",
    "    forditott_lista.append(n)\n",
    "print(f'A forditott lista {forditott_lista}')\n",
    "\n",
    "lista = [1, 2, 3, 4, 5, 6, 7, 8, 9]\n",
    "\n",
    "for i in range(0, len(lista) // 2 + 1, 1):\n",
    "    a = lista[i]                          \n",
    "    b = lista[len(lista)-1-i]\n",
    "    lista[i] = b\n",
    "    lista[len(lista) - 1 - i] = a\n",
    "\n",
    "print(f'A helyben megforditott lista {lista}')\n",
    "### END SOLUTION"
   ]
  },
  {
   "cell_type": "code",
   "execution_count": 36,
   "id": "bf29d4ff",
   "metadata": {
    "nbgrader": {
     "grade": true,
     "grade_id": "cell-e3e4a0a8c8e2be2f",
     "locked": true,
     "points": 1,
     "schema_version": 3,
     "solution": false,
     "task": false
    }
   },
   "outputs": [],
   "source": [
    "solution = %solution\n",
    "\n",
    "assert_equal(solution[0].strip(), \"A forditott lista [10, 9, 8, 7, 6, 5, 4, 3, 2, 1]\")\n",
    "assert_equal(solution[1].strip(), \"A forditott lista [10, 9, 8, 7, 6, 5, 4, 3, 2, 1]\")\n",
    "assert_equal(solution[2].strip(), \"A helyben megforditott lista [9, 8, 7, 6, 5, 4, 3, 2, 1]\")"
   ]
  }
 ],
 "metadata": {
  "celltoolbar": "Create Assignment",
  "kernelspec": {
   "display_name": "Python 3",
   "language": "python",
   "name": "python3"
  },
  "language_info": {
   "codemirror_mode": {
    "name": "ipython",
    "version": 3
   },
   "file_extension": ".py",
   "mimetype": "text/x-python",
   "name": "python",
   "nbconvert_exporter": "python",
   "pygments_lexer": "ipython3",
   "version": "3.9.2"
  }
 },
 "nbformat": 4,
 "nbformat_minor": 5
}
