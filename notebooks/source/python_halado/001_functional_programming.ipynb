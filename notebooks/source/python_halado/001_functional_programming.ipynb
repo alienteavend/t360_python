{
 "cells": [
  {
   "cell_type": "markdown",
   "id": "949b9aa0",
   "metadata": {
    "nbgrader": {
     "grade": false,
     "grade_id": "cell-7b80c3bb099cfb4c",
     "locked": true,
     "schema_version": 3,
     "solution": false,
     "task": false
    }
   },
   "source": [
    "# 1. feladatsor - Magasabb rendű függvények\n",
    "\n",
    "## Oszthatóság számolása\n",
    "\n",
    "Készíts egy Python függvény gyártó függvényt ami képes futás közben olyan függvényeket előállítani melyek megadott számmal való oszthatóságot képesek megállapítani. \n",
    "\n",
    "PL:\n",
    "```python\n",
    "is_div_2 = make_is_div(2)\n",
    "assert(is_div_2(234) == True)\n",
    "```"
   ]
  },
  {
   "cell_type": "code",
   "execution_count": 4,
   "id": "61472f89",
   "metadata": {
    "nbgrader": {
     "grade": false,
     "grade_id": "cell-84721ecb4b633c21",
     "locked": false,
     "schema_version": 3,
     "solution": true,
     "task": false
    }
   },
   "outputs": [
    {
     "name": "stdout",
     "output_type": "stream",
     "text": [
      "oszthato 234 2-vel? True\n"
     ]
    }
   ],
   "source": [
    "## BEGIN SOLUTION\n",
    "def make_is_div(n):\n",
    "    def is_div(x):\n",
    "        return x % n == 0\n",
    "    return is_div\n",
    "\n",
    "### END SOLUTION\n",
    "is_div_2 = make_is_div(2)\n",
    "print(f'oszthato 234 2-vel? {is_div_2(234)}')"
   ]
  },
  {
   "cell_type": "code",
   "execution_count": 6,
   "id": "6da65b42",
   "metadata": {
    "nbgrader": {
     "grade": true,
     "grade_id": "cell-0bede469175bd15d",
     "locked": true,
     "points": 1,
     "schema_version": 3,
     "solution": false,
     "task": false
    }
   },
   "outputs": [],
   "source": [
    "solution = %solution\n",
    "assert_true(\"make_is_div\" in locals())\n",
    "div_2 = make_is_div(2)\n",
    "assert_true(div_2(0) == True)\n",
    "assert_true(div_2(1) == False)\n",
    "assert_true(div_2(2) == True)\n",
    "assert_true(div_2(234) == True)\n",
    "\n",
    "div_5 = make_is_div(5)\n",
    "assert_true(div_5(0) == True)\n",
    "assert_true(div_5(1) == False)\n",
    "assert_true(div_5(2) == False)\n",
    "assert_true(div_5(5) == True)\n",
    "assert_true(div_5(10) == True)\n",
    "assert_true(div_5(234) == False)"
   ]
  },
  {
   "cell_type": "markdown",
   "id": "674d500b",
   "metadata": {
    "nbgrader": {
     "grade": false,
     "grade_id": "cell-3ccda748bf925115",
     "locked": true,
     "schema_version": 3,
     "solution": false,
     "task": false
    }
   },
   "source": [
    "## Oszthatóság 10000ig\n",
    "Készítsd el az első 10000 számmal való oszthatóságot megállapító függvényeket a `divs` változóba és írd ki az eredményeket a `numbers_to_test` példa számokkal, pl:\n",
    "\n",
    "112233 szamra futtatva a kiírandó:\n",
    "`[1, 3, 11, 19, 33, 57, 179, 209, 537, 627, 1969, 3401, 5907]`"
   ]
  },
  {
   "cell_type": "code",
   "execution_count": 15,
   "id": "7e78013c",
   "metadata": {
    "nbgrader": {
     "grade": false,
     "grade_id": "cell-f6ebbd492f6702c0",
     "locked": false,
     "schema_version": 3,
     "solution": true,
     "task": false
    }
   },
   "outputs": [
    {
     "name": "stdout",
     "output_type": "stream",
     "text": [
      "[1, 3, 7, 21]\n",
      "[1, 7, 191, 1337]\n",
      "[1, 3, 37, 111, 6007]\n",
      "[1, 1061, 5233]\n"
     ]
    }
   ],
   "source": [
    "divs = []\n",
    "numbers_to_test = [2343453, 1337, 666777, 5552213]\n",
    "## BEGIN SOLUTION\n",
    "divs = [make_is_div(i) for i in range(1, 10001)]\n",
    "for num in numbers_to_test:\n",
    "    print([i+1 for i, is_div in enumerate(divs) if is_div(num)])\n",
    "### END SOLUTION"
   ]
  },
  {
   "cell_type": "code",
   "execution_count": 16,
   "id": "39d0efd7",
   "metadata": {
    "nbgrader": {
     "grade": true,
     "grade_id": "cell-f7bf2ba072825047",
     "locked": true,
     "points": 1,
     "schema_version": 3,
     "solution": false,
     "task": false
    }
   },
   "outputs": [],
   "source": [
    "solution = %solution\n",
    "\n",
    "assert_true(len(solution) == 4)\n",
    "assert_true(solution[0] == '[1, 3, 7, 21]')\n",
    "assert_true(solution[1] == '[1, 7, 191, 1337]')\n",
    "assert_true(solution[2] == '[1, 3, 37, 111, 6007]')\n",
    "assert_true(solution[3] == '[1, 1061, 5233]')\n"
   ]
  },
  {
   "cell_type": "markdown",
   "id": "2bb4cb1b",
   "metadata": {
    "nbgrader": {
     "grade": false,
     "grade_id": "cell-cab3a6f26c7c23f4",
     "locked": true,
     "schema_version": 3,
     "solution": false,
     "task": false
    }
   },
   "source": [
    "## Saját apply függvény\n",
    "\n",
    "Készíts egy saját magasabb rendű függvényt. A függvény várjon el a bemenetén egy string listát és egy függvényt. A függvény nyomtassa ki az összes elemet a listából miután meghívta a függvényt az adott elemre. Legyen a neve `my_apply`\n",
    "\n",
    "Pl:\n",
    "```python\n",
    "my_apply(lambda s: s.upper(), [\"Hello, World\", \"Tamas\", \"big\", \"world\"])\n",
    "=>\n",
    "HELLO, WORLD\n",
    "TAMAS\n",
    "BIG\n",
    "WORLD\n",
    "```"
   ]
  },
  {
   "cell_type": "code",
   "execution_count": 19,
   "id": "7e88fc86",
   "metadata": {
    "nbgrader": {
     "grade": false,
     "grade_id": "cell-1c77d962245935e8",
     "locked": false,
     "schema_version": 3,
     "solution": true,
     "task": false
    }
   },
   "outputs": [
    {
     "name": "stdout",
     "output_type": "stream",
     "text": [
      "HELLO, WORLD\n",
      "TAMAS\n",
      "BIG\n",
      "WORLD\n"
     ]
    }
   ],
   "source": [
    "## BEGIN SOLUTION\n",
    "def my_apply(fn, lst):\n",
    "    for i in lst:\n",
    "        print(fn(i))\n",
    "\n",
    "### END SOLUTION\n",
    "my_apply(lambda s: s.upper(), [\"Hello, World\", \"Tamas\", \"big\", \"world\"])"
   ]
  },
  {
   "cell_type": "code",
   "execution_count": 21,
   "id": "fd530d48",
   "metadata": {
    "nbgrader": {
     "grade": true,
     "grade_id": "cell-a0b6590684e1355c",
     "locked": true,
     "points": 1,
     "schema_version": 3,
     "solution": false,
     "task": false
    }
   },
   "outputs": [],
   "source": [
    "solution = %solution\n",
    "\n",
    "assert_true('my_apply' in locals())\n",
    "\n",
    "assert_true(len(solution) == 4)\n",
    "assert_true(solution[0] == 'HELLO, WORLD')\n",
    "assert_true(solution[1] == 'TAMAS')\n",
    "assert_true(solution[2] == 'BIG')\n",
    "assert_true(solution[3] == 'WORLD')"
   ]
  },
  {
   "cell_type": "markdown",
   "id": "e6972e1f",
   "metadata": {
    "nbgrader": {
     "grade": false,
     "grade_id": "cell-390e24b44680d841",
     "locked": true,
     "schema_version": 3,
     "solution": false,
     "task": false
    }
   },
   "source": [
    "# 2. feladatsor - generátorok\n",
    "\n",
    "## Egyszerű generátor\n",
    "Írj egy Python generátor kifejezést (generator expression) ami kiszámítja a köbét minden páros számnak az alábbi listából `[10,3,7,9,11,33,22,8,2]`.\n",
    "\n",
    "Használd a `list` függvényt, hogy az eredményeket egy listában tudd prezentálni."
   ]
  },
  {
   "cell_type": "code",
   "execution_count": 25,
   "id": "6a49ba03",
   "metadata": {
    "nbgrader": {
     "grade": false,
     "grade_id": "cell-780ded4473d0d05f",
     "locked": false,
     "schema_version": 3,
     "solution": true,
     "task": false
    }
   },
   "outputs": [
    {
     "name": "stdout",
     "output_type": "stream",
     "text": [
      "[1000, 10648, 512, 8]\n"
     ]
    }
   ],
   "source": [
    "test_list =  [10, 3, 7, 9, 11, 33, 22, 8, 2]\n",
    "\n",
    "## BEGIN SOLUTION\n",
    "print(list(x ** 3 for x in test_list if x % 2 == 0))\n",
    "### END SOLUTION"
   ]
  },
  {
   "cell_type": "code",
   "execution_count": 27,
   "id": "aaa162e1",
   "metadata": {
    "nbgrader": {
     "grade": true,
     "grade_id": "cell-5a4a6eda3b12bf3b",
     "locked": true,
     "points": 1,
     "schema_version": 3,
     "solution": false,
     "task": false
    }
   },
   "outputs": [],
   "source": [
    "solution = %solution\n",
    "\n",
    "assert_true(len(solution) == 1)\n",
    "assert_true(solution[0] == '[1000, 10648, 512, 8]')"
   ]
  },
  {
   "cell_type": "markdown",
   "id": "f64b730f",
   "metadata": {
    "nbgrader": {
     "grade": false,
     "grade_id": "cell-02e968f0ab3d6dd5",
     "locked": true,
     "schema_version": 3,
     "solution": false,
     "task": false
    }
   },
   "source": [
    "## Generátor pipeline\n",
    "\n",
    "Készítsünk Python generátor pipline-t, azaz ágyazzunk egymásba több generátor kifejezést (generator expression).\n",
    "\n",
    "\n",
    "a) Írj egy python generátor kifejezést ami a `numbers` listából csinál generátort.\n",
    "\n",
    "\n",
    "b) Írj egy másik kifejezést ami négyzetre négyzetre emeli a számokat\n",
    "\n",
    "\n",
    "c) Írj egy harmadik kijezést ami stringge konvertálja az értékeket\n",
    "\n",
    "\n",
    "d) Ellenőrzés képpen irasd ki az összes egyedi stringet amit kaptunk. (Hasznos lehet a `set` halmaz adatszerkezet)"
   ]
  },
  {
   "cell_type": "code",
   "execution_count": 95,
   "id": "9ef1938d",
   "metadata": {
    "nbgrader": {
     "grade": false,
     "grade_id": "cell-f5cef025ec94281e",
     "locked": false,
     "schema_version": 3,
     "solution": true,
     "task": false
    }
   },
   "outputs": [
    {
     "name": "stdout",
     "output_type": "stream",
     "text": [
      "['602176', '88209', '214369', '841', '2601', '946729', '148996', '580644', '635209', '10609', '697225', '369664', '15625', '74529', '638401', '323761', '28561', '14884', '937024', '541696', '6400', '478864', '31329', '826281', '893025', '619369', '16384', '63001', '292681', '299209', '502681', '788544', '1225', '685584', '121104', '165649', '494209', '33489', '46656', '222784', '12996', '244036', '576', '463761', '233289', '352836', '763876', '2401', '86436', '118336', '309136', '81796', '227529', '87616', '203401', '106276', '683929', '103684', '335241', '178084', '354025', '10201', '900601', '346921', '815409', '737881', '237169', '804609', '28224', '2809', '33856', '22801', '104329', '43264', '693889', '476100', '1764', '297025', '426409', '3364', '595984', '29241', '765625', '150544', '921600', '87025', '401956', '348100', '16', '51984', '4356', '361', '33124', '94864']\n"
     ]
    }
   ],
   "source": [
    "numbers = [80, 251, 653, 541, 169, 949, 114, 35, 53, 348, 799, 681, 595, 273, 151, 797, 42, 171, 477, 323, 463, 208, 736, 859, 49, 594, 827, 4, 776, 308, 703, 451, 128, 66, 386, 875, 344, 322, 903, 787, 294, 177, 690, 24, 182, 589, 122, 968, 692, 472, 875, 973, 579, 168, 945, 388, 19, 228, 960, 569, 909, 297, 103, 477, 184, 835, 483, 547, 487, 762, 422, 326, 897, 451, 772, 101, 960, 125, 608, 216, 29, 556, 286, 295, 833, 634, 297, 296, 545, 494, 828, 58, 407, 874, 709, 294, 590, 888, 183, 51]\n",
    "## BEGIN SOLUTION\n",
    "randomizer = (n for n in numbers)\n",
    "squared = (x ** 2 for x in randomizer)\n",
    "stringified = (str(x) for x in squared)\n",
    "print(list(set(list(stringified))))\n",
    "### END SOLUTION"
   ]
  },
  {
   "cell_type": "code",
   "execution_count": 107,
   "id": "14e3418b",
   "metadata": {
    "nbgrader": {
     "grade": true,
     "grade_id": "cell-1e746922130068c9",
     "locked": true,
     "points": 1,
     "schema_version": 3,
     "solution": false,
     "task": false
    }
   },
   "outputs": [],
   "source": [
    "import ast \n",
    "\n",
    "solution = %solution\n",
    "assert_true(len(solution) == 1)\n",
    "assert_equal(set(ast.literal_eval(solution[0])), set(['602176', '88209', '214369', '841', '2601', '946729', '148996', '580644', '635209', '10609', '697225', '369664', '15625', '74529', '638401', '323761', '28561', '14884', '937024', '541696', '6400', '478864', '31329', '826281', '893025', '619369', '16384', '63001', '292681', '299209', '502681', '788544', '1225', '685584', '121104', '165649', '494209', '33489', '46656', '222784', '12996', '244036', '576', '463761', '233289', '352836', '763876', '2401', '86436', '118336', '309136', '81796', '227529', '87616', '203401', '106276', '683929', '103684', '335241', '178084', '354025', '10201', '900601', '346921', '815409', '737881', '237169', '804609', '28224', '2809', '33856', '22801', '104329', '43264', '693889', '476100', '1764', '297025', '426409', '3364', '595984', '29241', '765625', '150544', '921600', '87025', '401956', '348100', '16', '51984', '4356', '361', '33124', '94864']))"
   ]
  },
  {
   "cell_type": "markdown",
   "id": "a11c4f7a",
   "metadata": {
    "nbgrader": {
     "grade": false,
     "grade_id": "cell-ae8ad37f374efda9",
     "locked": true,
     "schema_version": 3,
     "solution": false,
     "task": false
    }
   },
   "source": [
    "## Egyedi elemek\n",
    "írj egy Python generátor függvényt `unique` néven ami kiválasztja az egyedi elemeket bármilyen listából."
   ]
  },
  {
   "cell_type": "code",
   "execution_count": 92,
   "id": "58cc42ba",
   "metadata": {
    "nbgrader": {
     "grade": false,
     "grade_id": "cell-cc46d21d001284ad",
     "locked": false,
     "schema_version": 3,
     "solution": true,
     "task": false
    }
   },
   "outputs": [
    {
     "name": "stdout",
     "output_type": "stream",
     "text": [
      "32\n",
      "1\n",
      "2\n",
      "33.3\n",
      "5\n",
      "Tamas\n",
      "Agi\n"
     ]
    }
   ],
   "source": [
    "## BEGIN SOLUTION\n",
    "def unique(iterable):\n",
    "    for i in set(iterable):\n",
    "        yield i\n",
    "    \n",
    "### END SOLUTION\n",
    "u = unique([1,'Tamas', 2,1,5,32,2,1, 'Agi', 33.3, 33.3, 33.3])\n",
    "\n",
    "for i in u:\n",
    "   print(i) "
   ]
  },
  {
   "cell_type": "code",
   "execution_count": 93,
   "id": "2deec702",
   "metadata": {
    "nbgrader": {
     "grade": true,
     "grade_id": "cell-da3a04638c5a70b5",
     "locked": true,
     "points": 1,
     "schema_version": 3,
     "solution": false,
     "task": false
    }
   },
   "outputs": [],
   "source": [
    "solution = %solution\n",
    "\n",
    "assert_true(len(solution) == 7)\n",
    "assert_equal(set(solution), set(['32', '1', '2', '33.3', '5', 'Tamas', 'Agi']))"
   ]
  },
  {
   "cell_type": "markdown",
   "id": "3f3170bc",
   "metadata": {
    "nbgrader": {
     "grade": false,
     "grade_id": "cell-18163add940f2436",
     "locked": true,
     "schema_version": 3,
     "solution": false,
     "task": false
    }
   },
   "source": [
    "# 3. feladatsor - itertools\n",
    "## Töltés jelző\n",
    "\n",
    "Készíts egy Python programot ami egy parancssori progress indikátort fog megjeleníteni 5 másodpercig, 0.1 másodpercenként frissítve a kiírást.\n",
    "\n",
    "\n",
    "Az indikátor legyen karakteres (\"\\\\|/-\"). Használd az itertools könyvtárat. (segítség, a cycle() függvény jól jöhet, illetve az is, hogy a print függvénynél a end='\\r' opcionális paraméter visszatér a sor elejére).\n",
    "\n",
    "Példa lépések:\n",
    "```python\n",
    "\\\n",
    "|\n",
    "/\n",
    "-\n",
    "\\\n",
    "...\n",
    "```\n",
    "\n"
   ]
  },
  {
   "cell_type": "code",
   "execution_count": 49,
   "id": "92a85a4b",
   "metadata": {
    "nbgrader": {
     "grade": false,
     "grade_id": "cell-902e5eae6cb9c883",
     "locked": false,
     "schema_version": 3,
     "solution": true,
     "task": false
    }
   },
   "outputs": [
    {
     "name": "stdout",
     "output_type": "stream",
     "text": [
      "-\r"
     ]
    }
   ],
   "source": [
    "## BEGIN SOLUTION\n",
    "import itertools as it\n",
    "import time\n",
    "\n",
    "ind_chars = \"\\|/-\"\n",
    "\n",
    "indicator = it.cycle(ind_chars)\n",
    "\n",
    "for _ in range(100):\n",
    "    print(next(indicator), end='\\r')\n",
    "    time.sleep(0.1)\n",
    "### END SOLUTION"
   ]
  },
  {
   "cell_type": "code",
   "execution_count": 52,
   "id": "52e16ff1",
   "metadata": {
    "nbgrader": {
     "grade": true,
     "grade_id": "cell-7b29fdd26a08cc07",
     "locked": true,
     "points": 1,
     "schema_version": 3,
     "solution": false,
     "task": false
    }
   },
   "outputs": [],
   "source": [
    "solution = %solution\n",
    "assert_equal(solution,['\\\\', '|', '/', '-', '\\\\', '|', '/', '-', '\\\\', '|', '/', '-', '\\\\', '|', '/', '-', '\\\\', '|', '/', '-', '\\\\', '|', '/', '-', '\\\\', '|', '/', '-', '\\\\', '|', '/', '-', '\\\\', '|', '/', '-', '\\\\', '|', '/', '-', '\\\\', '|', '/', '-', '\\\\', '|', '/', '-', '\\\\', '|', '/', '-', '\\\\', '|', '/', '-', '\\\\', '|', '/', '-', '\\\\', '|', '/', '-', '\\\\', '|', '/', '-', '\\\\', '|', '/', '-', '\\\\', '|', '/', '-', '\\\\', '|', '/', '-', '\\\\', '|', '/', '-', '\\\\', '|', '/', '-', '\\\\', '|', '/', '-', '\\\\', '|', '/', '-', '\\\\', '|', '/', '-'])"
   ]
  },
  {
   "cell_type": "markdown",
   "id": "cf82b112",
   "metadata": {
    "nbgrader": {
     "grade": false,
     "grade_id": "cell-2f11be432698b46f",
     "locked": true,
     "schema_version": 3,
     "solution": false,
     "task": false
    }
   },
   "source": [
    "## Csoportba rendezés\n",
    "\n",
    "Készíts Python függvényt `shift_maker` néven, ami munkahelyi \"váltásokba\" rendez embereket. Egy váltás például `('Peter, 'Julia')`. A visszatérési érték legyen egy lista ami tartalmazza a generált csoportokat.\n",
    "\n",
    "Bónusz feladat: randomizáld a kiválasztást.\n",
    "\n",
    "```python\n",
    "shift_maker(people_iterable, number_of_shifts)\n",
    "\n",
    "shift_maker(['Peter', 'Julia', 'Andrew', 'Bobby', 'Margo', 'Bill', 'Alice', 'Anna'], 3)\n",
    "```"
   ]
  },
  {
   "cell_type": "code",
   "execution_count": 68,
   "id": "b892a9d4",
   "metadata": {
    "nbgrader": {
     "grade": false,
     "grade_id": "cell-fc2db0891925c813",
     "locked": false,
     "schema_version": 3,
     "solution": true,
     "task": false
    }
   },
   "outputs": [
    {
     "name": "stdout",
     "output_type": "stream",
     "text": [
      "[('Peter', 'Julia'), ('Peter', 'Andrew'), ('Peter', 'Bobby'), ('Peter', 'Margo'), ('Peter', 'Bill'), ('Peter', 'Alice'), ('Peter', 'Anna'), ('Julia', 'Andrew'), ('Julia', 'Bobby'), ('Julia', 'Margo'), ('Julia', 'Bill'), ('Julia', 'Alice'), ('Julia', 'Anna'), ('Andrew', 'Bobby'), ('Andrew', 'Margo'), ('Andrew', 'Bill'), ('Andrew', 'Alice'), ('Andrew', 'Anna'), ('Bobby', 'Margo'), ('Bobby', 'Bill'), ('Bobby', 'Alice'), ('Bobby', 'Anna'), ('Margo', 'Bill'), ('Margo', 'Alice'), ('Margo', 'Anna'), ('Bill', 'Alice'), ('Bill', 'Anna'), ('Alice', 'Anna')]\n"
     ]
    }
   ],
   "source": [
    "people = ['Peter', 'Julia', 'Andrew', 'Bobby', 'Margo', 'Bill', 'Alice', 'Anna']\n",
    "## BEGIN SOLUTION\n",
    "import itertools as it\n",
    "def shift_maker(people_iterable, num_of_shifts):\n",
    "    people_per_shift = len(people_iterable) / num_of_shifts\n",
    "    return it.combinations(people_iterable, int(people_per_shift))\n",
    "\n",
    "### END SOLUTION\n",
    "print(list(shift_maker(people, 3)))"
   ]
  },
  {
   "cell_type": "code",
   "execution_count": 69,
   "id": "f484c2c1",
   "metadata": {
    "nbgrader": {
     "grade": true,
     "grade_id": "cell-ce7c1fa067a5d3e3",
     "locked": true,
     "points": 1,
     "schema_version": 3,
     "solution": false,
     "task": false
    }
   },
   "outputs": [],
   "source": [
    "solution = %solution\n",
    "\n",
    "assert_equal(list(shift_maker(people, 2)), [('Peter', 'Julia', 'Andrew', 'Bobby'), ('Peter', 'Julia', 'Andrew', 'Margo'), ('Peter', 'Julia', 'Andrew', 'Bill'), ('Peter', 'Julia', 'Andrew', 'Alice'), ('Peter', 'Julia', 'Andrew', 'Anna'), ('Peter', 'Julia', 'Bobby', 'Margo'), ('Peter', 'Julia', 'Bobby', 'Bill'), ('Peter', 'Julia', 'Bobby', 'Alice'), ('Peter', 'Julia', 'Bobby', 'Anna'), ('Peter', 'Julia', 'Margo', 'Bill'), ('Peter', 'Julia', 'Margo', 'Alice'), ('Peter', 'Julia', 'Margo', 'Anna'), ('Peter', 'Julia', 'Bill', 'Alice'), ('Peter', 'Julia', 'Bill', 'Anna'), ('Peter', 'Julia', 'Alice', 'Anna'), ('Peter', 'Andrew', 'Bobby', 'Margo'), ('Peter', 'Andrew', 'Bobby', 'Bill'), ('Peter', 'Andrew', 'Bobby', 'Alice'), ('Peter', 'Andrew', 'Bobby', 'Anna'), ('Peter', 'Andrew', 'Margo', 'Bill'), ('Peter', 'Andrew', 'Margo', 'Alice'), ('Peter', 'Andrew', 'Margo', 'Anna'), ('Peter', 'Andrew', 'Bill', 'Alice'), ('Peter', 'Andrew', 'Bill', 'Anna'), ('Peter', 'Andrew', 'Alice', 'Anna'), ('Peter', 'Bobby', 'Margo', 'Bill'), ('Peter', 'Bobby', 'Margo', 'Alice'), ('Peter', 'Bobby', 'Margo', 'Anna'), ('Peter', 'Bobby', 'Bill', 'Alice'), ('Peter', 'Bobby', 'Bill', 'Anna'), ('Peter', 'Bobby', 'Alice', 'Anna'), ('Peter', 'Margo', 'Bill', 'Alice'), ('Peter', 'Margo', 'Bill', 'Anna'), ('Peter', 'Margo', 'Alice', 'Anna'), ('Peter', 'Bill', 'Alice', 'Anna'), ('Julia', 'Andrew', 'Bobby', 'Margo'), ('Julia', 'Andrew', 'Bobby', 'Bill'), ('Julia', 'Andrew', 'Bobby', 'Alice'), ('Julia', 'Andrew', 'Bobby', 'Anna'), ('Julia', 'Andrew', 'Margo', 'Bill'), ('Julia', 'Andrew', 'Margo', 'Alice'), ('Julia', 'Andrew', 'Margo', 'Anna'), ('Julia', 'Andrew', 'Bill', 'Alice'), ('Julia', 'Andrew', 'Bill', 'Anna'), ('Julia', 'Andrew', 'Alice', 'Anna'), ('Julia', 'Bobby', 'Margo', 'Bill'), ('Julia', 'Bobby', 'Margo', 'Alice'), ('Julia', 'Bobby', 'Margo', 'Anna'), ('Julia', 'Bobby', 'Bill', 'Alice'), ('Julia', 'Bobby', 'Bill', 'Anna'), ('Julia', 'Bobby', 'Alice', 'Anna'), ('Julia', 'Margo', 'Bill', 'Alice'), ('Julia', 'Margo', 'Bill', 'Anna'), ('Julia', 'Margo', 'Alice', 'Anna'), ('Julia', 'Bill', 'Alice', 'Anna'), ('Andrew', 'Bobby', 'Margo', 'Bill'), ('Andrew', 'Bobby', 'Margo', 'Alice'), ('Andrew', 'Bobby', 'Margo', 'Anna'), ('Andrew', 'Bobby', 'Bill', 'Alice'), ('Andrew', 'Bobby', 'Bill', 'Anna'), ('Andrew', 'Bobby', 'Alice', 'Anna'), ('Andrew', 'Margo', 'Bill', 'Alice'), ('Andrew', 'Margo', 'Bill', 'Anna'), ('Andrew', 'Margo', 'Alice', 'Anna'), ('Andrew', 'Bill', 'Alice', 'Anna'), ('Bobby', 'Margo', 'Bill', 'Alice'), ('Bobby', 'Margo', 'Bill', 'Anna'), ('Bobby', 'Margo', 'Alice', 'Anna'), ('Bobby', 'Bill', 'Alice', 'Anna'), ('Margo', 'Bill', 'Alice', 'Anna')]\n",
    ")\n",
    "assert_equal(list(shift_maker(people, 3)), [('Peter', 'Julia'), ('Peter', 'Andrew'), ('Peter', 'Bobby'), ('Peter', 'Margo'), ('Peter', 'Bill'), ('Peter', 'Alice'), ('Peter', 'Anna'), ('Julia', 'Andrew'), ('Julia', 'Bobby'), ('Julia', 'Margo'), ('Julia', 'Bill'), ('Julia', 'Alice'), ('Julia', 'Anna'), ('Andrew', 'Bobby'), ('Andrew', 'Margo'), ('Andrew', 'Bill'), ('Andrew', 'Alice'), ('Andrew', 'Anna'), ('Bobby', 'Margo'), ('Bobby', 'Bill'), ('Bobby', 'Alice'), ('Bobby', 'Anna'), ('Margo', 'Bill'), ('Margo', 'Alice'), ('Margo', 'Anna'), ('Bill', 'Alice'), ('Bill', 'Anna'), ('Alice', 'Anna')])\n"
   ]
  },
  {
   "cell_type": "markdown",
   "id": "f4bceb05",
   "metadata": {
    "nbgrader": {
     "grade": false,
     "grade_id": "cell-232683ac057245ed",
     "locked": true,
     "schema_version": 3,
     "solution": false,
     "task": false
    }
   },
   "source": [
    "## Üzenetek\n",
    "A hálózaton számokat fogadunk, amik egy listába kerülnek letárolásra. A nem 0 karakterek egymás után egy blokkot alkotnak, a 0 karakterek pedig \"csendet\" jelentenek.\n",
    "\n",
    "Írj egy Python programot, ami az eredeti listából kiválogatja az értelmezhető blokkokat, és előállít egy olyan listát amikben csak ezek vannak benne.\n",
    "\n",
    "Pl:\n",
    "```python\n",
    "[1,3,5,0,0,0,0,7,7,0,0,11,0,5,6,7] => [[1,3,5], [7,7], [11], [5,6,7]]\n",
    "```\n"
   ]
  },
  {
   "cell_type": "code",
   "execution_count": 7,
   "id": "b09b76ac",
   "metadata": {
    "nbgrader": {
     "grade": false,
     "grade_id": "cell-aba5370efa4a5304",
     "locked": false,
     "schema_version": 3,
     "solution": true,
     "task": false
    }
   },
   "outputs": [
    {
     "name": "stdout",
     "output_type": "stream",
     "text": [
      "[[3, 4, 6, 2], [6, 7, 6, 9, 10], [7, 4, 4], [5, 3, 2, 9, 7, 1]]\n"
     ]
    }
   ],
   "source": [
    "import itertools as it\n",
    "nums = [3,4,6,2,0,0,0,0,0,0,6,7,6,9,10,0,0,0,0,0,7,4,4,0,0,0,0,0,0,5,3,2,9,7,1]\n",
    "\n",
    "## BEGIN SOLUTION\n",
    "def solve(lst):\n",
    "    result = [ list(x[1]) for x in it.groupby(lst, lambda x: x == 0) if not x[0] ]\n",
    "    return result\n",
    "print(solve(nums))\n",
    "### END SOLUTION"
   ]
  },
  {
   "cell_type": "code",
   "execution_count": 8,
   "id": "8902ba99",
   "metadata": {
    "nbgrader": {
     "grade": true,
     "grade_id": "cell-9e43725030452de0",
     "locked": true,
     "points": 1,
     "schema_version": 3,
     "solution": false,
     "task": false
    }
   },
   "outputs": [],
   "source": [
    "solution = %solution\n",
    "import ast\n",
    "assert_equal(ast.literal_eval(solution[0]), [[3, 4, 6, 2], [6, 7, 6, 9, 10], [7, 4, 4], [5, 3, 2, 9, 7, 1]])"
   ]
  }
 ],
 "metadata": {
  "celltoolbar": "Create Assignment",
  "kernelspec": {
   "display_name": "Python 3",
   "language": "python",
   "name": "python3"
  },
  "language_info": {
   "codemirror_mode": {
    "name": "ipython",
    "version": 3
   },
   "file_extension": ".py",
   "mimetype": "text/x-python",
   "name": "python",
   "nbconvert_exporter": "python",
   "pygments_lexer": "ipython3",
   "version": "3.9.2"
  }
 },
 "nbformat": 4,
 "nbformat_minor": 5
}
