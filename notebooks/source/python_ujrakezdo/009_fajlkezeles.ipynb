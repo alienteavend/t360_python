{
 "cells": [
  {
   "cell_type": "markdown",
   "id": "949b9aa0",
   "metadata": {
    "nbgrader": {
     "grade": false,
     "grade_id": "cell-7b80c3bb099cfb4c",
     "locked": true,
     "schema_version": 3,
     "solution": false,
     "task": false
    }
   },
   "source": [
    "# 1. feladatsor - Fájl olvasás\n",
    "## Hány betű?\n",
    "\n",
    "Hozz létre egy szöveges fájlt `feladat.txt` néven, legyen a tartalma:\n",
    "\n",
    "`Lorem ipsum dolor sit amet, consectetur adipiscing elit. Curabitur ac faucibus lacus, et commodo orci. Sed enim velit, malesuada gravida consequat vel, vulputate eget odio. Donec pellentesque luctus diam, quis pretium massa vestibulum quis. Sed a bibendum massa. Sed sollicitudin urna dignissim nulla rutrum, et venenatis est placerat. Vestibulum sollicitudin nisi eros, ac lacinia sem fermentum in. Nam imperdiet gravida facilisis. Phasellus lectus lectus, feugiat sit amet vulputate scelerisque, pretium non justo. Nulla vel ultrices arcu, sit amet consectetur purus. Nunc vel dolor sed est tempor venenatis eu eu risus. Nam lorem nulla, tincidunt id ex sit amet, feugiat tincidunt leo. Phasellus et felis eget arcu dignissim dignissim.`\n",
    "\n",
    "Olvasd be a `feladat.txt` fájlt, és számold meg, hogy hány darab `a` betű van benne és írd ki az eredményt!"
   ]
  },
  {
   "cell_type": "code",
   "execution_count": 1,
   "id": "61472f89",
   "metadata": {
    "nbgrader": {
     "grade": false,
     "grade_id": "cell-84721ecb4b633c21",
     "locked": false,
     "schema_version": 3,
     "solution": true,
     "task": false
    }
   },
   "outputs": [
    {
     "name": "stdout",
     "output_type": "stream",
     "text": [
      "45\n"
     ]
    }
   ],
   "source": [
    "## BEGIN SOLUTION\n",
    "with open(\"feladat.txt\", \"r\") as f:\n",
    "    data = f.read()\n",
    "print(data.count(\"a\"))\n",
    "### END SOLUTION"
   ]
  },
  {
   "cell_type": "code",
   "execution_count": 4,
   "id": "6da65b42",
   "metadata": {
    "nbgrader": {
     "grade": true,
     "grade_id": "cell-0bede469175bd15d",
     "locked": true,
     "points": 1,
     "schema_version": 3,
     "solution": false,
     "task": false
    }
   },
   "outputs": [],
   "source": [
    "solution = %solution\n",
    "\n",
    "assert_equal(int(solution[0].strip()), 45)"
   ]
  },
  {
   "cell_type": "markdown",
   "id": "47a21e4e",
   "metadata": {
    "nbgrader": {
     "grade": false,
     "grade_id": "cell-1522c269725162cf",
     "locked": true,
     "schema_version": 3,
     "solution": false,
     "task": false
    }
   },
   "source": [
    "## Nagybetűsítés\n",
    "\n",
    "Olvasd be a `feladat.txt` fájlt, és írd ki olyan módon, hogy minden szó legyen csupa nagybetű.\n"
   ]
  },
  {
   "cell_type": "code",
   "execution_count": 28,
   "id": "0bd0182f",
   "metadata": {
    "nbgrader": {
     "grade": false,
     "grade_id": "cell-1bc5a980cd583d68",
     "locked": false,
     "schema_version": 3,
     "solution": true,
     "task": false
    }
   },
   "outputs": [
    {
     "name": "stdout",
     "output_type": "stream",
     "text": [
      "LOREM IPSUM DOLOR SIT AMET, CONSECTETUR ADIPISCING ELIT. CURABITUR AC FAUCIBUS LACUS, ET COMMODO ORCI. SED ENIM VELIT, MALESUADA GRAVIDA CONSEQUAT VEL, VULPUTATE EGET ODIO. DONEC PELLENTESQUE LUCTUS DIAM, QUIS PRETIUM MASSA VESTIBULUM QUIS. SED A BIBENDUM MASSA. SED SOLLICITUDIN URNA DIGNISSIM NULLA RUTRUM, ET VENENATIS EST PLACERAT. VESTIBULUM SOLLICITUDIN NISI EROS, AC LACINIA SEM FERMENTUM IN. NAM IMPERDIET GRAVIDA FACILISIS. PHASELLUS LECTUS LECTUS, FEUGIAT SIT AMET VULPUTATE SCELERISQUE, PRETIUM NON JUSTO. NULLA VEL ULTRICES ARCU, SIT AMET CONSECTETUR PURUS. NUNC VEL DOLOR SED EST TEMPOR VENENATIS EU EU RISUS. NAM LOREM NULLA, TINCIDUNT ID EX SIT AMET, FEUGIAT TINCIDUNT LEO. PHASELLUS ET FELIS EGET ARCU DIGNISSIM DIGNISSIM."
     ]
    }
   ],
   "source": [
    "### BEGIN SOLUTION\n",
    "with open(\"feladat.txt\", \"r\") as f:\n",
    "    for line in f:\n",
    "        for word in line:\n",
    "            print(word.upper(), end=\"\")\n",
    "        \n",
    "### END SOLUTION"
   ]
  },
  {
   "cell_type": "code",
   "execution_count": 29,
   "id": "aaadb160",
   "metadata": {
    "nbgrader": {
     "grade": true,
     "grade_id": "cell-4d96a53f5f5e00fb",
     "locked": true,
     "points": 1,
     "schema_version": 3,
     "solution": false,
     "task": false
    }
   },
   "outputs": [],
   "source": [
    "solution = %solution\n",
    "assert_equal(solution, ['LOREM IPSUM DOLOR SIT AMET, CONSECTETUR ADIPISCING ELIT. CURABITUR AC FAUCIBUS LACUS, ET COMMODO ORCI. SED ENIM VELIT, MALESUADA GRAVIDA CONSEQUAT VEL, VULPUTATE EGET ODIO. DONEC PELLENTESQUE LUCTUS DIAM, QUIS PRETIUM MASSA VESTIBULUM QUIS. SED A BIBENDUM MASSA. SED SOLLICITUDIN URNA DIGNISSIM NULLA RUTRUM, ET VENENATIS EST PLACERAT. VESTIBULUM SOLLICITUDIN NISI EROS, AC LACINIA SEM FERMENTUM IN. NAM IMPERDIET GRAVIDA FACILISIS. PHASELLUS LECTUS LECTUS, FEUGIAT SIT AMET VULPUTATE SCELERISQUE, PRETIUM NON JUSTO. NULLA VEL ULTRICES ARCU, SIT AMET CONSECTETUR PURUS. NUNC VEL DOLOR SED EST TEMPOR VENENATIS EU EU RISUS. NAM LOREM NULLA, TINCIDUNT ID EX SIT AMET, FEUGIAT TINCIDUNT LEO. PHASELLUS ET FELIS EGET ARCU DIGNISSIM DIGNISSIM.'])"
   ]
  },
  {
   "cell_type": "markdown",
   "id": "ae29956d",
   "metadata": {
    "nbgrader": {
     "grade": false,
     "grade_id": "cell-b19e64949f912999",
     "locked": true,
     "schema_version": 3,
     "solution": false,
     "task": false
    }
   },
   "source": [
    "# 2. feladatsor - Fájl írás\n",
    "## Fájl írás\n",
    "\n",
    "Írj ki 5 darab `x` karaktert az `x.txt` fájlba!"
   ]
  },
  {
   "cell_type": "code",
   "execution_count": null,
   "id": "2fa16eaa",
   "metadata": {
    "nbgrader": {
     "grade": false,
     "grade_id": "cell-5f3ac85c68017818",
     "locked": false,
     "schema_version": 3,
     "solution": true,
     "task": false
    }
   },
   "outputs": [],
   "source": [
    "## BEGIN SOLUTION\n",
    "with open(\"x.txt\", \"w\") as f:\n",
    "    f.write(\"xxxxx\")\n",
    "### END SOLUTION"
   ]
  },
  {
   "cell_type": "code",
   "execution_count": null,
   "id": "b90b0dfc",
   "metadata": {
    "nbgrader": {
     "grade": true,
     "grade_id": "cell-e4847263acee2df0",
     "locked": true,
     "points": 1,
     "schema_version": 3,
     "solution": false,
     "task": false
    }
   },
   "outputs": [],
   "source": [
    "solution = %solution\n",
    "\n",
    "import os\n",
    "\n",
    "assert_true(os.path.isfile(\"x.txt\"))\n",
    "with open(\"x.txt\", \"r\") as f:\n",
    "    assert_equal(\"xxxxx\", f.read())"
   ]
  },
  {
   "cell_type": "markdown",
   "id": "c989984f",
   "metadata": {
    "nbgrader": {
     "grade": false,
     "grade_id": "cell-ea4a352890a62e46",
     "locked": true,
     "schema_version": 3,
     "solution": false,
     "task": false
    }
   },
   "source": [
    "## Fájlból fájlba\n",
    "\n",
    "Olvasd be a `feladat.txt` fájlt, és írd ki a `tadalef.txt`-be úgy, hogy az egész fájl tartalmát megfordítod, pl:\n",
    "\n",
    "`Lorem ipsum ...` -> `... muspi meroL`"
   ]
  },
  {
   "cell_type": "code",
   "execution_count": 16,
   "id": "26fbe6c2",
   "metadata": {
    "nbgrader": {
     "grade": false,
     "grade_id": "cell-e8113b35835eb69d",
     "locked": false,
     "schema_version": 3,
     "solution": true,
     "task": false
    }
   },
   "outputs": [],
   "source": [
    "### BEGIN SOLUTION\n",
    "with open(\"feladat.txt\", \"r\") as f:\n",
    "    with open(\"tadalef.txt\", \"w\") as o:\n",
    "        o.write(f.read()[::-1])\n",
    "### END SOLUTION"
   ]
  },
  {
   "cell_type": "code",
   "execution_count": 17,
   "id": "673c0295",
   "metadata": {
    "nbgrader": {
     "grade": true,
     "grade_id": "cell-8b911d9d4fd99833",
     "locked": true,
     "points": 1,
     "schema_version": 3,
     "solution": false,
     "task": false
    }
   },
   "outputs": [],
   "source": [
    "solution = %solution\n",
    "\n",
    "with open(\"tadalef.txt\", \"r\") as f:\n",
    "    assert_equal(f.read(), \".missingid missingid ucra tege silef te sullesahP .oel tnudicnit taiguef ,tema tis xe di tnudicnit ,allun merol maN .susir ue ue sitanenev ropmet tse des rolod lev cnuN .surup rutetcesnoc tema tis ,ucra secirtlu lev alluN .otsuj non muiterp ,euqsirelecs etatupluv tema tis taiguef ,sutcel sutcel sullesahP .sisilicaf adivarg teidrepmi maN .ni mutnemref mes ainical ca ,sore isin niduticillos mulubitseV .tarecalp tse sitanenev te ,murtur allun missingid anru niduticillos deS .assam mudnebib a deS .siuq mulubitsev assam muiterp siuq ,maid sutcul euqsetnellep cenoD .oido tege etatupluv ,lev tauqesnoc adivarg adauselam ,tilev mine deS .icro odommoc te ,sucal subicuaf ca rutibaruC .tile gnicsipida rutetcesnoc ,tema tis rolod muspi meroL\")"
   ]
  },
  {
   "cell_type": "markdown",
   "id": "18ec6d4e",
   "metadata": {
    "nbgrader": {
     "grade": false,
     "grade_id": "cell-12599745a438a071",
     "locked": true,
     "schema_version": 3,
     "solution": false,
     "task": false
    }
   },
   "source": [
    "## Táblázatos 1\n",
    "\n",
    "Hozz létre szövegszerkesztővel egy `tablazatos.txt` fájlt.\n",
    "Írd bele a következőket:\n",
    "\n",
    "```csv\n",
    "Termékek|Mennyiség|Egységár|Összérték\n",
    "alma|50|300|15000\n",
    "banán|40|400|16000\n",
    "citrom|30|500|15000\n",
    "dió|20|2500|50000\n",
    "```\n",
    "\n",
    "Írj egy Python programot ami ebből a fájlból beolvassa az adatokat. Tárold az adatokat egy listában. Minden sortból keletkezzen egy egy lista. Az elválasztó karakter a `|` karkter legyen. Figyelj arra, hogy a whitespace karaktereket (pl `\\n`) ne tárold el.\n",
    "\n",
    "Írd ki az igy keletkezett listát.\n"
   ]
  },
  {
   "cell_type": "code",
   "execution_count": 10,
   "id": "a5567eef",
   "metadata": {
    "nbgrader": {
     "grade": false,
     "grade_id": "cell-6b69c0aa2e994a75",
     "locked": false,
     "schema_version": 3,
     "solution": true,
     "task": false
    }
   },
   "outputs": [
    {
     "name": "stdout",
     "output_type": "stream",
     "text": [
      "[['alma', 50, 300, 15000], ['banán', 40, 400, 16000], ['citrom', 30, 500, 15000], ['dió', 20, 2500, 50000]]\n"
     ]
    }
   ],
   "source": [
    "termekek = []\n",
    "\n",
    "### BEGIN SOLUTION\n",
    "file_input = open(\"tablazatos.txt\", \"rt\")\n",
    "for line in file_input.readlines()[1:]:\n",
    "    termeksor = line.split(\"|\")\n",
    "    for i in range(1, len(termeksor)):\n",
    "        termeksor[i] = int(termeksor[i])\n",
    "    termekek.append(termeksor)\n",
    "\n",
    "### END SOLUTION\n",
    "\n",
    "print(termekek)"
   ]
  },
  {
   "cell_type": "code",
   "execution_count": 7,
   "id": "61f9337c",
   "metadata": {
    "nbgrader": {
     "grade": true,
     "grade_id": "cell-9825b1a3e6c91d00",
     "locked": true,
     "points": 1,
     "schema_version": 3,
     "solution": false,
     "task": false
    }
   },
   "outputs": [],
   "source": [
    "solution = %solution\n",
    "\n",
    "assert_equal(solution[0], \"[['alma', 50, 300, 15000], ['banán', 40, 400, 16000], ['citrom', 30, 500, 15000], ['dió', 20, 2500, 50000]]\")"
   ]
  },
  {
   "cell_type": "markdown",
   "id": "4306d71c",
   "metadata": {
    "nbgrader": {
     "grade": false,
     "grade_id": "cell-8b3bdc3e6c97a796",
     "locked": true,
     "schema_version": 3,
     "solution": false,
     "task": false
    }
   },
   "source": [
    "## Táblázatos 2\n",
    "\n",
    "Az előző feladatban keletkezett sorok listájából készíts egy olyan változatot amiben megduplázol minden értéket.\n",
    "\n",
    "Az így keletkezett lista tartalmát írd ki egy `dupla_tablazatos.txt` fájlba."
   ]
  },
  {
   "cell_type": "code",
   "execution_count": 8,
   "id": "e515de07",
   "metadata": {
    "nbgrader": {
     "grade": false,
     "grade_id": "cell-9086cad1053b7716",
     "locked": false,
     "schema_version": 3,
     "solution": true,
     "task": false
    }
   },
   "outputs": [],
   "source": [
    "### BEGIN SOLUTION\n",
    "file_output = open(\"dupla_tablazatos.txt\", \"wt\") # szoveges fajlba irunk\n",
    "\n",
    "termekek_out = []\n",
    "for termek in termekek:\n",
    "    termek_str = [str(elem*2) for elem in termek]\n",
    "    termek_sor = \"|\".join(termek_str)\n",
    "    termekek_out.append(termek_sor)\n",
    "    termekek_out.append('\\n')\n",
    "\n",
    "file_output.writelines(termekek_out)\n",
    "\n",
    "file_output.close()\n",
    "### END SOLUTION"
   ]
  },
  {
   "cell_type": "code",
   "execution_count": 11,
   "id": "8756cfac",
   "metadata": {
    "nbgrader": {
     "grade": true,
     "grade_id": "cell-d6a854948b5a189e",
     "locked": true,
     "points": 1,
     "schema_version": 3,
     "solution": false,
     "task": false
    }
   },
   "outputs": [],
   "source": [
    "solution = %solution\n",
    "\n",
    "import os\n",
    "\n",
    "assert_true(os.path.isfile(\"dupla_tablazatos.txt\"))\n",
    "with open(\"dupla_tablazatos.txt\", \"r\") as f:\n",
    "    idx = 0\n",
    "    for line in f:\n",
    "        name = line.split(\"|\")[0]\n",
    "        assert_equal(name, termekek[idx][0] * 2)\n",
    "        idx += 1"
   ]
  }
 ],
 "metadata": {
  "celltoolbar": "Create Assignment",
  "kernelspec": {
   "display_name": "Python 3",
   "language": "python",
   "name": "python3"
  },
  "language_info": {
   "codemirror_mode": {
    "name": "ipython",
    "version": 3
   },
   "file_extension": ".py",
   "mimetype": "text/x-python",
   "name": "python",
   "nbconvert_exporter": "python",
   "pygments_lexer": "ipython3",
   "version": "3.9.2"
  }
 },
 "nbformat": 4,
 "nbformat_minor": 5
}
