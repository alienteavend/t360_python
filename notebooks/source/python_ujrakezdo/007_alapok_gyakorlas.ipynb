{
 "cells": [
  {
   "cell_type": "markdown",
   "id": "949b9aa0",
   "metadata": {
    "nbgrader": {
     "grade": false,
     "grade_id": "cell-7b80c3bb099cfb4c",
     "locked": true,
     "schema_version": 3,
     "solution": false,
     "task": false
    }
   },
   "source": [
    "# 1. feladatsor - Python alapok gyakorlása\n",
    "## Vándorló madarak\n",
    "\n",
    "Adott egy lista ami madár megfigyeléseket tartalmaz időrendi sorrendben. Egy bejegyzett szám az adott madár típusa.\n",
    "`madarak = [2, 3, 2, 4, 5, 1, 2, 2, 3, 4, 6, 4, 2]`\n",
    "\n",
    "\n",
    "Írj egy olyan Python programot ami összesíti egy `dict`-ben a madártípusokat, és hogy hányszor fordultak elő a mérés során."
   ]
  },
  {
   "cell_type": "code",
   "execution_count": 1,
   "id": "61472f89",
   "metadata": {
    "nbgrader": {
     "grade": false,
     "grade_id": "cell-84721ecb4b633c21",
     "locked": false,
     "schema_version": 3,
     "solution": true,
     "task": false
    }
   },
   "outputs": [
    {
     "name": "stdout",
     "output_type": "stream",
     "text": [
      "{2: 5, 3: 2, 4: 3, 5: 1, 1: 1, 6: 1}\n"
     ]
    }
   ],
   "source": [
    "madarak = [2, 3, 2, 4, 5, 1, 2, 2, 3, 4, 6, 4, 2]\n",
    "### BEGIN SOLUTION\n",
    "counts = {}\n",
    "for elem in madarak:\n",
    "    counts[elem] = counts.get(elem, 0) + 1\n",
    "print(counts)\n",
    "### END SOLUTION"
   ]
  },
  {
   "cell_type": "code",
   "execution_count": 3,
   "id": "6da65b42",
   "metadata": {
    "nbgrader": {
     "grade": true,
     "grade_id": "cell-0bede469175bd15d",
     "locked": true,
     "points": 1,
     "schema_version": 3,
     "solution": false,
     "task": false
    }
   },
   "outputs": [],
   "source": [
    "solution = %solution\n",
    "assert_equal(solution[0].strip(), \"{2: 5, 3: 2, 4: 3, 5: 1, 1: 1, 6: 1}\")"
   ]
  },
  {
   "cell_type": "markdown",
   "id": "47a21e4e",
   "metadata": {
    "nbgrader": {
     "grade": false,
     "grade_id": "cell-1522c269725162cf",
     "locked": true,
     "schema_version": 3,
     "solution": false,
     "task": false
    }
   },
   "source": [
    "## CamelCase számoló\n",
    "Készíts egy függvényt `camel_case_solver` néven, ami paraméternek egy karakterláncot kap, és megadja, hogy hány szó van összefűzve CamelCase módon a megadott stringben.\n",
    "\n",
    "Pl:\n",
    "`camel_case_solver(\"CamelCaseTestCase\")` -> 4"
   ]
  },
  {
   "cell_type": "code",
   "execution_count": 8,
   "id": "0bd0182f",
   "metadata": {
    "nbgrader": {
     "grade": false,
     "grade_id": "cell-1bc5a980cd583d68",
     "locked": false,
     "schema_version": 3,
     "solution": true,
     "task": false
    }
   },
   "outputs": [],
   "source": [
    "### BEGIN SOLUTION\n",
    "def camel_case_solver(input_str):\n",
    "    my_count = 1 if not input_str[0].isupper() else 0\n",
    "    for element in input_str:\n",
    "        if element.isupper():\n",
    "            my_count += 1\n",
    "    return my_count\n",
    "### END SOLUTION"
   ]
  },
  {
   "cell_type": "code",
   "execution_count": 9,
   "id": "aaadb160",
   "metadata": {
    "nbgrader": {
     "grade": true,
     "grade_id": "cell-4d96a53f5f5e00fb",
     "locked": true,
     "points": 1,
     "schema_version": 3,
     "solution": false,
     "task": false
    }
   },
   "outputs": [],
   "source": [
    "solution = %solution\n",
    "\n",
    "assert_true('camel_case_solver' in locals())\n",
    "assert_equal(camel_case_solver('CamelCaseTestCase'), 4)\n",
    "assert_equal(camel_case_solver('alma'), 1)\n",
    "assert_equal(camel_case_solver('almafa'), 1)\n",
    "assert_equal(camel_case_solver('Alma'), 1)\n",
    "assert_equal(camel_case_solver('AlmaFa'), 2)\n"
   ]
  },
  {
   "cell_type": "markdown",
   "id": "52211d80",
   "metadata": {
    "nbgrader": {
     "grade": false,
     "grade_id": "cell-53ee597c68e6289b",
     "locked": true,
     "schema_version": 3,
     "solution": false,
     "task": false
    }
   },
   "source": [
    "## Doboz rajzoló\n",
    "\n",
    "Készíts egy függvényt (`draw_box` néven), ami stringet készít, amellyel szöveget tudunk kiírni egy dobozba, pl:\n",
    "\n",
    "```python\n",
    "#########\n",
    "# Hello #\n",
    "#########\n",
    "```\n",
    "\n",
    "A függvénynek lehessen megadni:\n",
    "* A doboz szélességét\n",
    "* A doboz magasságát\n",
    "* A kiírandó szöveget\n",
    "\n",
    "A szöveget mindig helyezzük horizontális és vertikális középre. A függvény térjen vissza az eredménnyel, ne írjon ki.\n",
    "\n",
    "Ha a megadott szélesség / magasságba nem férne be a szöveg, akkor térjen vissza `None` értékkel."
   ]
  },
  {
   "cell_type": "code",
   "execution_count": 38,
   "id": "f76a2e24",
   "metadata": {
    "nbgrader": {
     "grade": false,
     "grade_id": "cell-fa28ec479ae79a9b",
     "locked": false,
     "schema_version": 3,
     "solution": true,
     "task": false
    }
   },
   "outputs": [
    {
     "name": "stdout",
     "output_type": "stream",
     "text": [
      "###############\n",
      "#             #\n",
      "#    hello    #\n",
      "#             #\n",
      "###############\n",
      "\n"
     ]
    }
   ],
   "source": [
    "### BEGIN SOLUTION\n",
    "def draw_box(width, height, text):\n",
    "    if width < len(text) + 2 or height < 3:\n",
    "        return None\n",
    "    center_y = height // 2\n",
    "    text_start = (width - len(text)) // 2\n",
    "    text_current = 0\n",
    "    \n",
    "    ret = \"\"\n",
    "    for y in range(height):\n",
    "        for x in range(width):\n",
    "            if y == 0 or y == height - 1 or x == 0 or x == width - 1:\n",
    "                ret += \"#\"\n",
    "            elif y == center_y and text_start <= x < text_start + len(text):\n",
    "                ret += text[text_current]\n",
    "                text_current += 1\n",
    "            else:\n",
    "                ret += \" \"\n",
    "        ret += \"\\n\"\n",
    "    return ret\n",
    "### END SOLUTION\n",
    "print(draw_box(15, 5, \"hello\"))"
   ]
  },
  {
   "cell_type": "code",
   "execution_count": 36,
   "id": "cd7440fb",
   "metadata": {
    "nbgrader": {
     "grade": true,
     "grade_id": "cell-7b5025d3c59272e8",
     "locked": true,
     "points": 1,
     "schema_version": 3,
     "solution": false,
     "task": false
    }
   },
   "outputs": [],
   "source": [
    "solution = %solution\n",
    "\n",
    "assert_equal(draw_box(1, 1, \"Hello\"), None)\n",
    "assert_equal(draw_box(5, 15, \"Hello\"), None)\n",
    "assert_equal(draw_box(5, 7, \"Hello\"), None)\n",
    "assert_equal(draw_box(15, 5, \"hello\"), \"###############\\n#             #\\n#    hello    #\\n#             #\\n###############\\n\")"
   ]
  }
 ],
 "metadata": {
  "celltoolbar": "Create Assignment",
  "kernelspec": {
   "display_name": "Python 3",
   "language": "python",
   "name": "python3"
  },
  "language_info": {
   "codemirror_mode": {
    "name": "ipython",
    "version": 3
   },
   "file_extension": ".py",
   "mimetype": "text/x-python",
   "name": "python",
   "nbconvert_exporter": "python",
   "pygments_lexer": "ipython3",
   "version": "3.9.2"
  }
 },
 "nbformat": 4,
 "nbformat_minor": 5
}
