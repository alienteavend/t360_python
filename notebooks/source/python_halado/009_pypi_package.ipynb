{
 "cells": [
  {
   "cell_type": "markdown",
   "id": "7e831baa",
   "metadata": {
    "nbgrader": {
     "grade": false,
     "grade_id": "cell-5375f4ecc23ddd68",
     "locked": true,
     "schema_version": 3,
     "solution": false,
     "task": false
    }
   },
   "source": [
    "# 1. feladatsor - PYPI csomagolás\n",
    "## Csomag készítés\n",
    "\n",
    "\n",
    "Készíts egy tetszőleges Python package-et. (Akár a hellow world függvény is megteszi). Használd a cookiecutter package-et, és készítsd elő a feltöltésre a package-et.\n",
    "\n",
    "\n",
    "Töltsd fel a lokális pypi szerverredre.\n",
    "\n",
    "Kövesd a demo video lépéseit a feladat megoldásához.\n"
   ]
  }
 ],
 "metadata": {
  "celltoolbar": "Create Assignment",
  "kernelspec": {
   "display_name": "Python 3",
   "language": "python",
   "name": "python3"
  },
  "language_info": {
   "codemirror_mode": {
    "name": "ipython",
    "version": 3
   },
   "file_extension": ".py",
   "mimetype": "text/x-python",
   "name": "python",
   "nbconvert_exporter": "python",
   "pygments_lexer": "ipython3",
   "version": "3.9.2"
  }
 },
 "nbformat": 4,
 "nbformat_minor": 5
}
