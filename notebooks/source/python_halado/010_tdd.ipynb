{
 "cells": [
  {
   "cell_type": "markdown",
   "id": "7e831baa",
   "metadata": {
    "nbgrader": {
     "grade": false,
     "grade_id": "cell-5375f4ecc23ddd68",
     "locked": true,
     "schema_version": 3,
     "solution": false,
     "task": false
    }
   },
   "source": [
    "# 1. feladatsor - Tesztelés, TDD\n",
    "## Kalkulátor további tesztelése\n",
    "\n",
    "\n",
    "Bővítsd ki a kalkulátort, úgy, hogy az alábbi követelményeket teljesítse:\n",
    "\n",
    "- Lehessen, 2 db szám különbségét megállapítani\n",
    "- Lehessen, 2 szám szorzatát megállapítani\n",
    "- Lehessen, hatványozni. A hatványozás a szorzáson alapuljon.\n",
    "- Bővítsük ki a szorzást, hogy lehessen akárhány számot össze szorozni.\n",
    "\n",
    "Megoldásodnál törekedj a TDD szabályainak követésére:\n",
    "\n",
    "- Előbb a tesztet írd meg, minden követelményre külön-külön\n",
    "- Aztán a funkcionalitást alakítsd át úgy, hogy a többi teszt lehetőleg ne romoljon el. Ha elromlik akkor folyamatosan javítsd meg az eltört teszteket.\n",
    "- Majd, ha még van rá időd, jöhet a szépítgetés.\n",
    "\n"
   ]
  },
  {
   "cell_type": "code",
   "execution_count": 1,
   "id": "1bf3a21d",
   "metadata": {
    "nbgrader": {
     "grade": false,
     "grade_id": "cell-f3e2f5c07a0942f1",
     "locked": true,
     "schema_version": 3,
     "solution": false,
     "task": false
    }
   },
   "outputs": [],
   "source": [
    "class Calculator:\n",
    "    def sum(self, a, b, *args):\n",
    "        return a + b + sum(args)\n",
    "    "
   ]
  },
  {
   "cell_type": "code",
   "execution_count": 2,
   "id": "2211b90e",
   "metadata": {
    "nbgrader": {
     "grade": false,
     "grade_id": "cell-bbd134dac487ca76",
     "locked": true,
     "schema_version": 3,
     "solution": false,
     "task": false
    }
   },
   "outputs": [],
   "source": [
    "import unittest\n",
    "\n",
    "class BasicCalcTests(unittest.TestCase):\n",
    "    def setUp(self):\n",
    "        self.calc = Calculator()\n",
    "        \n",
    "    def tearDown(self):\n",
    "        self.calc = None\n",
    "        \n",
    "    def test_sum_of_2(self):\n",
    "        calc = Calculator()\n",
    "        result = calc.sum(2, 3)\n",
    "        self.assertEqual(5, result)\n",
    "        \n",
    "    def test_sum_3_int(self):\n",
    "        self.assertEqual(6, self.calc.sum(2,2,2))"
   ]
  },
  {
   "cell_type": "code",
   "execution_count": 3,
   "id": "67d8fdfd",
   "metadata": {
    "nbgrader": {
     "grade": false,
     "grade_id": "cell-cb623efde0efa1c3",
     "locked": false,
     "schema_version": 3,
     "solution": true,
     "task": false
    }
   },
   "outputs": [],
   "source": [
    "class Calculator:\n",
    "    def sum(self, a, b, *args):\n",
    "        return a + b + sum(args)\n",
    "    \n",
    "    def sub(self, a, b):\n",
    "        ## BEGIN SOLUTION\n",
    "        return a-b\n",
    "        ## END SOLUTION\n",
    "    \n",
    "    def prod(self, a, b, *args):\n",
    "        ## BEGIN SOLUTION\n",
    "        args = list(args)\n",
    "        args.append(a)\n",
    "        args.append(b)\n",
    "        return reduce(lambda x,y: x*y, args)\n",
    "        ## END SOLUTION\n",
    "    \n",
    "    def pow(self, a, b):\n",
    "        ## BEGIN SOLUTION\n",
    "        result = a\n",
    "        for _ in range(1,b):\n",
    "            result *= a\n",
    "        return result\n",
    "        ## END SOLUTION"
   ]
  },
  {
   "cell_type": "code",
   "execution_count": 4,
   "id": "dab6ef46",
   "metadata": {
    "nbgrader": {
     "grade": true,
     "grade_id": "cell-d6227cb5c3cafb27",
     "locked": true,
     "points": 1,
     "schema_version": 3,
     "solution": false,
     "task": false
    }
   },
   "outputs": [],
   "source": [
    "import unittest\n",
    "\n",
    "class BasicCalcTests(unittest.TestCase):\n",
    "    def setUp(self):\n",
    "        self.calc = Calculator()\n",
    "        \n",
    "    def tearDown(self):\n",
    "        self.calc = None\n",
    "        \n",
    "    def test_sum_of_2(self):\n",
    "        calc = Calculator()\n",
    "        result = calc.sum(2, 3)\n",
    "        self.assertEqual(5, result)\n",
    "        \n",
    "    def test_sum_3_int(self):\n",
    "        self.assertEqual(6, self.calc.sum(2,2,2))\n",
    "        \n",
    "    ## BEGIN SOLUTION\n",
    "    def test_sub(self):\n",
    "        self.assertEqual(2, self.calc.sub(4, 2))\n",
    "        \n",
    "    def test_prod(self):\n",
    "        self.assertEquall(12, self.calc.prod(2, 6))\n",
    "        \n",
    "    def test_pow(self):\n",
    "        self.assertEqual(9, self.calc.pow(3, 2))\n",
    "        \n",
    "    def test_prod_3_int(self):\n",
    "        self.assertEqual(24, self.calc.prod(2, 6, 2))\n",
    "        \n",
    "    def test_prod_4_int(self):\n",
    "        self.assertEqual(120, self.calc.prod(2, 6, 2, 5))\n",
    "    ## END SOLUTION\n",
    "        "
   ]
  }
 ],
 "metadata": {
  "celltoolbar": "Create Assignment",
  "kernelspec": {
   "display_name": "Python 3",
   "language": "python",
   "name": "python3"
  },
  "language_info": {
   "codemirror_mode": {
    "name": "ipython",
    "version": 3
   },
   "file_extension": ".py",
   "mimetype": "text/x-python",
   "name": "python",
   "nbconvert_exporter": "python",
   "pygments_lexer": "ipython3",
   "version": "3.9.2"
  }
 },
 "nbformat": 4,
 "nbformat_minor": 5
}
