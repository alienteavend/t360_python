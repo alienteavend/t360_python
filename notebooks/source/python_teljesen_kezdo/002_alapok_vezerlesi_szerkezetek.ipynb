{
 "cells": [
  {
   "cell_type": "markdown",
   "id": "58070fae",
   "metadata": {
    "nbgrader": {
     "grade": false,
     "grade_id": "cell-1ee533b61f664629",
     "locked": true,
     "schema_version": 3,
     "solution": false,
     "task": false
    }
   },
   "source": [
    "# 1. feladatsor - Ciklusok\n",
    "\n",
    "## Felhasználónév és jelszó\n",
    "Írj programot, amely addig kér felhasználónevet és jelszót, amíg kellően erős adatokat nem adunk meg.\n",
    "\n",
    "Felhasználónév legalább 6 karakter, jelszó legalább nyolc karakter, nem egyezik a felhasználónévvel.)"
   ]
  },
  {
   "cell_type": "code",
   "execution_count": null,
   "id": "9837c1d8",
   "metadata": {
    "nbgrader": {
     "grade": false,
     "grade_id": "cell-99da8cea42168c47",
     "locked": false,
     "schema_version": 3,
     "solution": true,
     "task": false
    }
   },
   "outputs": [],
   "source": [
    "username = None\n",
    "password = None\n",
    "\n",
    "### BEGIN SOLUTION\n",
    "while True:\n",
    "    username = input('username: ')\n",
    "    password = input('password: ')\n",
    "\n",
    "    if len(username) >= 6 and len(password) >= 8 and username != password:\n",
    "        break\n",
    "### END SOLUTION"
   ]
  },
  {
   "cell_type": "code",
   "execution_count": null,
   "id": "2640e0cf",
   "metadata": {
    "nbgrader": {
     "grade": true,
     "grade_id": "cell-67adc014e0d56af4",
     "locked": true,
     "points": 1,
     "schema_version": 3,
     "solution": false,
     "task": false
    }
   },
   "outputs": [],
   "source": [
    "solution = %solution\n",
    "\n",
    "assert_true(username is not None and password is not None)\n",
    "assert_true(len(username) >= 6 and len(password) >= 8 and username != password)"
   ]
  },
  {
   "cell_type": "markdown",
   "id": "fd2ab938",
   "metadata": {
    "nbgrader": {
     "grade": false,
     "grade_id": "cell-1ce8f98451e7c900",
     "locked": true,
     "schema_version": 3,
     "solution": false,
     "task": false
    }
   },
   "source": [
    "## Szám kitalálás\n",
    "\n",
    "Írj programot, amely 1 és 100 közt gondol egy véletlen számra. Tippet kér a felhasználótól, és kiírja, hogy\n",
    "a gondolt szám nagyobb-e vagy kisebb. Ha a felhasználó eltalálja a gondolt számot, akkor a program gratulál, és a\n",
    "futásának vége szakad (ezt a `Gratulalok eltalaltad` kiírásával tegye meg)."
   ]
  },
  {
   "cell_type": "code",
   "execution_count": null,
   "id": "e1bebd6a",
   "metadata": {
    "nbgrader": {
     "grade": false,
     "grade_id": "cell-0058d833213a1604",
     "locked": false,
     "schema_version": 3,
     "solution": true,
     "task": false
    }
   },
   "outputs": [],
   "source": [
    "import random\n",
    "\n",
    "szam = None\n",
    "\n",
    "### BEGIN SOLUTION\n",
    "szam = random.randint(1, 100)\n",
    "\n",
    "while True:\n",
    "    s = int(input('na milyen szamra gondoltam? '))\n",
    "    if s == szam:\n",
    "        print('Gratulalok eltalaltad')\n",
    "        break\n",
    "    elif s > szam:\n",
    "        print('Nem talalt, ennel kissebb!')\n",
    "    else:\n",
    "        print('Nem talalt, ennel nagyobb')\n",
    "### END SOLUTION"
   ]
  },
  {
   "cell_type": "code",
   "execution_count": null,
   "id": "6f08e620",
   "metadata": {
    "nbgrader": {
     "grade": true,
     "grade_id": "cell-9ce09057eaf32821",
     "locked": true,
     "points": 0,
     "schema_version": 3,
     "solution": false,
     "task": false
    }
   },
   "outputs": [],
   "source": [
    "solution = %solution\n",
    "\n",
    "assert_true(type(szam) == int)\n",
    "assert_true(len(solution))\n",
    "assert_true(solution[-1] == 'Gratulalok eltalaltad')"
   ]
  }
 ],
 "metadata": {
  "celltoolbar": "Create Assignment",
  "kernelspec": {
   "display_name": "Python 3",
   "language": "python",
   "name": "python3"
  },
  "language_info": {
   "codemirror_mode": {
    "name": "ipython",
    "version": 3
   },
   "file_extension": ".py",
   "mimetype": "text/x-python",
   "name": "python",
   "nbconvert_exporter": "python",
   "pygments_lexer": "ipython3",
   "version": "3.9.2"
  }
 },
 "nbformat": 4,
 "nbformat_minor": 5
}
