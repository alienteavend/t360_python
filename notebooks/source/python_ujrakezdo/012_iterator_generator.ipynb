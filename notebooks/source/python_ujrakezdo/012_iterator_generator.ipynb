{
 "cells": [
  {
   "cell_type": "markdown",
   "id": "949b9aa0",
   "metadata": {
    "nbgrader": {
     "grade": false,
     "grade_id": "cell-7b80c3bb099cfb4c",
     "locked": true,
     "schema_version": 3,
     "solution": false,
     "task": false
    }
   },
   "source": [
    "# 1. feladatsor - Iterátorok\n",
    "## Névsor\n",
    "\n",
    "Adott egy tanulói névsor:\n",
    "\n",
    "`nevek = [\"Szandra Eszti\", \"Zsombor Kristóf\", \"Ervin Karcsi\", \"Gabriella Gertrúd \", \"Felicitás Alexander\", \"Aurél Domonkos\", \"Vilmos Mariska\", \"Mónika Melánia \", \"Henriett Kató\", \"Dominika Vida\", \"Felicitás Salamon\", \"Regina Irma\", \"Laci Dzsenifer \", \"Sándor Judit\", \"Lilla Bálint\", \"Terézia Györgyike\", \"Albert Ábrahám \"]`\n",
    "\n",
    "Készíts egy iterátort `Nevsor` neven, ami ezt a névsort kapja meg, és betűrendben adja vissza a neveket."
   ]
  },
  {
   "cell_type": "code",
   "execution_count": 8,
   "id": "61472f89",
   "metadata": {
    "nbgrader": {
     "grade": false,
     "grade_id": "cell-84721ecb4b633c21",
     "locked": false,
     "schema_version": 3,
     "solution": true,
     "task": false
    }
   },
   "outputs": [
    {
     "name": "stdout",
     "output_type": "stream",
     "text": [
      "Albert Ábrahám \n",
      "Aurél Domonkos\n",
      "Dominika Vida\n",
      "Ervin Karcsi\n",
      "Felicitás Alexander\n",
      "Felicitás Salamon\n",
      "Gabriella Gertrúd \n",
      "Henriett Kató\n",
      "Laci Dzsenifer \n",
      "Lilla Bálint\n",
      "Mónika Melánia \n",
      "Regina Irma\n",
      "Szandra Eszti\n",
      "Sándor Judit\n",
      "Terézia Györgyike\n",
      "Vilmos Mariska\n",
      "Zsombor Kristóf\n"
     ]
    }
   ],
   "source": [
    "nevek = [\"Szandra Eszti\", \"Zsombor Kristóf\", \"Ervin Karcsi\", \"Gabriella Gertrúd \", \"Felicitás Alexander\", \"Aurél Domonkos\", \"Vilmos Mariska\", \"Mónika Melánia \", \"Henriett Kató\", \"Dominika Vida\", \"Felicitás Salamon\", \"Regina Irma\", \"Laci Dzsenifer \", \"Sándor Judit\", \"Lilla Bálint\", \"Terézia Györgyike\", \"Albert Ábrahám \"]\n",
    "\n",
    "## BEGIN SOLUTION\n",
    "class Nevsor:\n",
    "    def __init__(self, nevek):\n",
    "        self.nevek = sorted(nevek)\n",
    "        self.current =  0\n",
    "    def __next__(self):\n",
    "        if self.current >= len(self.nevek):\n",
    "            raise StopIteration \n",
    "        else:\n",
    "            ret_name = self.nevek[self.current]\n",
    "            self.current += 1 \n",
    "            return ret_name\n",
    "    def __iter__(self):\n",
    "        return self\n",
    "### END SOLUTION\n",
    "for i in Nevsor(nevek):\n",
    "    print(i)"
   ]
  },
  {
   "cell_type": "code",
   "execution_count": 11,
   "id": "6da65b42",
   "metadata": {
    "nbgrader": {
     "grade": true,
     "grade_id": "cell-0bede469175bd15d",
     "locked": true,
     "points": 1,
     "schema_version": 3,
     "solution": false,
     "task": false
    }
   },
   "outputs": [],
   "source": [
    "solution = %solution\n",
    "\n",
    "assert_equal([x for x in Nevsor(nevek)], [\"Albert Ábrahám \",\n",
    "\"Aurél Domonkos\",\n",
    "\"Dominika Vida\",\n",
    "\"Ervin Karcsi\",\n",
    "\"Felicitás Alexander\",\n",
    "\"Felicitás Salamon\",\n",
    "\"Gabriella Gertrúd \",\n",
    "\"Henriett Kató\",\n",
    "\"Laci Dzsenifer \",\n",
    "\"Lilla Bálint\",\n",
    "\"Mónika Melánia \",\n",
    "\"Regina Irma\",\n",
    "\"Szandra Eszti\",\n",
    "\"Sándor Judit\",\n",
    "\"Terézia Györgyike\",\n",
    "\"Vilmos Mariska\",\n",
    "\"Zsombor Kristóf\"])"
   ]
  },
  {
   "cell_type": "markdown",
   "id": "47a21e4e",
   "metadata": {
    "nbgrader": {
     "grade": false,
     "grade_id": "cell-1522c269725162cf",
     "locked": true,
     "schema_version": 3,
     "solution": false,
     "task": false
    }
   },
   "source": [
    "## Négyzetszámok\n",
    "\n",
    "Készíts egy iterátort `Squares` néven, ami végigmegy egy `limit` ig a számokon 0-tól és mindegyikre visszaadja a négyzetét.\n",
    "\n",
    "A `limit` legyen `__init__` paraméter."
   ]
  },
  {
   "cell_type": "code",
   "execution_count": 13,
   "id": "0bd0182f",
   "metadata": {
    "nbgrader": {
     "grade": false,
     "grade_id": "cell-1bc5a980cd583d68",
     "locked": false,
     "schema_version": 3,
     "solution": true,
     "task": false
    }
   },
   "outputs": [
    {
     "name": "stdout",
     "output_type": "stream",
     "text": [
      "[0, 1, 4, 9, 16, 25, 36, 49, 64, 81, 100, 121, 144, 169, 196, 225, 256, 289, 324, 361]\n"
     ]
    }
   ],
   "source": [
    "### BEGIN SOLUTION\n",
    "class Squares(object):\n",
    "    def __init__ (self, limit=200):\n",
    "        self.limit = limit \n",
    "        self.x = 0\n",
    "    def __next__ (self):\n",
    "        self.x += 1\n",
    "        if self.x > self.limit:\n",
    "            raise StopIteration \n",
    "        return (self.x-1)**2\n",
    "    def __getitem__(self, idx):\n",
    "        self.x = 0\n",
    "        while self.x < idx:\n",
    "            self.__next__()\n",
    "        return self.x**2\n",
    "    def __iter__(self):\n",
    "        return self\n",
    "        \n",
    "### END SOLUTION\n",
    "my_squares = Squares(limit=20)\n",
    "print([x for x in my_squares])"
   ]
  },
  {
   "cell_type": "code",
   "execution_count": 15,
   "id": "aaadb160",
   "metadata": {
    "nbgrader": {
     "grade": true,
     "grade_id": "cell-4d96a53f5f5e00fb",
     "locked": true,
     "points": 1,
     "schema_version": 3,
     "solution": false,
     "task": false
    }
   },
   "outputs": [],
   "source": [
    "solution = %solution\n",
    "assert_equal(solution[0], \"[0, 1, 4, 9, 16, 25, 36, 49, 64, 81, 100, 121, 144, 169, 196, 225, 256, 289, 324, 361]\")"
   ]
  },
  {
   "cell_type": "markdown",
   "id": "ae29956d",
   "metadata": {
    "nbgrader": {
     "grade": false,
     "grade_id": "cell-b19e64949f912999",
     "locked": true,
     "schema_version": 3,
     "solution": false,
     "task": false
    }
   },
   "source": [
    "# 2. feladatsor - Generátorok\n",
    "## Hét napjai generátor\n",
    "\n",
    "Adottak a hét napjai\n",
    "\n",
    "`days = [\"Monday\",\"Tuesday\",\"Wednesday\",\"Thursday\",\"Friday\",\"Saturday\",\"Sunday\"]`\n",
    "\n",
    "Írj egy generátort `day_of_week` néven, ami kigenerálja ezeket."
   ]
  },
  {
   "cell_type": "code",
   "execution_count": 22,
   "id": "2fa16eaa",
   "metadata": {
    "nbgrader": {
     "grade": false,
     "grade_id": "cell-5f3ac85c68017818",
     "locked": false,
     "schema_version": 3,
     "solution": true,
     "task": false
    }
   },
   "outputs": [
    {
     "name": "stdout",
     "output_type": "stream",
     "text": [
      "['Monday', 'Tuesday', 'Wednesday', 'Thursday', 'Friday', 'Saturday', 'Sunday']\n"
     ]
    }
   ],
   "source": [
    "## BEGIN SOLUTION\n",
    "\n",
    "def day_of_week():\n",
    "    i = 0\n",
    "    days = [\"Monday\",\"Tuesday\",\"Wednesday\",\"Thursday\",\"Friday\",\"Saturday\",\"Sunday\"] \n",
    "    while True:\n",
    "        if i >= len(days):\n",
    "            break\n",
    "        yield days[i]\n",
    "        i += 1\n",
    "### END SOLUTION\n",
    "print([x for x in day_of_week()])"
   ]
  },
  {
   "cell_type": "code",
   "execution_count": 23,
   "id": "b90b0dfc",
   "metadata": {
    "nbgrader": {
     "grade": true,
     "grade_id": "cell-e4847263acee2df0",
     "locked": true,
     "points": 1,
     "schema_version": 3,
     "solution": false,
     "task": false
    }
   },
   "outputs": [],
   "source": [
    "solution = %solution\n",
    "assert_equal(solution[0], \"['Monday', 'Tuesday', 'Wednesday', 'Thursday', 'Friday', 'Saturday', 'Sunday']\")"
   ]
  }
 ],
 "metadata": {
  "celltoolbar": "Create Assignment",
  "kernelspec": {
   "display_name": "Python 3",
   "language": "python",
   "name": "python3"
  },
  "language_info": {
   "codemirror_mode": {
    "name": "ipython",
    "version": 3
   },
   "file_extension": ".py",
   "mimetype": "text/x-python",
   "name": "python",
   "nbconvert_exporter": "python",
   "pygments_lexer": "ipython3",
   "version": "3.9.2"
  }
 },
 "nbformat": 4,
 "nbformat_minor": 5
}
