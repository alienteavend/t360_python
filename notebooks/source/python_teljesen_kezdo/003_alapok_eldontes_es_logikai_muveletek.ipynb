{
 "cells": [
  {
   "cell_type": "markdown",
   "id": "0017cf76",
   "metadata": {
    "nbgrader": {
     "grade": false,
     "grade_id": "cell-e2489c9588cc80b7",
     "locked": true,
     "schema_version": 3,
     "solution": false,
     "task": false
    }
   },
   "source": [
    "# 1. feladatsor - logikai műveletek és eldöntés\n",
    "\n",
    "## Boolean értékek\n",
    "\n",
    "Igaz, vagy hamis lesz a következő értékek eredménye?\n",
    "\n",
    "* `megoldas_1`: True and not False\n",
    "* `megoldas_2`: True and not True\n",
    "* `megoldas_3`: True or True and False\n",
    "* `megoldas_4`: not True or not False\n",
    "* `megoldas_5`: True and not 0\n",
    "* `megoldas_6`: 52 < 52.3\n",
    "* `megoldas_7`: 1 + 52 < 52.3\n",
    "* `megoldas_8`: 4 != 4.0\n",
    "\n",
    "A megoldást ilyen formaban írd:\n",
    "`megoldas_1 = True` vagy `megoldas_1 = False`"
   ]
  },
  {
   "cell_type": "code",
   "execution_count": 11,
   "id": "bdbb678e",
   "metadata": {
    "nbgrader": {
     "grade": false,
     "grade_id": "cell-8fc684254979027c",
     "locked": false,
     "schema_version": 3,
     "solution": true,
     "task": false
    }
   },
   "outputs": [],
   "source": [
    "megoldas_1 = None\n",
    "megoldas_2 = None\n",
    "megoldas_3 = None\n",
    "megoldas_4 = None\n",
    "megoldas_5 = None\n",
    "megoldas_6 = None\n",
    "megoldas_7 = None\n",
    "megoldas_8 = None\n",
    "\n",
    "### BEGIN SOLUTION\n",
    "megoldas_1 = True\n",
    "megoldas_2 = False\n",
    "megoldas_3 = True\n",
    "megoldas_4 = True\n",
    "megoldas_5 = True\n",
    "megoldas_6 = True\n",
    "megoldas_7 = False\n",
    "megoldas_8 = False\n",
    "### END SOLUTION"
   ]
  },
  {
   "cell_type": "code",
   "execution_count": 12,
   "id": "833b324d",
   "metadata": {
    "nbgrader": {
     "grade": true,
     "grade_id": "cell-fb154f3fad67a251",
     "locked": true,
     "points": 1,
     "schema_version": 3,
     "solution": false,
     "task": false
    }
   },
   "outputs": [],
   "source": [
    "solution = %solution\n",
    "\n",
    "assert_true(megoldas_1)\n",
    "assert_false(megoldas_2)\n",
    "assert_true(megoldas_3)\n",
    "assert_true(megoldas_4)\n",
    "assert_true(megoldas_5)\n",
    "assert_true(megoldas_6)\n",
    "assert_false(megoldas_7)\n",
    "assert_false(megoldas_8)"
   ]
  },
  {
   "cell_type": "markdown",
   "id": "f6e2e39c",
   "metadata": {
    "nbgrader": {
     "grade": false,
     "grade_id": "cell-3ee8674e7a1faf3b",
     "locked": true,
     "schema_version": 3,
     "solution": false,
     "task": false
    }
   },
   "source": [
    "\n",
    "## Szöveg átírása kóddá\n",
    "Adottak a következő változók:\n",
    "```\n",
    "alma = 12\n",
    "korte = 44\n",
    "barack = 7\n",
    "```\n",
    "\n",
    "A következő köznyelvi kijelentéseket, és írdd át kóddá:\n",
    "\n",
    "* `megoldas_1`: Nagyobb-e az alma és a körte értéke, mint a baracké?\n",
    "* `megoldas_2`: Két barack értéke egyenlő-e egy alma értékével?\n",
    "* `megoldas_3`: Igaz-e, hogy egy körte értékének a fele az 22?\n",
    "* `megoldas_4`: Ha összeszorozuk (alma értéke + 2) és (barack értéke - 3)-at, akkor az eredmény nagyobb lesz-e, mint korte * 3?\n"
   ]
  },
  {
   "cell_type": "code",
   "execution_count": 13,
   "id": "6bc47b7a",
   "metadata": {
    "nbgrader": {
     "grade": false,
     "grade_id": "cell-f8d81787dae71956",
     "locked": false,
     "schema_version": 3,
     "solution": true,
     "task": false
    }
   },
   "outputs": [],
   "source": [
    "solution = %solution\n",
    "\n",
    "alma = 12\n",
    "korte = 44\n",
    "barack = 7\n",
    "megoldas_1 = None\n",
    "megoldas_2 = None\n",
    "megoldas_3 = None\n",
    "megoldas_4 = None\n",
    "\n",
    "### BEGIN SOLUTION\n",
    "megoldas_1 = alma + korte > barack\n",
    "megoldas_2 = barack * 2 == alma\n",
    "megoldas_3 = korte / 2 == 22\n",
    "megoldas_4 = (alma + 2) * (barack - 3) > korte * 3\n",
    "### END SOLUTION\n"
   ]
  },
  {
   "cell_type": "code",
   "execution_count": 14,
   "id": "810729b9",
   "metadata": {
    "nbgrader": {
     "grade": true,
     "grade_id": "cell-97da3be30eab74f9",
     "locked": true,
     "points": 1,
     "schema_version": 3,
     "solution": false,
     "task": false
    }
   },
   "outputs": [],
   "source": [
    "assert_true(megoldas_1)\n",
    "assert_false(megoldas_2)\n",
    "assert_true(megoldas_3)\n",
    "assert_false(megoldas_4)"
   ]
  },
  {
   "cell_type": "markdown",
   "id": "5b640c5f",
   "metadata": {
    "nbgrader": {
     "grade": false,
     "grade_id": "cell-323366ec36b3b888",
     "locked": true,
     "schema_version": 3,
     "solution": false,
     "task": false
    }
   },
   "source": [
    "## Egyszerű eldöntés\n",
    "\n",
    "Kérdd be a felhasználótól a pH értékét, és döntd el, hogy savas vagy lúgos a pH? \n",
    "Számszerűen a pH-val jellemezzük\n",
    "\n",
    "* savas: pH < 7\n",
    "* lúgos: pH > 7\n",
    "\n",
    "Ha ez megvan, akkor írdd át úgy, hogy a semleges pH is kezelve legyen.\n",
    "\n",
    "* semleges: pH = 7\n"
   ]
  },
  {
   "cell_type": "code",
   "execution_count": 19,
   "id": "3c46591c",
   "metadata": {
    "nbgrader": {
     "grade": false,
     "grade_id": "cell-973a1b08bbace7b7",
     "locked": false,
     "schema_version": 3,
     "solution": true,
     "task": false
    }
   },
   "outputs": [
    {
     "name": "stdout",
     "output_type": "stream",
     "text": [
      "ph: 8\n",
      "lúgos\n"
     ]
    }
   ],
   "source": [
    "### BEGIN SOLUTION\n",
    "ph = 4\n",
    "ph = int(input(\"ph: \"))\n",
    "if ph < 7:\n",
    "    print(\"savas\")\n",
    "elif ph == 7:\n",
    "    print(\"semleges\")\n",
    "else:\n",
    "    print(\"lúgos\")\n",
    "### END SOLUTION\n"
   ]
  },
  {
   "cell_type": "code",
   "execution_count": 32,
   "id": "1192351c",
   "metadata": {
    "nbgrader": {
     "grade": true,
     "grade_id": "cell-479dd459e8d05531",
     "locked": true,
     "points": 1,
     "schema_version": 3,
     "solution": false,
     "task": false
    }
   },
   "outputs": [],
   "source": [
    "solution = %solution\n",
    "\n",
    "assert_true(\"semleges\" if ph == 7 else \"lúgos\" if ph > 7 else \"savas\")"
   ]
  },
  {
   "cell_type": "markdown",
   "id": "2d1cf083",
   "metadata": {
    "nbgrader": {
     "grade": false,
     "grade_id": "cell-6b55a7733746e607",
     "locked": true,
     "schema_version": 3,
     "solution": false,
     "task": false
    }
   },
   "source": [
    "## Vadkamera\n",
    "\n",
    "Egy vadkamera vezérlője a következő két értéket használja:\n",
    "\n",
    "`light` es `temperature`\n",
    "\n",
    "Ha a `light` kisebb, mint 0.01 lux VAGY a `temperature` fagyáspont felett van, akkor írdd ki, hogy \"snap\".\n",
    "\n",
    "Viszont, ha mindkettő teljesül, akkor ne írjon ki a program semmit."
   ]
  },
  {
   "cell_type": "code",
   "execution_count": 29,
   "id": "97afec26",
   "metadata": {
    "nbgrader": {
     "grade": false,
     "grade_id": "cell-6945751c47523576",
     "locked": false,
     "schema_version": 3,
     "solution": true,
     "task": false
    }
   },
   "outputs": [
    {
     "name": "stdout",
     "output_type": "stream",
     "text": [
      "snap\n"
     ]
    }
   ],
   "source": [
    "light = 0.01\n",
    "temperature = 5\n",
    "\n",
    "### BEGIN SOLUTION\n",
    "if (light<0.01) or (temperature>0.0):\n",
    "    if not ((light<0.01) and (temperature>0.0)):\n",
    "        print(\"snap\")      \n",
    "### END SOLUTION"
   ]
  },
  {
   "cell_type": "code",
   "execution_count": 31,
   "id": "b1de5e1d",
   "metadata": {
    "nbgrader": {
     "grade": true,
     "grade_id": "cell-8e05d38eab9e7e1d",
     "locked": true,
     "points": 0,
     "schema_version": 3,
     "solution": false,
     "task": false
    }
   },
   "outputs": [],
   "source": [
    "solution = %solution\n",
    "\n",
    "assert_equal(solution[0].strip(), \"snap\")"
   ]
  }
 ],
 "metadata": {
  "celltoolbar": "Create Assignment",
  "kernelspec": {
   "display_name": "Python 3",
   "language": "python",
   "name": "python3"
  },
  "language_info": {
   "codemirror_mode": {
    "name": "ipython",
    "version": 3
   },
   "file_extension": ".py",
   "mimetype": "text/x-python",
   "name": "python",
   "nbconvert_exporter": "python",
   "pygments_lexer": "ipython3",
   "version": "3.9.2"
  }
 },
 "nbformat": 4,
 "nbformat_minor": 5
}
