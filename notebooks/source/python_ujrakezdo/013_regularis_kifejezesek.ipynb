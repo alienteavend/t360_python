{
 "cells": [
  {
   "cell_type": "markdown",
   "id": "949b9aa0",
   "metadata": {
    "nbgrader": {
     "grade": false,
     "grade_id": "cell-7b80c3bb099cfb4c",
     "locked": true,
     "schema_version": 3,
     "solution": false,
     "task": false
    }
   },
   "source": [
    "# 1. feladatsor - Reguláris kifejezések\n",
    "## Szöveget keresünk\n",
    "\n",
    "Adottak a következő patternek:\n",
    "\n",
    "`patterns = [ 'fox', 'dog', 'horse' ]`\n",
    "\n",
    "És a következő szöveg:\n",
    "\n",
    "`text = 'The quick brown fox jumps over the lazy dog.'`\n",
    "\n",
    "\n",
    "Írj egy programot, ami egyesével megpróbálja megkeresni a patterneket a szövegben, és mindegyiknél kiírja, hogy `Benn van` vagy `Nincs benne`."
   ]
  },
  {
   "cell_type": "code",
   "execution_count": 2,
   "id": "61472f89",
   "metadata": {
    "nbgrader": {
     "grade": false,
     "grade_id": "cell-84721ecb4b633c21",
     "locked": false,
     "schema_version": 3,
     "solution": true,
     "task": false
    }
   },
   "outputs": [
    {
     "name": "stdout",
     "output_type": "stream",
     "text": [
      "Benne van\n",
      "Benne van\n",
      "Nincs benne\n"
     ]
    }
   ],
   "source": [
    "## BEGIN SOLUTION\n",
    "import re\n",
    "patterns = [ 'fox', 'dog', 'horse' ]\n",
    "text = 'The quick brown fox jumps over the lazy dog.'\n",
    "for pattern in patterns:\n",
    "    if re.search(pattern,  text):\n",
    "        print('Benne van')\n",
    "    else:\n",
    "        print('Nincs benne')\n",
    "### END SOLUTION"
   ]
  },
  {
   "cell_type": "code",
   "execution_count": 5,
   "id": "6da65b42",
   "metadata": {
    "nbgrader": {
     "grade": true,
     "grade_id": "cell-0bede469175bd15d",
     "locked": true,
     "points": 1,
     "schema_version": 3,
     "solution": false,
     "task": false
    }
   },
   "outputs": [],
   "source": [
    "solution = %solution\n",
    "\n",
    "assert_equal(solution[0].strip(), \"Benne van\")\n",
    "assert_equal(solution[1].strip(), \"Benne van\")\n",
    "assert_equal(solution[2].strip(), \"Nincs benne\")"
   ]
  },
  {
   "cell_type": "markdown",
   "id": "47a21e4e",
   "metadata": {
    "nbgrader": {
     "grade": false,
     "grade_id": "cell-1522c269725162cf",
     "locked": true,
     "schema_version": 3,
     "solution": false,
     "task": false
    }
   },
   "source": [
    "## URL keresés\n",
    "\n",
    "Adott egy szöveg amiben url-ek is vannak:\n",
    "\n",
    "`text = \"Látogass el a https://valami.hu oldalra, vagy nézd meg a legújabb ajánlatunkat a http://masikvalami.hu oldalon\"`\n",
    "\n",
    "Írj egy programot, ami kiválogatja a linkeket a szövegből és kiírja ezeket.\n",
    "\n"
   ]
  },
  {
   "cell_type": "code",
   "execution_count": 6,
   "id": "0bd0182f",
   "metadata": {
    "nbgrader": {
     "grade": false,
     "grade_id": "cell-1bc5a980cd583d68",
     "locked": false,
     "schema_version": 3,
     "solution": true,
     "task": false
    }
   },
   "outputs": [
    {
     "name": "stdout",
     "output_type": "stream",
     "text": [
      "['https://valami.hu', 'http://masikvalami.hu']\n"
     ]
    }
   ],
   "source": [
    "text = \"Látogass el a https://valami.hu oldalra, vagy nézd meg a legújabb ajánlatunkat a http://masikvalami.hu oldalon\"\n",
    "\n",
    "### BEGIN SOLUTION\n",
    "urls = re.findall('http[s]?://(?:[a-zA-Z]|[0-9]|[$-_@.&+]|[!*\\(\\),]|(?:%[0-9a-fA-F][0-9a-fA-F]))+', text)\n",
    "print(urls)        \n",
    "### END SOLUTION"
   ]
  },
  {
   "cell_type": "code",
   "execution_count": 8,
   "id": "aaadb160",
   "metadata": {
    "nbgrader": {
     "grade": true,
     "grade_id": "cell-4d96a53f5f5e00fb",
     "locked": true,
     "points": 1,
     "schema_version": 3,
     "solution": false,
     "task": false
    }
   },
   "outputs": [],
   "source": [
    "solution = %solution\n",
    "assert_equal(solution[0], \"['https://valami.hu', 'http://masikvalami.hu']\")"
   ]
  },
  {
   "cell_type": "markdown",
   "id": "ae29956d",
   "metadata": {
    "nbgrader": {
     "grade": false,
     "grade_id": "cell-b19e64949f912999",
     "locked": true,
     "schema_version": 3,
     "solution": false,
     "task": false
    }
   },
   "source": [
    "# Szöveg cenzúra\n",
    "\n",
    "Adott egy szöveg:\n",
    "\n",
    "`text = \"jó feketeség volt előttünk, fekete napra ébredtünk, mély fekete víz tükrét néztük\"`\n",
    "\n",
    "A cenzornak nem tetszik a sok `fekete` szó bármilyen formája, írj egy programot ami reguláris kifejezések használatával kitörli ezeket és kiírja az új szöveget.\n"
   ]
  },
  {
   "cell_type": "code",
   "execution_count": 17,
   "id": "2fa16eaa",
   "metadata": {
    "nbgrader": {
     "grade": false,
     "grade_id": "cell-5f3ac85c68017818",
     "locked": false,
     "schema_version": 3,
     "solution": true,
     "task": false
    }
   },
   "outputs": [
    {
     "name": "stdout",
     "output_type": "stream",
     "text": [
      "jó volt előttünk, napra ébredtünk, mély víz tükrét néztük\n"
     ]
    }
   ],
   "source": [
    "## BEGIN SOLUTION\n",
    "\n",
    "import re\n",
    "text = \"jó feketeség volt előttünk, fekete napra ébredtünk, mély fekete víz tükrét néztük\"\n",
    "print(re.sub(r\"fekete(\\S+)? \", \"\", text))\n",
    "### END SOLUTION"
   ]
  },
  {
   "cell_type": "code",
   "execution_count": 18,
   "id": "b90b0dfc",
   "metadata": {
    "nbgrader": {
     "grade": true,
     "grade_id": "cell-e4847263acee2df0",
     "locked": true,
     "points": 1,
     "schema_version": 3,
     "solution": false,
     "task": false
    }
   },
   "outputs": [],
   "source": [
    "solution = %solution\n",
    "\n",
    "assert_equal(solution[0], \"jó volt előttünk, napra ébredtünk, mély víz tükrét néztük\")"
   ]
  }
 ],
 "metadata": {
  "celltoolbar": "Create Assignment",
  "kernelspec": {
   "display_name": "Python 3",
   "language": "python",
   "name": "python3"
  },
  "language_info": {
   "codemirror_mode": {
    "name": "ipython",
    "version": 3
   },
   "file_extension": ".py",
   "mimetype": "text/x-python",
   "name": "python",
   "nbconvert_exporter": "python",
   "pygments_lexer": "ipython3",
   "version": "3.9.2"
  }
 },
 "nbformat": 4,
 "nbformat_minor": 5
}
