{
 "cells": [
  {
   "cell_type": "markdown",
   "id": "7e831baa",
   "metadata": {
    "nbgrader": {
     "grade": false,
     "grade_id": "cell-5375f4ecc23ddd68",
     "locked": true,
     "schema_version": 3,
     "solution": false,
     "task": false
    }
   },
   "source": [
    "# 1. feladatsor - Numpy\n",
    "## Áfa számolás\n",
    "\n",
    "Készíts egy Python programot ami kiszámítja nagyon sok tétel áfa tartalmát. Oldd meg NumPy tömbök segítségével és egyetlen egy műveletben.\n",
    "\n",
    "Használd:\n",
    "```python\n",
    "prices = np.array([92576.45739419,95857.75423288,71493.65061907,59923.55418634, 42067.67979619,8363.08886153,20471.9374097,35454.27570623,44773.20512158,46698.53904656])\n",
    "```\n",
    "\n",
    "Áfa (Áru Forgalmi Adó), melynek kulcsa legyen 27%.\n",
    "\n",
    "Az Áfa tartalom meghatározására a képlet:\n",
    "`netto_ar * afa_kulcs`\n",
    "\n",
    "Az eredményt tárold el a `vat_amount` változóban.\n",
    "\n",
    "\n",
    "Bonusz feladat: össze tudod kapcsolni egy numpy array-be a nettó ár és az áfa tartalom oszlopokat? (tipp np.column_stack)\n",
    "\n",
    "Az eredményt tárold el a `result` változóban."
   ]
  },
  {
   "cell_type": "code",
   "execution_count": 30,
   "id": "95f41ca7",
   "metadata": {
    "nbgrader": {
     "grade": false,
     "grade_id": "cell-9897d952a40b410e",
     "locked": false,
     "schema_version": 3,
     "solution": true,
     "task": false
    }
   },
   "outputs": [
    {
     "name": "stdout",
     "output_type": "stream",
     "text": [
      "[24995.64 25881.59 19303.29 16179.36 11358.27  2258.03  5527.42  9572.65\n",
      " 12088.77 12608.61]\n",
      "[[92576.46 24995.64]\n",
      " [95857.75 25881.59]\n",
      " [71493.65 19303.29]\n",
      " [59923.55 16179.36]\n",
      " [42067.68 11358.27]\n",
      " [ 8363.09  2258.03]\n",
      " [20471.94  5527.42]\n",
      " [35454.28  9572.65]\n",
      " [44773.21 12088.77]\n",
      " [46698.54 12608.61]]\n"
     ]
    }
   ],
   "source": [
    "import numpy as np\n",
    "np.set_printoptions(precision=2)\n",
    "\n",
    "prices = np.array([92576.45739419,95857.75423288,71493.65061907,59923.55418634, 42067.67979619,8363.08886153,20471.9374097,35454.27570623,44773.20512158,46698.53904656])\n",
    "result = None\n",
    "vat_amount = None\n",
    "## BEGIN SOLUTION\n",
    "vat = 0.27\n",
    "vat_amount = prices * vat\n",
    "result = np.column_stack((prices, vat_amount))\n",
    "## END SOLUTION\n",
    "print(vat_amount)\n",
    "print(result)"
   ]
  },
  {
   "cell_type": "code",
   "execution_count": 40,
   "id": "0532d2ef",
   "metadata": {
    "nbgrader": {
     "grade": true,
     "grade_id": "cell-b99080c958e396ff",
     "locked": true,
     "points": 1,
     "schema_version": 3,
     "solution": false,
     "task": false
    }
   },
   "outputs": [],
   "source": [
    "solution = %solution\n",
    "check_data = np.array([24995.64,25881.59,19303.29,16179.36,11358.27,2258.03,5527.42,9572.65,12088.77,12608.61])\n",
    "assert_true(all(np.isclose(vat_amount, check_data)))"
   ]
  },
  {
   "cell_type": "markdown",
   "id": "059768e9",
   "metadata": {
    "nbgrader": {
     "grade": false,
     "grade_id": "cell-9624a543ddb88ce9",
     "locked": true,
     "schema_version": 3,
     "solution": false,
     "task": false
    }
   },
   "source": [
    "# 2. feladatsor - PANDAS dataframe feladat\n",
    "## Időjárás\n",
    "\n",
    "Töltsd le a met.hu napi időjárási adatait tartalmazó adatforrást innen:\n",
    "\n",
    "https://www.met.hu/downloads.php?id=12&file=eghajlati_adatsor_1901-2019+&no=Budapest\n",
    "\n",
    "Adatmagyarázat: https://www.met.hu/eghajlat/magyarorszag_eghajlata/eghajlati_adatsorok/Budapest/adatok/napi_adatok/index.php       \n",
    "\n",
    "Válaszold meg a következő kérdést Pandas modul segítségével:\n",
    "\n",
    "Hány olyan nyári nap volt az 1920tól amikor 35 c feletti hőmérsékletet mértek? Printeld a megoldást."
   ]
  },
  {
   "cell_type": "code",
   "execution_count": 55,
   "id": "743f545d",
   "metadata": {
    "nbgrader": {
     "grade": false,
     "grade_id": "cell-9fa7d20a5c2a5066",
     "locked": false,
     "schema_version": 3,
     "solution": true,
     "task": false
    }
   },
   "outputs": [
    {
     "name": "stdout",
     "output_type": "stream",
     "text": [
      "239\n"
     ]
    }
   ],
   "source": [
    "import pandas as pd\n",
    "df = pd.read_csv('./BP_d.txt', sep=';')\n",
    "df.columns = ['dátum', 'közép_hőmérséklet', 'max_hőmérséklet', 'min_hőmérséklet', 'csap_összeg', 'csap_fajtája', 'napfény_tartam', 'sugárzás']\n",
    "\n",
    "## BEGIN SOLUTION\n",
    "df[\"dátum\"] = pd.to_datetime(df[\"dátum\"])\n",
    "df['ev'] = df[\"dátum\"].dt.year\n",
    "df.ev = df.ev.fillna(1900.0)\n",
    "df.ev = df.ev.astype(int)\n",
    "df['ho']= df[\"dátum\"].dt.month\n",
    "df.ho = df.ho.fillna(0.0)\n",
    "df.ho = df.ho.astype(int)\n",
    "df['nap']= df[\"dátum\"].dt.day\n",
    "df.nap = df.nap.fillna(0.0)\n",
    "df.nap = df.nap.astype(int)\n",
    "\n",
    "meleg_napok = df[(df[\"ev\"] > 1920) & (df[\"max_hőmérséklet\"] > 35.0)]\n",
    "meleg_napok[['dátum', 'max_hőmérséklet']]\n",
    "print(meleg_napok[\"nap\"].count())\n",
    "## END SOLUTION"
   ]
  },
  {
   "cell_type": "code",
   "execution_count": 54,
   "id": "8e84b5e7",
   "metadata": {
    "nbgrader": {
     "grade": true,
     "grade_id": "cell-bd3e30a89ae3fbb3",
     "locked": true,
     "points": 1,
     "schema_version": 3,
     "solution": false,
     "task": false
    }
   },
   "outputs": [],
   "source": [
    "solution = %solution\n",
    "\n",
    "assert_equal(int(solution[0]), 239)"
   ]
  }
 ],
 "metadata": {
  "celltoolbar": "Create Assignment",
  "kernelspec": {
   "display_name": "Python 3",
   "language": "python",
   "name": "python3"
  },
  "language_info": {
   "codemirror_mode": {
    "name": "ipython",
    "version": 3
   },
   "file_extension": ".py",
   "mimetype": "text/x-python",
   "name": "python",
   "nbconvert_exporter": "python",
   "pygments_lexer": "ipython3",
   "version": "3.9.2"
  }
 },
 "nbformat": 4,
 "nbformat_minor": 5
}
