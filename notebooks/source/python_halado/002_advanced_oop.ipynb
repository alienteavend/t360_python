{
 "cells": [
  {
   "cell_type": "markdown",
   "id": "949b9aa0",
   "metadata": {
    "nbgrader": {
     "grade": false,
     "grade_id": "cell-7b80c3bb099cfb4c",
     "locked": true,
     "schema_version": 3,
     "solution": false,
     "task": false
    }
   },
   "source": [
    "# 1. feladatsor - Dekorátorok\n",
    "\n",
    "## Oszthatóság számolása\n",
    "\n",
    "Készíts egy Python dekorátort `timeit_decorator` néven ami képes lemérni es printelni egy függvény időkomplexitását, azaz azt az időt ami a futtatásához kellett. \n",
    "\n",
    "PL:\n",
    "\n",
    "```\n",
    "@timeit_decorator\n",
    "def comprehension():\n",
    "\n",
    "    return [x**2 for x in range(3000000)]\n",
    "```\n",
    "\n",
    "A kiírás elvárt formája:\n",
    "\n",
    "`FUNCTION_NAME took TIME`\n",
    "\n",
    "\n",
    "`comprehension took 767.8432464599609`\n"
   ]
  },
  {
   "cell_type": "code",
   "execution_count": 2,
   "id": "61472f89",
   "metadata": {
    "nbgrader": {
     "grade": false,
     "grade_id": "cell-84721ecb4b633c21",
     "locked": false,
     "schema_version": 3,
     "solution": true,
     "task": false
    }
   },
   "outputs": [
    {
     "name": "stdout",
     "output_type": "stream",
     "text": [
      "comprehension took 679.8884868621826\n",
      "iter_over took 33.86116027832031\n",
      "generator took 0.0021457672119140625\n",
      "iter_over took 736.0579967498779\n"
     ]
    }
   ],
   "source": [
    "import time\n",
    "\n",
    "## BEGIN SOLUTION\n",
    "def timeit_decorator(fn):\n",
    "    def wrapper(*args):\n",
    "        start = time.time()\n",
    "        res = fn(*args)\n",
    "        end = time.time()\n",
    "        print(f'{fn.__name__} took {(end - start)*1000}')\n",
    "        return res\n",
    "    return wrapper\n",
    "### END SOLUTION\n",
    "\n",
    "@timeit_decorator\n",
    "def comprehension():\n",
    "    return [x**2 for x in range(3000000)]\n",
    "\n",
    "@timeit_decorator\n",
    "def generator():\n",
    "    return (x**2 for x in range(3000000))\n",
    "\n",
    "@timeit_decorator\n",
    "def iter_over(iter):\n",
    "    for _ in iter:\n",
    "        pass\n",
    "\n",
    "    \n",
    "alist = comprehension()\n",
    "iter_over(alist)\n",
    "agenerator = generator()\n",
    "iter_over(agenerator)"
   ]
  },
  {
   "cell_type": "code",
   "execution_count": 6,
   "id": "6da65b42",
   "metadata": {
    "nbgrader": {
     "grade": true,
     "grade_id": "cell-0bede469175bd15d",
     "locked": true,
     "points": 1,
     "schema_version": 3,
     "solution": false,
     "task": false
    }
   },
   "outputs": [],
   "source": [
    "solution = %solution\n",
    "\n",
    "assert_equal(len(solution), 4)\n",
    "assert_true(\"comprehension took\" in solution[0])\n",
    "assert_true(\"iter_over took\" in solution[1])\n",
    "assert_true(\"generator took\" in solution[2])\n",
    "assert_true(\"iter_over took\" in solution[3])"
   ]
  },
  {
   "cell_type": "markdown",
   "id": "58f8f0e6",
   "metadata": {
    "nbgrader": {
     "grade": false,
     "grade_id": "cell-974592a874ddcf27",
     "locked": true,
     "schema_version": 3,
     "solution": false,
     "task": false
    }
   },
   "source": [
    "## Anonimizáló dekorátor\n",
    "Készíts egy dekorátort `anonimize` néven, ami egy függvény visszatérési értékét anonimizálja, azaz olvashatatlanná teszi, ha a visszatérési érték `str` típusú.\n",
    "Tegye ezt úgy, hogy minden karaktert `#`-é alakít.\n",
    "Pl:\n",
    "    \n",
    "`almafa -> ######`\n",
    "\n",
    "\n"
   ]
  },
  {
   "cell_type": "code",
   "execution_count": 8,
   "id": "82a70a18",
   "metadata": {
    "nbgrader": {
     "grade": false,
     "grade_id": "cell-5c227f0b8eec859e",
     "locked": false,
     "schema_version": 3,
     "solution": true,
     "task": false
    }
   },
   "outputs": [
    {
     "name": "stdout",
     "output_type": "stream",
     "text": [
      "######\n"
     ]
    }
   ],
   "source": [
    "import random\n",
    "## BEGIN SOLUTION\n",
    "def anonimize(fn):\n",
    "    def wrapper(*args):\n",
    "        res = fn(*args)\n",
    "        if type(res) == str:\n",
    "            return \"#\" * len(res)\n",
    "        return res\n",
    "    return wrapper\n",
    "### END SOLUTION\n",
    "\n",
    "@anonimize\n",
    "def get_result():\n",
    "    data = [\"alma\", \"kortefa\", \"barack\", \"bananfa\"]\n",
    "    return random.choice(data)\n",
    "\n",
    "\n",
    "print(get_result())"
   ]
  },
  {
   "cell_type": "code",
   "execution_count": 9,
   "id": "48e7f231",
   "metadata": {
    "nbgrader": {
     "grade": true,
     "grade_id": "cell-6658e55c4a75eb0e",
     "locked": true,
     "points": 1,
     "schema_version": 3,
     "solution": false,
     "task": false
    }
   },
   "outputs": [],
   "source": [
    "solution = %solution\n",
    "\n",
    "assert_true('#' in get_result())\n",
    "assert_true('#' in get_result())\n",
    "assert_true('#' in get_result())\n",
    "assert_true('#' in get_result())\n",
    "assert_true('#' in get_result())"
   ]
  },
  {
   "cell_type": "markdown",
   "id": "a4df7f37",
   "metadata": {
    "nbgrader": {
     "grade": false,
     "grade_id": "cell-90282ca8e3c2aeef",
     "locked": true,
     "schema_version": 3,
     "solution": false,
     "task": false
    }
   },
   "source": [
    "## Logging dekorátor\n",
    "\n",
    "Írj egy olyan dekorátort `logged` néven, ami egy változó hosszú paraméter listával rendelkező függvényt be tud csomagolni és ki tudja írni a függvény összes paraméterét, nevét, valamint azt, hogy hány paramétere van.\n",
    "\n",
    "Kiírási minta:\n",
    "\n",
    "```python\n",
    "hello(2,4,6)\n",
    "=>\n",
    "you called hello((2, 4, 6))\n",
    "result was 6\n",
    "```"
   ]
  },
  {
   "cell_type": "code",
   "execution_count": 17,
   "id": "167794d3",
   "metadata": {
    "nbgrader": {
     "grade": false,
     "grade_id": "cell-ab64cbd1a8753849",
     "locked": false,
     "schema_version": 3,
     "solution": true,
     "task": false
    }
   },
   "outputs": [
    {
     "name": "stdout",
     "output_type": "stream",
     "text": [
      "you called hello((2, 4, 6))\n",
      "result was 6\n"
     ]
    },
    {
     "data": {
      "text/plain": [
       "6"
      ]
     },
     "execution_count": 17,
     "metadata": {},
     "output_type": "execute_result"
    }
   ],
   "source": [
    "## BEGIN SOLUTION\n",
    "import inspect\n",
    "\n",
    "def logged(fn):\n",
    "    def wrapper(*args):\n",
    "        result = fn(*args)\n",
    "        print(f'you called {fn.__name__}({args})')\n",
    "        print(f'result was {result}')\n",
    "        return result\n",
    "    return wrapper\n",
    "### END SOLUTION\n",
    "\n",
    "@logged\n",
    "def hello(*args):\n",
    "    return 3 + len(args)\n",
    "\n",
    "hello(2,4,6)"
   ]
  },
  {
   "cell_type": "code",
   "execution_count": 18,
   "id": "09519477",
   "metadata": {
    "nbgrader": {
     "grade": true,
     "grade_id": "cell-be785a9ad12141b5",
     "locked": true,
     "points": 1,
     "schema_version": 3,
     "solution": false,
     "task": false
    }
   },
   "outputs": [],
   "source": [
    "solution = %solution\n",
    "\n",
    "assert_equal(solution[0], \"you called hello((2, 4, 6))\")\n",
    "assert_equal(solution[1], \"result was 6\")\n"
   ]
  },
  {
   "cell_type": "markdown",
   "id": "5ff772fb",
   "metadata": {
    "nbgrader": {
     "grade": false,
     "grade_id": "cell-4416749fd1faf661",
     "locked": true,
     "schema_version": 3,
     "solution": false,
     "task": false
    }
   },
   "source": [
    "## 2. feladatsor - Haladó objektum orientált programozás\n",
    "\n",
    "Készíts egy Python programot ami az alábbi osztályokat és interface-eket valósítja meg:\n",
    "\n",
    "```ascii\n",
    "    ┌─────────────────────────┐            ┌─────────────────────────┐\n",
    "    │       <<abc.ABC>>       │            │                         │\n",
    "    │          Bird           │            │         Parrot          │\n",
    "    ├─────────────────────────┤            ├─────────────────────────┤\n",
    "    │                         │◄───────────┤                         │\n",
    "    ├─────────────────────────┤            ├─────────────────────────┤\n",
    "    │         *fly()          │            │         *fly()          │\n",
    "    └─────────────────────────┘            └─────────────────────────┘\n",
    "    ┌─────────────────────────┐            ┌─────────────────────────┐\n",
    "    │       <<abc.ABC>>       │            │                         │\n",
    "    │          Hero           │            │        SuperMan         │\n",
    "    ├─────────────────────────┤            ├─────────────────────────┤\n",
    "    │                         │◄───────────┤                         │\n",
    "    ├─────────────────────────┤            ├─────────────────────────┤\n",
    "    │         *fly()          │            │         *fly()          │\n",
    "    ├─────────────────────────┤            ├─────────────────────────┤\n",
    "    │       *use_power()      │            │       *use_power()      │\n",
    "    └─────────────────────────┘            └─────────────────────────┘\n",
    "```\n",
    "\n",
    "Ügyelj rá, hogy a formális interface-t használj.\n",
    "\n",
    "A példa futása az alábbi kimenetet kell adnia:\n",
    "```text\n",
    "slow flyer\n",
    "superpower\n",
    "False\n",
    "False\n",
    "```"
   ]
  },
  {
   "cell_type": "code",
   "execution_count": 19,
   "id": "d64ccbc3",
   "metadata": {
    "nbgrader": {
     "grade": false,
     "grade_id": "cell-959a7afa3ad2a3fa",
     "locked": false,
     "schema_version": 3,
     "solution": true,
     "task": false
    }
   },
   "outputs": [
    {
     "name": "stdout",
     "output_type": "stream",
     "text": [
      "slow flyer\n",
      "superpower\n",
      "False\n",
      "False\n"
     ]
    }
   ],
   "source": [
    "## BEGIN SOLUTION\n",
    "import abc\n",
    "\n",
    "\n",
    "class Bird(abc.ABC):\n",
    "    @abc.abstractmethod\n",
    "    def fly(self):\n",
    "        pass\n",
    "\n",
    "\n",
    "class Hero(abc.ABC):\n",
    "    @abc.abstractmethod\n",
    "    def use_power(self):\n",
    "        pass\n",
    "\n",
    "    @abc.abstractmethod\n",
    "    def fly(self):\n",
    "        pass\n",
    "\n",
    "\n",
    "class Parrot(Bird):\n",
    "    def fly(self):\n",
    "        print('slow flyer')\n",
    "\n",
    "\n",
    "class SuperMan(Hero):\n",
    "    def use_power(self):\n",
    "        print('superpower')\n",
    "\n",
    "    def fly(self):\n",
    "        print(\"It's not a bird, it is superman\")\n",
    "### END SOLUTION\n",
    "\n",
    "\n",
    "p = Parrot()\n",
    "\n",
    "p.fly()\n",
    "\n",
    "super_man = SuperMan()\n",
    "\n",
    "super_man.use_power()\n",
    "\n",
    "print(isinstance(p, Hero))\n",
    "\n",
    "print(isinstance(super_man, Bird))"
   ]
  },
  {
   "cell_type": "code",
   "execution_count": 20,
   "id": "7e81baa0",
   "metadata": {
    "nbgrader": {
     "grade": true,
     "grade_id": "cell-d63bdf5f3da38857",
     "locked": true,
     "points": 1,
     "schema_version": 3,
     "solution": false,
     "task": false
    }
   },
   "outputs": [],
   "source": [
    "solution = %solution\n",
    "\n",
    "assert_false(isinstance(p, Hero))\n",
    "assert_false(isinstance(super_man, Bird))\n",
    "assert_true(isinstance(p, Bird))\n",
    "assert_true(isinstance(super_man, Hero))\n",
    "assert_true(hasattr(super_man, 'use_power'))\n",
    "assert_true(hasattr(super_man, 'fly'))\n",
    "assert_true(hasattr(p, 'fly'))\n",
    "assert_false(hasattr(p, 'use_power'))"
   ]
  },
  {
   "cell_type": "markdown",
   "id": "f416c69f",
   "metadata": {
    "nbgrader": {
     "grade": false,
     "grade_id": "cell-ac5c424234b04eb7",
     "locked": true,
     "schema_version": 3,
     "solution": false,
     "task": false
    }
   },
   "source": [
    "## 3. feladatsor - többszörös öröklődés\n",
    "Készíts el egy Python programot ami az alábbi objektum hierarchiát és működést valósítja meg:\n",
    "\n",
    "```ascii\n",
    "                         +---------------------------+\n",
    "                         |          Address          |    +---------------------------+\n",
    "                         +---------------------------+    |          Person           |\n",
    "                         |          street           |    +---------------------------+\n",
    "                         |           city            |    |                           |\n",
    "                         +---------------------------+    +---------------------------+\n",
    "                         |__init__(street, city)     |    |__init__(name, email)      |\n",
    "                         |show()                     |    |show()                     |\n",
    "                         +-------------+-------------+    +-------------------+-------+\n",
    "                                       |                                      |\n",
    "                                       |                                      |\n",
    "                                       |                                      |\n",
    "                                       |                                      |\n",
    "                                       |                                      |\n",
    "+---------------------------+          +>+-----------------------------+<-----+\n",
    "|         Notebook          |            |         Contact             |\n",
    "+------------------------+--+  1   0..1  +-----------------------------+\n",
    "|    people:dict(Contact)|+++----------->|                             |\n",
    "+------------------------+--+            +-----------------------------+\n",
    "|add(name, email, street,   |            |__init__(name, email, street,|\n",
    "|    city)                  |            |         city)               |\n",
    "|show(name)                 |            |show()                       |\n",
    "+---------------------------+            +-----------------------------+\n",
    "```\n",
    "\n",
    "A többes öröklődés a Contact, Address és Person objektumok között áll fenn. A teszteléshez egy Notebook osztályt készíts ami használja a Contact osztályt. Tárold a ”people” nevű példány változóban a Contact-otkat. Ez legyen egy dict. A show metódus a Notebookon legyen képes megjeleníteni az egyes Contact-okat név alapján.\n",
    "\n",
    "Elvárt kimenet:\n",
    "\n",
    "```text\n",
    "Alice <al@kth.se>\n",
    "Lv 24\n",
    "Sthlm\n",
    "\n",
    "Unknown Carol\n",
    "```"
   ]
  },
  {
   "cell_type": "code",
   "execution_count": 29,
   "id": "fb823ab6",
   "metadata": {
    "nbgrader": {
     "grade": false,
     "grade_id": "cell-8212d83c0e0ccc47",
     "locked": false,
     "schema_version": 3,
     "solution": true,
     "task": false
    }
   },
   "outputs": [
    {
     "name": "stdout",
     "output_type": "stream",
     "text": [
      "Alice <al@kth.se>\n",
      "Lv 24\n",
      "Sthlm\n",
      "\n",
      "Unknown Carol\n",
      "{'Alice': <__main__.Contact object at 0x7faa22be5880>, 'Bob': <__main__.Contact object at 0x7faa22be5370>}\n"
     ]
    }
   ],
   "source": [
    "## BEGIN SOLUTION\n",
    "class Address:\n",
    "    def __init__(self, street, city):\n",
    "        self.street = str(street)\n",
    "        self.city = str(city)\n",
    "    def show(self):\n",
    "        print(self.street)\n",
    "        print(self.city)\n",
    "\n",
    "class Person:\n",
    "    def __init__(self, name, email):\n",
    "        self.name = str(name)\n",
    "        self.email= str(email)\n",
    "    def show(self):\n",
    "        print(self.name + ' ' + self.email)\n",
    "\n",
    "class Contact(Person, Address):\n",
    "    def __init__(self, name, email, street, city):\n",
    "        Person.__init__(self, name, email)\n",
    "        Address.__init__(self, street, city)\n",
    "    def show(self):\n",
    "        Person.show(self)\n",
    "        Address.show(self)\n",
    "        print()\n",
    "\n",
    "class Notebook:\n",
    "    people = dict()\n",
    "    def add(self, name, email, street, city):\n",
    "        self.people[name] = Contact(name, email, street, city)\n",
    "    def show(self, name):\n",
    "        if name in self.people:\n",
    "            self.people[name].show()\n",
    "        else:\n",
    "            print('Unknown', name)\n",
    "\n",
    "### END SOLUTION\n",
    "notes = Notebook()\n",
    "notes.add('Alice', '<al@kth.se>', 'Lv 24', 'Sthlm')\n",
    "notes.add('Bob', '<bb@kth.se>', 'Rtb 35', 'Sthlm')\n",
    "\n",
    "notes.show('Alice')\n",
    "notes.show('Carol')"
   ]
  },
  {
   "cell_type": "code",
   "execution_count": 32,
   "id": "984b6d95",
   "metadata": {
    "nbgrader": {
     "grade": true,
     "grade_id": "cell-ab973b6234b288bc",
     "locked": true,
     "points": 1,
     "schema_version": 3,
     "solution": false,
     "task": false
    }
   },
   "outputs": [],
   "source": [
    "solution = %solution\n",
    "\n",
    "assert_true(type(notes.people) == dict)\n",
    "assert_true(type(notes.people['Alice']) == Contact)\n",
    "assert_true(isinstance(notes.people['Alice'],Person))\n",
    "assert_true(isinstance(notes.people['Alice'],Address))"
   ]
  }
 ],
 "metadata": {
  "celltoolbar": "Create Assignment",
  "kernelspec": {
   "display_name": "Python 3",
   "language": "python",
   "name": "python3"
  },
  "language_info": {
   "codemirror_mode": {
    "name": "ipython",
    "version": 3
   },
   "file_extension": ".py",
   "mimetype": "text/x-python",
   "name": "python",
   "nbconvert_exporter": "python",
   "pygments_lexer": "ipython3",
   "version": "3.9.2"
  }
 },
 "nbformat": 4,
 "nbformat_minor": 5
}
