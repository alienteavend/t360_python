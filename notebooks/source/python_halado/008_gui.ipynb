{
 "cells": [
  {
   "cell_type": "markdown",
   "id": "7e831baa",
   "metadata": {
    "nbgrader": {
     "grade": false,
     "grade_id": "cell-5375f4ecc23ddd68",
     "locked": true,
     "schema_version": 3,
     "solution": false,
     "task": false
    }
   },
   "source": [
    "# 1. feladatsor - Grafikus felület\n",
    "## Póker\n",
    "\n",
    "Készíts egy Python programot ami az előző modulokban használt Poker paklit használva grafikusan is megjeleniti egy poker hand-et.\n",
    "\n",
    "Használjuk a qt editort, illetve a demoban megsimert modszert arra, hogy megjelenitsd a poker handet.\n",
    "\n",
    "A feladatot nem tudod itt tesztelni. Írd meg külön, és vesd össze a megoldással."
   ]
  },
  {
   "cell_type": "code",
   "execution_count": 2,
   "id": "46157bc6",
   "metadata": {
    "nbgrader": {
     "grade": false,
     "grade_id": "cell-c6043aebe29386b4",
     "locked": true,
     "schema_version": 3,
     "solution": false,
     "task": false
    }
   },
   "outputs": [
    {
     "ename": "ModuleNotFoundError",
     "evalue": "No module named 'PyQT5'",
     "output_type": "error",
     "traceback": [
      "\u001b[0;31m---------------------------------------------------------------------------\u001b[0m",
      "\u001b[0;31mModuleNotFoundError\u001b[0m                       Traceback (most recent call last)",
      "\u001b[0;32m<ipython-input-2-97549ee95b02>\u001b[0m in \u001b[0;36m<module>\u001b[0;34m\u001b[0m\n\u001b[0;32m----> 1\u001b[0;31m \u001b[0;32mfrom\u001b[0m \u001b[0mPyQT5\u001b[0m \u001b[0;32mimport\u001b[0m \u001b[0mQTWidgets\u001b[0m\u001b[0;34m,\u001b[0m \u001b[0muic\u001b[0m\u001b[0;34m\u001b[0m\u001b[0;34m\u001b[0m\u001b[0m\n\u001b[0m\u001b[1;32m      2\u001b[0m \u001b[0;32mimport\u001b[0m \u001b[0msys\u001b[0m\u001b[0;34m\u001b[0m\u001b[0;34m\u001b[0m\u001b[0m\n\u001b[1;32m      3\u001b[0m \u001b[0;32mimport\u001b[0m \u001b[0mitertools\u001b[0m \u001b[0;32mas\u001b[0m \u001b[0mit\u001b[0m\u001b[0;34m\u001b[0m\u001b[0;34m\u001b[0m\u001b[0m\n\u001b[1;32m      4\u001b[0m \u001b[0;32mimport\u001b[0m \u001b[0mrandom\u001b[0m\u001b[0;34m\u001b[0m\u001b[0;34m\u001b[0m\u001b[0m\n\u001b[1;32m      5\u001b[0m \u001b[0;34m\u001b[0m\u001b[0m\n",
      "\u001b[0;31mModuleNotFoundError\u001b[0m: No module named 'PyQT5'"
     ]
    }
   ],
   "source": [
    "from PyQT5 import QTWidgets, uic\n",
    "import sys\n",
    "import itertools as it\n",
    "import random\n",
    "\n",
    "ranks = ['A', 'K', 'Q', 'J', '10', '9', '8', '7', '6', '5', '4', '3', '2']\n",
    "suits = ['♠','♥','♦','♣']\n",
    "\n",
    "def shuffle(deck):\n",
    "    deck = list(deck)\n",
    "    random.shuffle(deck)\n",
    "    return iter(tuple(deck))\n",
    "\n",
    "def cut(deck,n):\n",
    "    deck1, deck2 = it.tee(deck, 2)\n",
    "    top = it.islice(deck1, n)\n",
    "    bottom = it.islice(deck2, n , None)\n",
    "    return it.chain(top,bottom)\n",
    "\n",
    "def deal(deck, hand_size=5):\n",
    "    iters = [iter(deck)] * hand_size\n",
    "    hands_gen = (next(it.islice(itr, 1)) for itr in iters)\n",
    "    return hands_gen\n",
    "\n",
    "class Ui(QtWidgets.QFrame):\n",
    "    def __init__(self):\n",
    "        super(Ui, self).__init__()\n",
    "        uic.loadUi('basic_poker.ui', self)\n",
    "        self.show()\n",
    "        \n",
    "        self.button = self.findChild(QtWidgets.QPushButton, 'dealer_button')\n",
    "        self.button.clicked.connect(self.deal_hand)\n",
    "        self.hand = self.findChild(QtWidgets.QLabel, 'hand')\n",
    "        \n",
    "    def deal_hand(self):\n",
    "        cards = cut(shuffle(it.product(ranks, suits)), 26)\n",
    "        hand = deal(cards)\n",
    "        card_strings = (\"\".join(pair) for pair in hand)\n",
    "        self.hand.setText(\" \".join(card_strings))\n",
    "        \n",
    "app = QtWidgets.QApplication(sys.argv)\n",
    "windows = Ui()\n",
    "app.exec_()"
   ]
  }
 ],
 "metadata": {
  "celltoolbar": "Create Assignment",
  "kernelspec": {
   "display_name": "Python 3",
   "language": "python",
   "name": "python3"
  },
  "language_info": {
   "codemirror_mode": {
    "name": "ipython",
    "version": 3
   },
   "file_extension": ".py",
   "mimetype": "text/x-python",
   "name": "python",
   "nbconvert_exporter": "python",
   "pygments_lexer": "ipython3",
   "version": "3.9.2"
  }
 },
 "nbformat": 4,
 "nbformat_minor": 5
}
