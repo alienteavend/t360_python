{
 "cells": [
  {
   "cell_type": "markdown",
   "id": "949b9aa0",
   "metadata": {
    "nbgrader": {
     "grade": false,
     "grade_id": "cell-7b80c3bb099cfb4c",
     "locked": true,
     "schema_version": 3,
     "solution": false,
     "task": false
    }
   },
   "source": [
    "# 1. feladatsor - Modulok\n",
    "## Saját modul import\n",
    "\n",
    "Írd be a következő forráskódot a `my_module.py` fájlba:\n",
    "```\n",
    "class CustomClass:\n",
    "\n",
    "    def hello(self):\n",
    "        print(\"Hello\")\n",
    "\n",
    "c = CustomClass()\n",
    "\n",
    "print(\"Hejj\")\n",
    "```\n",
    "\n",
    "A feladatod, hogy importáld be ezt a modult."
   ]
  },
  {
   "cell_type": "code",
   "execution_count": 1,
   "id": "61472f89",
   "metadata": {
    "nbgrader": {
     "grade": false,
     "grade_id": "cell-84721ecb4b633c21",
     "locked": false,
     "schema_version": 3,
     "solution": true,
     "task": false
    }
   },
   "outputs": [
    {
     "name": "stdout",
     "output_type": "stream",
     "text": [
      "Hejj\n"
     ]
    }
   ],
   "source": [
    "## BEGIN SOLUTION\n",
    "import my_module\n",
    "### END SOLUTION"
   ]
  },
  {
   "cell_type": "code",
   "execution_count": 2,
   "id": "6da65b42",
   "metadata": {
    "nbgrader": {
     "grade": true,
     "grade_id": "cell-0bede469175bd15d",
     "locked": true,
     "points": 1,
     "schema_version": 3,
     "solution": false,
     "task": false
    }
   },
   "outputs": [],
   "source": [
    "solution = %solution\n",
    "\n",
    "assert_equal(solution[0].strip(), \"Hejj\")"
   ]
  },
  {
   "cell_type": "markdown",
   "id": "47a21e4e",
   "metadata": {
    "nbgrader": {
     "grade": false,
     "grade_id": "cell-1522c269725162cf",
     "locked": true,
     "schema_version": 3,
     "solution": false,
     "task": false
    }
   },
   "source": [
    "## Modulból változó használat\n",
    "\n",
    "A `my_module` ból hívd meg a `c.hello()` függvényt.\n"
   ]
  },
  {
   "cell_type": "code",
   "execution_count": 14,
   "id": "0bd0182f",
   "metadata": {
    "nbgrader": {
     "grade": false,
     "grade_id": "cell-1bc5a980cd583d68",
     "locked": false,
     "schema_version": 3,
     "solution": true,
     "task": false
    }
   },
   "outputs": [
    {
     "name": "stdout",
     "output_type": "stream",
     "text": [
      "Hello\n"
     ]
    }
   ],
   "source": [
    "## BEGIN SOLUTION\n",
    "from my_module import c\n",
    "c.hello()\n",
    "### END SOLUTION"
   ]
  },
  {
   "cell_type": "code",
   "execution_count": 17,
   "id": "aaadb160",
   "metadata": {
    "nbgrader": {
     "grade": true,
     "grade_id": "cell-4d96a53f5f5e00fb",
     "locked": true,
     "points": 1,
     "schema_version": 3,
     "solution": false,
     "task": false
    }
   },
   "outputs": [],
   "source": [
    "solution = %solution\n",
    "assert_true(\"Hello\" in solution)"
   ]
  },
  {
   "cell_type": "markdown",
   "id": "ae29956d",
   "metadata": {
    "nbgrader": {
     "grade": false,
     "grade_id": "cell-b19e64949f912999",
     "locked": true,
     "schema_version": 3,
     "solution": false,
     "task": false
    }
   },
   "source": [
    "## Modulból class használat\n",
    "\n",
    "A `my_module`-ból példányosítsd a `CustomClass`-t és tárold el a my_custom_class változóba!"
   ]
  },
  {
   "cell_type": "code",
   "execution_count": 8,
   "id": "2fa16eaa",
   "metadata": {
    "nbgrader": {
     "grade": false,
     "grade_id": "cell-5f3ac85c68017818",
     "locked": false,
     "schema_version": 3,
     "solution": true,
     "task": false
    }
   },
   "outputs": [],
   "source": [
    "## BEGIN SOLUTION\n",
    "from my_module import CustomClass\n",
    "my_custom_class = CustomClass()\n",
    "### END SOLUTION"
   ]
  },
  {
   "cell_type": "code",
   "execution_count": 9,
   "id": "b90b0dfc",
   "metadata": {
    "nbgrader": {
     "grade": true,
     "grade_id": "cell-e4847263acee2df0",
     "locked": true,
     "points": 1,
     "schema_version": 3,
     "solution": false,
     "task": false
    }
   },
   "outputs": [],
   "source": [
    "solution = %solution\n",
    "assert_true(\"my_custom_class\" in locals())\n",
    "assert_true(type(my_custom_class) == CustomClass)"
   ]
  }
 ],
 "metadata": {
  "celltoolbar": "Create Assignment",
  "kernelspec": {
   "display_name": "Python 3",
   "language": "python",
   "name": "python3"
  },
  "language_info": {
   "codemirror_mode": {
    "name": "ipython",
    "version": 3
   },
   "file_extension": ".py",
   "mimetype": "text/x-python",
   "name": "python",
   "nbconvert_exporter": "python",
   "pygments_lexer": "ipython3",
   "version": "3.9.2"
  }
 },
 "nbformat": 4,
 "nbformat_minor": 5
}
