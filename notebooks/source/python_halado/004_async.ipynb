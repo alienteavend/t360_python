{
 "cells": [
  {
   "cell_type": "markdown",
   "id": "7e831baa",
   "metadata": {
    "nbgrader": {
     "grade": false,
     "grade_id": "cell-5375f4ecc23ddd68",
     "locked": true,
     "schema_version": 3,
     "solution": false,
     "task": false
    }
   },
   "source": [
    "# 1. feladatsor - Asszinkron programozás\n",
    "## Chat program szerver és kliens\n",
    "\n",
    "Készíts egy Python chat alkalmazást asyncio segitségével. Legyen külon egy kliens és egy sever modul. Tetszőleges üzenettel lehessen bontani a kapcsolatot. A chat üzenetekete a szerver és a kliens is a saját szemszögéből jelenítse meg.\n",
    "\n",
    "Ezeket a feladatokat nem tudod ebben a környezetben futtatni. A kódot külön fájlokban írd be saját környezetben, és vesd össze az itt található megoldással."
   ]
  },
  {
   "cell_type": "code",
   "execution_count": null,
   "id": "95f41ca7",
   "metadata": {
    "nbgrader": {
     "grade": true,
     "grade_id": "cell-9897d952a40b410e",
     "locked": false,
     "points": 0,
     "schema_version": 3,
     "solution": true,
     "task": false
    }
   },
   "outputs": [],
   "source": [
    "import asyncio\n",
    "import contextlib\n",
    "\n",
    "\n",
    "async def serve(reader, writer):\n",
    "    while True:\n",
    "        try:\n",
    "            print(\"Waiting for msg\")\n",
    "            request = await reader.readline()\n",
    "            print(\"Got msg\")\n",
    "        except ConnectionRefusedError:\n",
    "            print(\"Rekt\")\n",
    "            return\n",
    "\n",
    "        if request == b'x\\n':\n",
    "            return\n",
    "        else:\n",
    "            print(f'client> {request.decode(\"utf-8\")}')\n",
    "\n",
    "            msg = input('server?> ')\n",
    "            print(f'server> {msg}')\n",
    "            msg = msg + '\\n'\n",
    "            writer.write(msg.encode)\n",
    "\n",
    "\n",
    "async def launch(host, port):\n",
    "    server = await asyncio.start_server(serve, host, port)\n",
    "    await server.wait_closed()\n",
    "\n",
    "\n",
    "main = asyncio.ensure_future(launch('127.0.0.1', 1337))\n",
    "loop = asyncio.get_event_loop()\n",
    "\n",
    "with contextlib.closing(loop):\n",
    "    loop.run_until_complete(main)\n",
    "\n"
   ]
  },
  {
   "cell_type": "code",
   "execution_count": null,
   "id": "90ec803a",
   "metadata": {
    "nbgrader": {
     "grade": true,
     "grade_id": "cell-82217a505b64d24e",
     "locked": false,
     "points": 0,
     "schema_version": 3,
     "solution": true,
     "task": false
    }
   },
   "outputs": [],
   "source": [
    "import asyncio\n",
    "import contextlib\n",
    "\n",
    "\n",
    "async def client(host, port):\n",
    "    reader, writer = await asyncio.open_connection(host, port)\n",
    "    while True:\n",
    "        msg = input('client?> ')\n",
    "        writer.write(msg.encode('utf-8'))\n",
    "        response = await reader.readline()\n",
    "        if response == b'x\\n':\n",
    "            return\n",
    "        else:\n",
    "            print(f'server> {response.decode(\"utf-8\")}')\n",
    "\n",
    "\n",
    "main = asyncio.ensure_future(client('127.0.0.1', 1337))\n",
    "loop = asyncio.get_event_loop()\n",
    "\n",
    "with contextlib.closing(loop):\n",
    "    loop.run_until_complete(main)\n"
   ]
  },
  {
   "cell_type": "markdown",
   "id": "059768e9",
   "metadata": {
    "nbgrader": {
     "grade": false,
     "grade_id": "cell-9624a543ddb88ce9",
     "locked": true,
     "schema_version": 3,
     "solution": false,
     "task": false
    }
   },
   "source": [
    "# 2. feladatsor - RXPY reaktív programozás\n",
    "## Tőzsdei vevő jelző\n",
    "\n",
    "Készíts Python alkalmazást, ami az RxPy modul használatával valósít meg egy egyszerű tőzsdei vevő jelző rendszert.\n",
    "\n",
    "Legyen egy listád a különböző részvényekről:\n",
    "```python\n",
    "stocks = [\n",
    "{ 'TCKR' : 'APPL', 'PRICE': 200},\n",
    "{ 'TCKR' : 'GOOG', 'PRICE': 90},\n",
    "{ 'TCKR' : 'TSLA', 'PRICE': 120},\n",
    "{ 'TCKR' : 'MSFT', 'PRICE': 150},\n",
    "{ 'TCKR' : 'INTL', 'PRICE': 70},\n",
    "]\n",
    "```\n",
    "\n",
    "Készíts ebből egy observable forrást. A forrás küldjön instrukciókat a feliratkozottaknak (observer függvény) de csak akkor ha a részvény árfolyam éppen 100 USD felett van.\n",
    "\n",
    "Az observer függvényed és így a programod is ilyen kimenetet kell adjon:\n",
    "```text\n",
    "Received Instruction to buy APPL\n",
    "\n",
    "Received Instruction to buy TSLA\n",
    "\n",
    "Received Instruction to buy MSFT\n",
    "\n",
    "All Buy Instructions have been received\n",
    "\n",
    "```"
   ]
  },
  {
   "cell_type": "code",
   "execution_count": 4,
   "id": "743f545d",
   "metadata": {
    "nbgrader": {
     "grade": false,
     "grade_id": "cell-9fa7d20a5c2a5066",
     "locked": false,
     "schema_version": 3,
     "solution": true,
     "task": false
    }
   },
   "outputs": [
    {
     "name": "stdout",
     "output_type": "stream",
     "text": [
      "Received instruction to buy APPL\n",
      "Received instruction to buy TSLA\n",
      "Received instruction to buy MSFT\n",
      "All buy instructions have been received\n"
     ]
    },
    {
     "data": {
      "text/plain": [
       "<rx.disposable.disposable.Disposable at 0x7f2a8812cbb0>"
      ]
     },
     "execution_count": 4,
     "metadata": {},
     "output_type": "execute_result"
    }
   ],
   "source": [
    "import rx\n",
    "\n",
    "stocks = [\n",
    "{ 'TCKR' : 'APPL', 'PRICE': 200},\n",
    "{ 'TCKR' : 'GOOG', 'PRICE': 90},\n",
    "{ 'TCKR' : 'TSLA', 'PRICE': 120},\n",
    "{ 'TCKR' : 'MSFT', 'PRICE': 150},\n",
    "{ 'TCKR' : 'INTL', 'PRICE': 70},\n",
    "]\n",
    "\n",
    "def buy_stock_events(observer, scheduler):\n",
    "    for stock in stocks:\n",
    "        if stock['PRICE'] > 100:\n",
    "            observer.on_next(stock['TCKR'])\n",
    "    observer.on_completed()\n",
    "    \n",
    "source = rx.create(buy_stock_events)\n",
    "\n",
    "source.subscribe(\n",
    "    on_next=lambda value: print(f\"Received instruction to buy {value}\"),\n",
    "    on_completed=lambda: print(\"All buy instructions have been received\"),\n",
    "    on_error=lambda error: print(f\"Error occured {error}\")\n",
    ")"
   ]
  },
  {
   "cell_type": "code",
   "execution_count": 7,
   "id": "8e84b5e7",
   "metadata": {
    "nbgrader": {
     "grade": true,
     "grade_id": "cell-bd3e30a89ae3fbb3",
     "locked": true,
     "points": 1,
     "schema_version": 3,
     "solution": false,
     "task": false
    }
   },
   "outputs": [],
   "source": [
    "solution = %solution\n",
    "\n",
    "assert_equal(solution, ['Received instruction to buy APPL', 'Received instruction to buy TSLA', 'Received instruction to buy MSFT', 'All buy instructions have been received'])"
   ]
  }
 ],
 "metadata": {
  "celltoolbar": "Create Assignment",
  "kernelspec": {
   "display_name": "Python 3",
   "language": "python",
   "name": "python3"
  },
  "language_info": {
   "codemirror_mode": {
    "name": "ipython",
    "version": 3
   },
   "file_extension": ".py",
   "mimetype": "text/x-python",
   "name": "python",
   "nbconvert_exporter": "python",
   "pygments_lexer": "ipython3",
   "version": "3.9.2"
  }
 },
 "nbformat": 4,
 "nbformat_minor": 5
}
