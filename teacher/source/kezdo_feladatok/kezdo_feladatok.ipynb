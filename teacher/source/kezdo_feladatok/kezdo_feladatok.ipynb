{
 "cells": [
  {
   "cell_type": "markdown",
   "id": "28aab6f6",
   "metadata": {
    "nbgrader": {
     "grade": false,
     "grade_id": "cell-e407f50bf8af04f1",
     "locked": true,
     "schema_version": 3,
     "solution": false,
     "task": false
    }
   },
   "source": [
    "# Jupyter notebook bevezető\n",
    "Ez a munkafüzet egy interaktív felület, ahol a jelölt rubrikákba kódot írva le lehet futtatni azokat. Próbáljuk is ki:"
   ]
  },
  {
   "cell_type": "markdown",
   "id": "db4efb9b",
   "metadata": {
    "nbgrader": {
     "grade": false,
     "grade_id": "cell-cc2378db695577e3",
     "locked": true,
     "schema_version": 3,
     "solution": false,
     "task": false
    }
   },
   "source": [
    "# Fizz-buzz:\n",
    "Írjuk ki a számokat 1-100 ig (az 1 és a 100 is legyen benne), mindet új sorba.\n",
    "- Amikor 3-al osztható számot írnánk ki, akkor helyette írjuk, hogy: \"fizz\"\n",
    "- Amikor 5-el osztható számot írnánk ki, akkor helyette írjuk, hogy: \"buzz\"\n",
    "- Amikor 3-al és 5-el IS osztható számot írnánk ki, akkor helyette írjuk, hogy: \"fizzbuzz\""
   ]
  },
  {
   "cell_type": "code",
   "execution_count": 1,
   "id": "6be04902",
   "metadata": {
    "nbgrader": {
     "grade": false,
     "grade_id": "cell-28cccd25e0f1affd",
     "locked": true,
     "schema_version": 3,
     "solution": false,
     "task": false
    }
   },
   "outputs": [],
   "source": [
    "# Ez a resz csak az automatikus tesztekhez kell, futtassuk le\n",
    "from io import StringIO \n",
    "import sys\n",
    "import base64\n",
    "\n",
    "\n",
    "def decode(target: str) -> str:\n",
    "    decodedBytes = base64.b64decode(target)\n",
    "    decodedStr = str(decodedBytes, \"utf-8\")\n",
    "    return decodedStr\n",
    "\n",
    "\n",
    "def encode(target: str) -> str:\n",
    "    encodedBytes = base64.b64encode(target.encode(\"utf-8\"))\n",
    "    encodedStr = str(encodedBytes, \"utf-8\")\n",
    "    return encodedStr\n",
    "\n",
    "\n",
    "class Solution(list):\n",
    "    def __enter__(self):\n",
    "        self._stdout = sys.stdout\n",
    "        sys.stdout = self._stringio = StringIO()\n",
    "        return self\n",
    "    def __exit__(self, *args):\n",
    "        self.extend(self._stringio.getvalue().splitlines())\n",
    "        del self._stringio    # free up some memory\n",
    "        sys.stdout = self._stdout"
   ]
  },
  {
   "cell_type": "code",
   "execution_count": 2,
   "id": "6a18ac69",
   "metadata": {
    "nbgrader": {
     "grade": false,
     "grade_id": "fizzbuzz",
     "locked": false,
     "schema_version": 3,
     "solution": true,
     "task": false
    }
   },
   "outputs": [
    {
     "name": "stdout",
     "output_type": "stream",
     "text": [
      "['1', '2', 'fizz', '4', 'buzz', 'fizz', '7', '8', 'fizz', 'buzz', '11', 'fizz', '13', '14', 'fizzbuzz', '16', '17', 'fizz', '19', 'buzz', 'fizz', '22', '23', 'fizz', 'buzz', '26', 'fizz', '28', '29', 'fizzbuzz', '31', '32', 'fizz', '34', 'buzz', 'fizz', '37', '38', 'fizz', 'buzz', '41', 'fizz', '43', '44', 'fizzbuzz', '46', '47', 'fizz', '49', 'buzz', 'fizz', '52', '53', 'fizz', 'buzz', '56', 'fizz', '58', '59', 'fizzbuzz', '61', '62', 'fizz', '64', 'buzz', 'fizz', '67', '68', 'fizz', 'buzz', '71', 'fizz', '73', '74', 'fizzbuzz', '76', '77', 'fizz', '79', 'buzz', 'fizz', '82', '83', 'fizz', 'buzz', '86', 'fizz', '88', '89', 'fizzbuzz', '91', '92', 'fizz', '94', 'buzz', 'fizz', '97', '98', 'fizz', 'buzz']\n"
     ]
    }
   ],
   "source": [
    "with Solution() as solution:\n",
    "    ### BEGIN SOLUTION\n",
    "    for i in range(1,101):\n",
    "        if i % 3 == 0 and i % 5 == 0:\n",
    "            print(\"fizzbuzz\")\n",
    "        elif i % 3 == 0:\n",
    "            print(\"fizz\")\n",
    "        elif i % 5 == 0:\n",
    "            print(\"buzz\")\n",
    "        else:\n",
    "            print(i)\n",
    "    ### END SOLUTION\n",
    "print(solution)"
   ]
  },
  {
   "cell_type": "code",
   "execution_count": 3,
   "id": "6dc1bfe5",
   "metadata": {
    "nbgrader": {
     "grade": true,
     "grade_id": "fizzbuzz_test",
     "locked": true,
     "points": 5,
     "schema_version": 3,
     "solution": false,
     "task": false
    }
   },
   "outputs": [],
   "source": [
    "from nose.tools import assert_equal, assert_true\n",
    "\n",
    "assert_equal(solution[0], '1')\n",
    "assert_equal(solution[1], '2')\n",
    "assert_equal(solution[2], 'fizz')\n",
    "assert_equal(solution[3], '4')\n",
    "assert_equal(solution[4], 'buzz')\n",
    "assert_equal(solution[14], 'fizzbuzz')\n",
    "assert_equal(\n",
    "            \"\\n\".join(solution)\n",
    "            , decode(\"MQoyCmZpenoKNApidXp6CmZpenoKNwo4CmZpenoKYnV6egoxMQpmaXp6CjEzCjE0CmZpenpidXp6CjE2CjE3CmZpenoKMTkKYnV6egpmaXp6CjIyCjIzCmZpenoKYnV6egoyNgpmaXp6CjI4CjI5CmZpenpidXp6CjMxCjMyCmZpenoKMzQKYnV6egpmaXp6CjM3CjM4CmZpenoKYnV6ego0MQpmaXp6CjQzCjQ0CmZpenpidXp6CjQ2CjQ3CmZpenoKNDkKYnV6egpmaXp6CjUyCjUzCmZpenoKYnV6ego1NgpmaXp6CjU4CjU5CmZpenpidXp6CjYxCjYyCmZpenoKNjQKYnV6egpmaXp6CjY3CjY4CmZpenoKYnV6ego3MQpmaXp6CjczCjc0CmZpenpidXp6Cjc2Cjc3CmZpenoKNzkKYnV6egpmaXp6CjgyCjgzCmZpenoKYnV6ego4NgpmaXp6Cjg4Cjg5CmZpenpidXp6CjkxCjkyCmZpenoKOTQKYnV6egpmaXp6Cjk3Cjk4CmZpenoKYnV6eg==\")\n",
    "        )"
   ]
  }
 ],
 "metadata": {
  "celltoolbar": "Create Assignment",
  "kernelspec": {
   "display_name": "Python 3",
   "language": "python",
   "name": "python3"
  },
  "language_info": {
   "codemirror_mode": {
    "name": "ipython",
    "version": 3
   },
   "file_extension": ".py",
   "mimetype": "text/x-python",
   "name": "python",
   "nbconvert_exporter": "python",
   "pygments_lexer": "ipython3",
   "version": "3.9.2"
  }
 },
 "nbformat": 4,
 "nbformat_minor": 5
}
