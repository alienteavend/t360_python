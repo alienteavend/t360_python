{
 "cells": [
  {
   "cell_type": "markdown",
   "id": "28aab6f6",
   "metadata": {
    "deletable": false,
    "editable": false,
    "nbgrader": {
     "cell_type": "markdown",
     "checksum": "be9ce184928bbea868c74575f136c4e6",
     "grade": false,
     "grade_id": "cell-e407f50bf8af04f1",
     "locked": true,
     "schema_version": 3,
     "solution": false,
     "task": false
    }
   },
   "source": [
    "# Jupyter notebook bevezető\n",
    "Ez a munkafüzet egy interaktív felület, ahol a jelölt rubrikákba kódot írva le lehet futtatni azokat. Az adott kódrészletet futtatni a felső menüben található gombokkal lehet.\n",
    "\n",
    "A megoldásaidat az adott cellába írd, töröld a\n",
    "```\n",
    "    # YOUR CODE HERE\n",
    "    raise NotImplementedError()\n",
    "```\n",
    "részt. Megoldás után az adott és a következő cellát futtatsd (ezek az automatikus tesztek). Ha nem ír semmit, akkor jó a megoldás, ha hibát kapsz akkor javítsd az megoldást és futtasd mindkét cellát újra."
   ]
  },
  {
   "cell_type": "code",
   "execution_count": null,
   "id": "f4566c83",
   "metadata": {
    "deletable": false,
    "editable": false,
    "nbgrader": {
     "cell_type": "code",
     "checksum": "7798b68ab73eb66bfe3b6e1e2d9405af",
     "grade": false,
     "grade_id": "cell-10475db7f8a45046",
     "locked": true,
     "schema_version": 3,
     "solution": false,
     "task": false
    }
   },
   "outputs": [],
   "source": [
    "# Ez a cella az eredmenyek ellenorzesehez kell, csak futtasd le\n",
    "from io import StringIO \n",
    "import sys\n",
    "\n",
    "class Solution(list):\n",
    "    def __enter__(self):\n",
    "        self._stdout = sys.stdout\n",
    "        sys.stdout = self._stringio = StringIO()\n",
    "        return self\n",
    "    def __exit__(self, *args):\n",
    "        self.extend(self._stringio.getvalue().splitlines())\n",
    "        del self._stringio\n",
    "        sys.stdout = self._stdout"
   ]
  },
  {
   "cell_type": "markdown",
   "id": "54957ef5",
   "metadata": {
    "deletable": false,
    "editable": false,
    "nbgrader": {
     "cell_type": "markdown",
     "checksum": "ee774c403ca2fa4c9e4201c2916afb39",
     "grade": false,
     "grade_id": "cell-31cf552956495c14",
     "locked": true,
     "schema_version": 3,
     "solution": false,
     "task": false
    }
   },
   "source": [
    "# 1. feladatsor - egyszerű utasítások \n",
    "## 1/a\n",
    "A 90m<sup>2</sup>-es szobádat akarod kfiesteni, egy vödör festék 15<sup>2</sup> kifestésére elég és 5200 Ft-ba kerül.\n",
    "\n",
    "**Mennyibe fog kerülni a teljes szoba kifestése?**"
   ]
  },
  {
   "cell_type": "code",
   "execution_count": null,
   "id": "6c74a977",
   "metadata": {
    "deletable": false,
    "nbgrader": {
     "cell_type": "code",
     "checksum": "98fd028450f9fc9b5ceb6c9d070b402b",
     "grade": false,
     "grade_id": "1_feladat",
     "locked": false,
     "schema_version": 3,
     "solution": true,
     "task": false
    }
   },
   "outputs": [],
   "source": [
    "with Solution() as solution:\n",
    "    \n",
    "    # YOUR CODE HERE\n",
    "    raise NotImplementedError()\n",
    "    \n",
    "print(solution[0])"
   ]
  },
  {
   "cell_type": "code",
   "execution_count": null,
   "id": "8af76d9f",
   "metadata": {
    "deletable": false,
    "editable": false,
    "nbgrader": {
     "cell_type": "code",
     "checksum": "d29e0caf76c7ad995e419ccbbfb958fc",
     "grade": true,
     "grade_id": "1_feladat_test",
     "locked": true,
     "points": 1,
     "schema_version": 3,
     "solution": false,
     "task": false
    }
   },
   "outputs": [],
   "source": [
    "from nose.tools import assert_equal, assert_true\n",
    "\n",
    "assert_true(len(solution))\n",
    "assert_equal(float(solution[0]),  31200)"
   ]
  },
  {
   "cell_type": "markdown",
   "id": "7e103d17",
   "metadata": {
    "deletable": false,
    "editable": false,
    "nbgrader": {
     "cell_type": "markdown",
     "checksum": "fec0c250abe5d173cb8df659b16b2af0",
     "grade": false,
     "grade_id": "cell-f6fa8674c87abe4a",
     "locked": true,
     "schema_version": 3,
     "solution": false,
     "task": false
    }
   },
   "source": [
    "## 1/b\n",
    "A festő egy m<sup>2</sup> -t 12 perc alatt fest le, de az egész szobát kétszer festi át. Ha nettó 1800 forintos órabérrel dolgozik, akkor mennyi lesz a nettó végösszeg?\n",
    "\n",
    "Mennyi lesz 27% áfával a végösszeg?"
   ]
  },
  {
   "cell_type": "code",
   "execution_count": null,
   "id": "d82c95e9",
   "metadata": {
    "deletable": false,
    "nbgrader": {
     "cell_type": "code",
     "checksum": "c0f963880036fa62db834ebb4fabf1b3",
     "grade": false,
     "grade_id": "2_feladat",
     "locked": false,
     "schema_version": 3,
     "solution": true,
     "task": false
    }
   },
   "outputs": [],
   "source": [
    "with Solution() as solution:\n",
    "    \n",
    "    # YOUR CODE HERE\n",
    "    raise NotImplementedError()\n",
    "    \n",
    "print(solution[0])\n",
    "print(solution[1])"
   ]
  },
  {
   "cell_type": "code",
   "execution_count": null,
   "id": "e08e1808",
   "metadata": {
    "deletable": false,
    "editable": false,
    "nbgrader": {
     "cell_type": "code",
     "checksum": "5b1e2b225bf526a317a9a1bfe8e78654",
     "grade": true,
     "grade_id": "2_feladat_test",
     "locked": true,
     "points": 1,
     "schema_version": 3,
     "solution": false,
     "task": false
    }
   },
   "outputs": [],
   "source": [
    "from nose.tools import assert_equal, assert_true\n",
    "\n",
    "assert_true(len(solution) == 2)\n",
    "assert_equal(float(solution[0]),  13500)\n",
    "assert_equal(float(solution[1]),  17145)"
   ]
  },
  {
   "cell_type": "markdown",
   "id": "d7399ca0",
   "metadata": {
    "deletable": false,
    "editable": false,
    "nbgrader": {
     "cell_type": "markdown",
     "checksum": "403b65d6331fb86ad4b0ed3de844645a",
     "grade": false,
     "grade_id": "cell-785eec469a702aba",
     "locked": true,
     "schema_version": 3,
     "solution": false,
     "task": false
    }
   },
   "source": [
    "## 1/c\n",
    "Nagymama 30kg paradicsomot akar befőzni. Kilónként 0.8 liter paradicsompüré lesz a főzés során, és ezeket 6 decis üvegekbe tölti.\n",
    "\n",
    "**Hány üveget tud megtölteni teljesen?**"
   ]
  },
  {
   "cell_type": "code",
   "execution_count": null,
   "id": "65b119a8",
   "metadata": {
    "deletable": false,
    "nbgrader": {
     "cell_type": "code",
     "checksum": "0b9d235901bebe33818873ce140f917d",
     "grade": false,
     "grade_id": "cell-1742f85bb6e44a40",
     "locked": false,
     "schema_version": 3,
     "solution": true,
     "task": false
    }
   },
   "outputs": [],
   "source": [
    "with Solution() as solution:\n",
    "    \n",
    "    # YOUR CODE HERE\n",
    "    raise NotImplementedError()\n",
    "    \n",
    "print(solution[0])"
   ]
  },
  {
   "cell_type": "code",
   "execution_count": null,
   "id": "cb4ef58b",
   "metadata": {
    "deletable": false,
    "editable": false,
    "nbgrader": {
     "cell_type": "code",
     "checksum": "5ad43aab1c16980fa5480690680e325e",
     "grade": true,
     "grade_id": "cell-ca7425aa985db6c1",
     "locked": true,
     "points": 1,
     "schema_version": 3,
     "solution": false,
     "task": false
    }
   },
   "outputs": [],
   "source": [
    "from nose.tools import assert_equal, assert_true\n",
    "\n",
    "assert_true(len(solution))\n",
    "assert_equal(float(solution[0]),  40)"
   ]
  },
  {
   "cell_type": "markdown",
   "id": "bb360da6",
   "metadata": {
    "deletable": false,
    "editable": false,
    "nbgrader": {
     "cell_type": "markdown",
     "checksum": "f16333aa6ba248fcf900cd42a35021b5",
     "grade": false,
     "grade_id": "cell-054c645a2db4c5bb",
     "locked": true,
     "schema_version": 3,
     "solution": false,
     "task": false
    }
   },
   "source": [
    "## 1/d\n",
    "Az autód 7 litert fogyaszt országúton és 9-et városban. A hévízi üdülésedre 170 kilómétert utazol országúton és 35-öt városban.\n",
    "\n",
    "**Mennyit fogyaszt az autód csak oda?**\n",
    "\n",
    "**Mennyit fogyaszt az autód oda-vissza?**\n",
    "\n",
    "**Mennybe kerül a teljes út, ha 350 forint a benzin?**"
   ]
  },
  {
   "cell_type": "code",
   "execution_count": null,
   "id": "bcecc99e",
   "metadata": {
    "deletable": false,
    "nbgrader": {
     "cell_type": "code",
     "checksum": "c65b802f968f0fe7ea4476412558d86e",
     "grade": false,
     "grade_id": "cell-7a92284df926610d",
     "locked": false,
     "schema_version": 3,
     "solution": true,
     "task": false
    }
   },
   "outputs": [],
   "source": [
    "with Solution() as solution:\n",
    "    \n",
    "    # YOUR CODE HERE\n",
    "    raise NotImplementedError()\n",
    "    \n",
    "print(solution[0])\n",
    "print(solution[1])\n",
    "print(solution[2])"
   ]
  },
  {
   "cell_type": "code",
   "execution_count": null,
   "id": "bc471266",
   "metadata": {
    "deletable": false,
    "editable": false,
    "nbgrader": {
     "cell_type": "code",
     "checksum": "a7aa6eef7346c32e14a583808fd522cf",
     "grade": true,
     "grade_id": "cell-3a685528f6ed9482",
     "locked": true,
     "points": 1,
     "schema_version": 3,
     "solution": false,
     "task": false
    }
   },
   "outputs": [],
   "source": [
    "from nose.tools import assert_equal, assert_true\n",
    "\n",
    "assert_true(len(solution) == 3)\n",
    "assert_equal(float(solution[0]),  15.05)\n",
    "assert_equal(float(solution[1]),  30.1)\n",
    "assert_equal(float(solution[2]),  10535.0)"
   ]
  },
  {
   "cell_type": "markdown",
   "id": "fc6e104f",
   "metadata": {
    "deletable": false,
    "editable": false,
    "nbgrader": {
     "cell_type": "markdown",
     "checksum": "cee3d5a03a2d6c5899983be4715abf89",
     "grade": false,
     "grade_id": "cell-5b4fafbdecdafa8f",
     "locked": true,
     "schema_version": 3,
     "solution": false,
     "task": false
    }
   },
   "source": [
    "# 2. feladatsor - változók\n",
    "\n",
    "## 2/a\n",
    "\n",
    "**Oldd meg az 1/d feladatot változókkal.** A szállás és étekezés a kétnapos hétvégére 35 000Ft. Összesen 70 000Ft-od van az utazásra.\n",
    "\n",
    "**El tudsz-e menni az útra?**"
   ]
  },
  {
   "cell_type": "code",
   "execution_count": null,
   "id": "ab3cc4f4",
   "metadata": {
    "deletable": false,
    "nbgrader": {
     "cell_type": "code",
     "checksum": "9fe559bee5ddf657e29b033c6cbae9c9",
     "grade": false,
     "grade_id": "cell-09329f6eca268563",
     "locked": false,
     "schema_version": 3,
     "solution": true,
     "task": false
    }
   },
   "outputs": [],
   "source": [
    "# A csak_oda, oda_vissza, teljes_ut_ara, el_tudok_e_menni nevu valtozoba szamoljuk ki az eredmenyt\n",
    "csak_oda = 0\n",
    "oda_vissza = 0\n",
    "teljes_ut_ara = 0\n",
    "el_tudok_e_menni = False\n",
    "\n",
    "# YOUR CODE HERE\n",
    "raise NotImplementedError()\n",
    "\n",
    "print(csak_oda)\n",
    "print(oda_vissza)\n",
    "print(teljes_ut_ara)\n",
    "print(el_tudok_e_menni)"
   ]
  },
  {
   "cell_type": "code",
   "execution_count": null,
   "id": "f4622aee",
   "metadata": {
    "deletable": false,
    "editable": false,
    "nbgrader": {
     "cell_type": "code",
     "checksum": "5ae9244009e9627a15006f8314b379c0",
     "grade": true,
     "grade_id": "cell-6cb6b031ec2d8245",
     "locked": true,
     "points": 1,
     "schema_version": 3,
     "solution": false,
     "task": false
    }
   },
   "outputs": [],
   "source": [
    "from nose.tools import assert_equal, assert_true\n",
    "\n",
    "assert_equal(csak_oda,  15.05)\n",
    "assert_equal(oda_vissza,  30.1)\n",
    "assert_equal(teljes_ut_ara,  10535.0)\n",
    "assert_equal(el_tudok_e_menni,  True)"
   ]
  },
  {
   "cell_type": "markdown",
   "id": "17229aa0",
   "metadata": {
    "deletable": false,
    "editable": false,
    "nbgrader": {
     "cell_type": "markdown",
     "checksum": "d4e1a59e914d53cb539e9b51004c7c6b",
     "grade": false,
     "grade_id": "cell-10bf01555bb54b15",
     "locked": true,
     "schema_version": 3,
     "solution": false,
     "task": false
    }
   },
   "source": [
    "## 2/b\n",
    "\n",
    "Ments el egy jelszót a \"password\" nevű változóban! A jelszónak legalább 8 karakter hosszúnak kell lennie, hogy biztonságosnak tekintsük. \n",
    "\n",
    "**Írj egy kifejezést, amely megvizsgálja, hogy biztonságos-e a megadott jelszó.**"
   ]
  },
  {
   "cell_type": "code",
   "execution_count": null,
   "id": "c52d08ef",
   "metadata": {
    "deletable": false,
    "nbgrader": {
     "cell_type": "code",
     "checksum": "a4aff04bc3aff12bd76e5fa0087cb01a",
     "grade": false,
     "grade_id": "cell-64771b0dd0200ea6",
     "locked": false,
     "schema_version": 3,
     "solution": true,
     "task": false
    }
   },
   "outputs": [],
   "source": [
    "with Solution() as solution:\n",
    "    \n",
    "    # YOUR CODE HERE\n",
    "    raise NotImplementedError()\n",
    "    \n",
    "print(solution[0])    "
   ]
  },
  {
   "cell_type": "code",
   "execution_count": null,
   "id": "49c03417",
   "metadata": {
    "deletable": false,
    "editable": false,
    "nbgrader": {
     "cell_type": "code",
     "checksum": "4594de373094aaa22ad99ec58099bfc2",
     "grade": true,
     "grade_id": "cell-fac21acc0a8d7946",
     "locked": true,
     "points": 1,
     "schema_version": 3,
     "solution": false,
     "task": false
    }
   },
   "outputs": [],
   "source": [
    "from nose.tools import assert_equal, assert_true\n",
    "\n",
    "assert_true('password' in locals())\n",
    "assert_true(len(solution))\n",
    "\n",
    "if len(password) > 8:\n",
    "    assert_equal(solution[0],  'True')\n",
    "else:\n",
    "    assert_equal(solution[0],  'False')    "
   ]
  },
  {
   "cell_type": "markdown",
   "id": "038f7855",
   "metadata": {
    "deletable": false,
    "editable": false,
    "nbgrader": {
     "cell_type": "markdown",
     "checksum": "0fc767b6b11751ecb786892745dc0b8a",
     "grade": false,
     "grade_id": "cell-8130721d19f9e307",
     "locked": true,
     "schema_version": 3,
     "solution": false,
     "task": false
    }
   },
   "source": [
    "## 2/c\n",
    "\n",
    "1 dm<sup>3</sup> egységnyi alumínium tömege 2,7kg, a nikkelé pedig 8,8kg.\n",
    "\n",
    "**Írasd ki: nehezebb-e 0,34 dm<sup>3</sup> nikkel, mint 1,23 dm<sup>3</sup> alumínium?**\n",
    "\n",
    "_(Ne feledd, Pythonban tizedespontot kell használnod tizedesvessző helyett)_"
   ]
  },
  {
   "cell_type": "code",
   "execution_count": null,
   "id": "f8c2b202",
   "metadata": {
    "deletable": false,
    "nbgrader": {
     "cell_type": "code",
     "checksum": "7330b5d57ba8d7755c759785f6e1e181",
     "grade": false,
     "grade_id": "cell-c984a0b1b6ad2fcc",
     "locked": false,
     "schema_version": 3,
     "solution": true,
     "task": false
    }
   },
   "outputs": [],
   "source": [
    "with Solution() as solution:\n",
    "    \n",
    "    # YOUR CODE HERE\n",
    "    raise NotImplementedError()\n",
    "    \n",
    "print(solution[0])"
   ]
  },
  {
   "cell_type": "code",
   "execution_count": null,
   "id": "a9d87705",
   "metadata": {
    "deletable": false,
    "editable": false,
    "nbgrader": {
     "cell_type": "code",
     "checksum": "69bf753c36e449f44d616ee9ad6f00bc",
     "grade": true,
     "grade_id": "cell-27b9b29d44a50d50",
     "locked": true,
     "points": 1,
     "schema_version": 3,
     "solution": false,
     "task": false
    }
   },
   "outputs": [],
   "source": [
    "from nose.tools import assert_equal, assert_true\n",
    "\n",
    "assert_true(len(solution))\n",
    "assert_equal(solution[0],  'True')"
   ]
  },
  {
   "cell_type": "markdown",
   "id": "592cccc7",
   "metadata": {
    "deletable": false,
    "editable": false,
    "nbgrader": {
     "cell_type": "markdown",
     "checksum": "b67a3b138e44bc2addf69acad12be6d4",
     "grade": false,
     "grade_id": "cell-18cbb6649ca34bfa",
     "locked": true,
     "schema_version": 3,
     "solution": false,
     "task": false
    }
   },
   "source": [
    "## 2/d\n",
    "\n",
    "A villanyórád 25 amperes. (Vagyis a 230V hálózati feszültséggel 25 * 230 Watt teljesítményt tud kiszolgálni)\n",
    "\n",
    "A felkapcsolt világítást 5 db 30 wattos izzó biztosítja, a nyári meleg ellen bekapcsoltad a klímádat, ez jelenleg 1500 watton üzemel, illetve az 1200 wattos mosógéped is dolgozik.\n",
    "\n",
    "**Írasd ki: Bekapcsolhatod-e a 2000 wattos vasalógépedet, vagy kell tőle tartanod, hogy lekapcsol a megszakító?**"
   ]
  },
  {
   "cell_type": "code",
   "execution_count": null,
   "id": "037b920d",
   "metadata": {
    "deletable": false,
    "nbgrader": {
     "cell_type": "code",
     "checksum": "6b7ed7861a40b36a713c79e30dee55e6",
     "grade": false,
     "grade_id": "cell-2066d48477a99fc8",
     "locked": false,
     "schema_version": 3,
     "solution": true,
     "task": false
    }
   },
   "outputs": [],
   "source": [
    "with Solution() as solution:\n",
    "    \n",
    "    # YOUR CODE HERE\n",
    "    raise NotImplementedError()\n",
    "    \n",
    "print(solution[0])"
   ]
  },
  {
   "cell_type": "code",
   "execution_count": null,
   "id": "cbf055db",
   "metadata": {
    "deletable": false,
    "editable": false,
    "nbgrader": {
     "cell_type": "code",
     "checksum": "4caf6281bbbb6ef479a1755ac44c24b6",
     "grade": true,
     "grade_id": "cell-207096d8c75c12a1",
     "locked": true,
     "points": 1,
     "schema_version": 3,
     "solution": false,
     "task": false
    }
   },
   "outputs": [],
   "source": [
    "from nose.tools import assert_equal, assert_true\n",
    "\n",
    "assert_true(len(solution))\n",
    "assert_equal(solution[0],  'True')"
   ]
  },
  {
   "cell_type": "markdown",
   "id": "29701f79",
   "metadata": {
    "deletable": false,
    "editable": false,
    "nbgrader": {
     "cell_type": "markdown",
     "checksum": "771b5817d51533d0ffba09a17c1ad302",
     "grade": false,
     "grade_id": "cell-a8cb559ad885c4f6",
     "locked": true,
     "schema_version": 3,
     "solution": false,
     "task": false
    }
   },
   "source": [
    "# 3. feladatsor - String, operátorok, vezérlés\n",
    "\n",
    "## 3/a\n",
    "\n",
    "**Kérd be a felhasználó életkorát és kérdezd meg mit iszik!**\n",
    "\n",
    "Kétféle italt ismerünk: sör és kóla\n",
    "    \n",
    "Ha a felhasználó 18 év alatti és sört kér, közöld vele hogy \"Sajnos nem adhatok.\"\n",
    "\n",
    "Ha a felhasználó 60 feletti és kólát kér, közöld vele, hogy \"A koffein megemelheti a vérnyomását, sajnos nem adhatok.\"\n",
    "\n",
    "Ha ismeretlen italt adott meg, akkor írd ki, hogy \"Sajnos csak sört és kólát tudok adni.\"\n",
    "\n",
    "Minden más esetben írd ki, hogy \"Parancsoljon, itt a sör.\" vagy \"Parancsoljon, itt a kóla\".\n",
    "\n",
    "\n",
    "_Ahol szükséges, ne felejtsd el konvertálni az értékeket_"
   ]
  },
  {
   "cell_type": "code",
   "execution_count": null,
   "id": "04b28426",
   "metadata": {
    "deletable": false,
    "nbgrader": {
     "cell_type": "code",
     "checksum": "8a86f44b004f45bc5584bb3146f7c75e",
     "grade": false,
     "grade_id": "cell-0991a3ca87d6d839",
     "locked": false,
     "schema_version": 3,
     "solution": true,
     "task": false
    }
   },
   "outputs": [],
   "source": [
    "eletkor = 0\n",
    "ital = \"\"\n",
    "\n",
    "with Solution() as solution:\n",
    "    \n",
    "    # YOUR CODE HERE\n",
    "    raise NotImplementedError()\n",
    "    \n",
    "print(solution)"
   ]
  },
  {
   "cell_type": "code",
   "execution_count": null,
   "id": "474cac89",
   "metadata": {
    "deletable": false,
    "editable": false,
    "nbgrader": {
     "cell_type": "code",
     "checksum": "3b81ff39ba0f1858d1c0f96f7e57f9e9",
     "grade": true,
     "grade_id": "cell-fded93d3cf780074",
     "locked": true,
     "points": 1,
     "schema_version": 3,
     "solution": false,
     "task": false
    }
   },
   "outputs": [],
   "source": [
    "from nose.tools import assert_equal, assert_true\n",
    "\n",
    "assert_true(len(solution))\n",
    "\n",
    "if eletkor < 18 and ital == \"sör\":\n",
    "    assert_equal(solution[0], \"Sajnos nem adhatok.\")\n",
    "elif eletkor > 60 and ital == \"kóla\":\n",
    "    assert_equal(solution[0], \"A koffein megemelheti a vérnyomását, sajnos nem adhatok.\")\n",
    "elif ital != \"sör\" or ital != \"kóla\":\n",
    "    assert_equal(solution[0], \"Sajnos csak sört és kólát tudok adni.\")\n",
    "else:\n",
    "    assert_equal(solution[0], f\"Parancsoljon, itt a {ital}.\")"
   ]
  },
  {
   "cell_type": "markdown",
   "id": "c7f3deb7",
   "metadata": {
    "deletable": false,
    "editable": false,
    "nbgrader": {
     "cell_type": "markdown",
     "checksum": "f2a50b57b78560760a86cfb67414a879",
     "grade": false,
     "grade_id": "cell-49cb5194bac7575a",
     "locked": true,
     "schema_version": 3,
     "solution": false,
     "task": false
    }
   },
   "source": [
    "## 3/b\n",
    "\n",
    "Oldd meg a 2/a (üzemanyag fogyasztás) feladatot úgy, hogz nem előre megadott értékekkel (országúti fogyasztás, országúto megtett út, városi fogyasztás, városban megtetett út, benzin ára) dolgozol, hanem ezeket a felhasználótól kéred be.\n",
    "\n",
    "_Ahol szükséges, ne felejtsd el konvertálni az értékeket_"
   ]
  },
  {
   "cell_type": "code",
   "execution_count": null,
   "id": "bb33ddb1",
   "metadata": {
    "deletable": false,
    "nbgrader": {
     "cell_type": "code",
     "checksum": "1c70692617f336a2f863c9c47b9fa2df",
     "grade": false,
     "grade_id": "cell-0401409948bd40f0",
     "locked": false,
     "schema_version": 3,
     "solution": true,
     "task": false
    }
   },
   "outputs": [],
   "source": [
    "# A kovetkezo valtozokba kerjuk be az adatokat\n",
    "orszaguti_km = 0\n",
    "orszaguti_fogyasztas = 0\n",
    "varosi_km = 0\n",
    "varosi_fogyasztas = 0\n",
    "benzin_ara = 0\n",
    "\n",
    "# A csak_oda, oda_vissza, teljes_ut_ara, el_tudok_e_menni nevu valtozoba szamoljuk ki az eredmenyt\n",
    "csak_oda = 0\n",
    "oda_vissza = 0\n",
    "teljes_ut_ara = 0\n",
    "el_tudok_e_menni = False\n",
    "\n",
    "# YOUR CODE HERE\n",
    "raise NotImplementedError()\n",
    "\n",
    "print(csak_oda)\n",
    "print(oda_vissza)\n",
    "print(teljes_ut_ara)\n",
    "print(el_tudok_e_menni)"
   ]
  },
  {
   "cell_type": "code",
   "execution_count": null,
   "id": "d7660306",
   "metadata": {
    "deletable": false,
    "editable": false,
    "nbgrader": {
     "cell_type": "code",
     "checksum": "c717cd374600fc2127ed83c196e6108b",
     "grade": true,
     "grade_id": "cell-a7de36810d308589",
     "locked": true,
     "points": 1,
     "schema_version": 3,
     "solution": false,
     "task": false
    }
   },
   "outputs": [],
   "source": [
    "from nose.tools import assert_equal, assert_true\n",
    "\n",
    "assert_equal(csak_oda,  orszaguti_fogyasztas * orszaguti_km/100 + varosi_km/100 * varosi_fogyasztas)\n",
    "assert_equal(oda_vissza,  csak_oda * 2)\n",
    "assert_equal(teljes_ut_ara,  oda_vissza * 350)\n",
    "assert_equal(el_tudok_e_menni,  70000 > teljes_ut_ara + 35000)"
   ]
  }
 ],
 "metadata": {
  "kernelspec": {
   "display_name": "Python 3",
   "language": "python",
   "name": "python3"
  },
  "language_info": {
   "codemirror_mode": {
    "name": "ipython",
    "version": 3
   },
   "file_extension": ".py",
   "mimetype": "text/x-python",
   "name": "python",
   "nbconvert_exporter": "python",
   "pygments_lexer": "ipython3",
   "version": "3.9.2"
  }
 },
 "nbformat": 4,
 "nbformat_minor": 5
}
